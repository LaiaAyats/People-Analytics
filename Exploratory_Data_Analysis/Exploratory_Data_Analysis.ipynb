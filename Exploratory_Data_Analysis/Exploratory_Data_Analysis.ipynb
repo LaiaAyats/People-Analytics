{
 "cells": [
  {
   "cell_type": "code",
   "execution_count": 1,
   "metadata": {},
   "outputs": [],
   "source": [
    "# Libraries \n",
    "# -----------------------------------------------------------------------\n",
    "import pandas as pd\n",
    "import numpy as np\n",
    "from auto_eda import AutoEDA\n",
    "\n",
    "# Configuration\n",
    "# -----------------------------------------------------------------------\n",
    "pd.set_option('display.max_columns', None)\n",
    "# pd.set_option('display.max_colwidth', None)\n",
    "# pd.set_option('display.max_rows', None)"
   ]
  },
  {
   "cell_type": "code",
   "execution_count": 2,
   "metadata": {},
   "outputs": [
    {
     "name": "stdout",
     "output_type": "stream",
     "text": [
      "DataFrame Information:\n",
      "<class 'pandas.core.frame.DataFrame'>\n",
      "Index: 1614 entries, 0 to 1613\n",
      "Data columns (total 41 columns):\n",
      " #   Column                    Non-Null Count  Dtype  \n",
      "---  ------                    --------------  -----  \n",
      " 0   Age                       1614 non-null   object \n",
      " 1   Attrition                 1614 non-null   object \n",
      " 2   BusinessTravel            842 non-null    object \n",
      " 3   DailyRate                 1614 non-null   object \n",
      " 4   Department                302 non-null    object \n",
      " 5   DistanceFromHome          1614 non-null   int64  \n",
      " 6   Education                 1614 non-null   int64  \n",
      " 7   EducationField            869 non-null    object \n",
      " 8   employeecount             1614 non-null   int64  \n",
      " 9   employeenumber            1183 non-null   object \n",
      " 10  EnvironmentSatisfaction   1614 non-null   int64  \n",
      " 11  Gender                    1614 non-null   int64  \n",
      " 12  HourlyRate                1614 non-null   object \n",
      " 13  JobInvolvement            1614 non-null   int64  \n",
      " 14  JobLevel                  1614 non-null   int64  \n",
      " 15  JobRole                   1614 non-null   object \n",
      " 16  JobSatisfaction           1614 non-null   int64  \n",
      " 17  MaritalStatus             963 non-null    object \n",
      " 18  MonthlyIncome             771 non-null    object \n",
      " 19  MonthlyRate               1614 non-null   int64  \n",
      " 20  NUMCOMPANIESWORKED        1614 non-null   int64  \n",
      " 21  Over18                    713 non-null    object \n",
      " 22  OverTime                  938 non-null    object \n",
      " 23  PercentSalaryHike         1614 non-null   int64  \n",
      " 24  PerformanceRating         1419 non-null   object \n",
      " 25  RelationshipSatisfaction  1614 non-null   int64  \n",
      " 26  StandardHours             419 non-null    object \n",
      " 27  StockOptionLevel          1614 non-null   int64  \n",
      " 28  TOTALWORKINGYEARS         1088 non-null   object \n",
      " 29  TrainingTimesLastYear     1614 non-null   int64  \n",
      " 30  WORKLIFEBALANCE           1506 non-null   object \n",
      " 31  YearsAtCompany            1614 non-null   int64  \n",
      " 32  YearsInCurrentRole        34 non-null     object \n",
      " 33  YearsSinceLastPromotion   1614 non-null   int64  \n",
      " 34  YEARSWITHCURRMANAGER      1614 non-null   int64  \n",
      " 35  SameAsMonthlyIncome       771 non-null    object \n",
      " 36  DateBirth                 1614 non-null   int64  \n",
      " 37  Salary                    1614 non-null   object \n",
      " 38  RoleDepartament           302 non-null    object \n",
      " 39  NUMBERCHILDREN            0 non-null      float64\n",
      " 40  RemoteWork                1614 non-null   object \n",
      "dtypes: float64(1), int64(18), object(22)\n",
      "memory usage: 529.6+ KB\n"
     ]
    },
    {
     "data": {
      "text/plain": [
       "None"
      ]
     },
     "metadata": {},
     "output_type": "display_data"
    },
    {
     "name": "stdout",
     "output_type": "stream",
     "text": [
      "\n",
      "First 10 rows of the DataFrame:\n"
     ]
    },
    {
     "data": {
      "text/html": [
       "<div>\n",
       "<style scoped>\n",
       "    .dataframe tbody tr th:only-of-type {\n",
       "        vertical-align: middle;\n",
       "    }\n",
       "\n",
       "    .dataframe tbody tr th {\n",
       "        vertical-align: top;\n",
       "    }\n",
       "\n",
       "    .dataframe thead th {\n",
       "        text-align: right;\n",
       "    }\n",
       "</style>\n",
       "<table border=\"1\" class=\"dataframe\">\n",
       "  <thead>\n",
       "    <tr style=\"text-align: right;\">\n",
       "      <th></th>\n",
       "      <th>Age</th>\n",
       "      <th>Attrition</th>\n",
       "      <th>BusinessTravel</th>\n",
       "      <th>DailyRate</th>\n",
       "      <th>Department</th>\n",
       "      <th>DistanceFromHome</th>\n",
       "      <th>Education</th>\n",
       "      <th>EducationField</th>\n",
       "      <th>employeecount</th>\n",
       "      <th>employeenumber</th>\n",
       "      <th>EnvironmentSatisfaction</th>\n",
       "      <th>Gender</th>\n",
       "      <th>HourlyRate</th>\n",
       "      <th>JobInvolvement</th>\n",
       "      <th>JobLevel</th>\n",
       "      <th>JobRole</th>\n",
       "      <th>JobSatisfaction</th>\n",
       "      <th>MaritalStatus</th>\n",
       "      <th>MonthlyIncome</th>\n",
       "      <th>MonthlyRate</th>\n",
       "      <th>NUMCOMPANIESWORKED</th>\n",
       "      <th>Over18</th>\n",
       "      <th>OverTime</th>\n",
       "      <th>PercentSalaryHike</th>\n",
       "      <th>PerformanceRating</th>\n",
       "      <th>RelationshipSatisfaction</th>\n",
       "      <th>StandardHours</th>\n",
       "      <th>StockOptionLevel</th>\n",
       "      <th>TOTALWORKINGYEARS</th>\n",
       "      <th>TrainingTimesLastYear</th>\n",
       "      <th>WORKLIFEBALANCE</th>\n",
       "      <th>YearsAtCompany</th>\n",
       "      <th>YearsInCurrentRole</th>\n",
       "      <th>YearsSinceLastPromotion</th>\n",
       "      <th>YEARSWITHCURRMANAGER</th>\n",
       "      <th>SameAsMonthlyIncome</th>\n",
       "      <th>DateBirth</th>\n",
       "      <th>Salary</th>\n",
       "      <th>RoleDepartament</th>\n",
       "      <th>NUMBERCHILDREN</th>\n",
       "      <th>RemoteWork</th>\n",
       "    </tr>\n",
       "  </thead>\n",
       "  <tbody>\n",
       "    <tr>\n",
       "      <th>0</th>\n",
       "      <td>51</td>\n",
       "      <td>No</td>\n",
       "      <td>NaN</td>\n",
       "      <td>684,0$</td>\n",
       "      <td>NaN</td>\n",
       "      <td>6</td>\n",
       "      <td>3</td>\n",
       "      <td>NaN</td>\n",
       "      <td>1</td>\n",
       "      <td>162,0</td>\n",
       "      <td>1</td>\n",
       "      <td>0</td>\n",
       "      <td>51</td>\n",
       "      <td>3</td>\n",
       "      <td>5</td>\n",
       "      <td>resEArch DIREcToR</td>\n",
       "      <td>3</td>\n",
       "      <td>NaN</td>\n",
       "      <td>19537,0</td>\n",
       "      <td>6462</td>\n",
       "      <td>7</td>\n",
       "      <td>Y</td>\n",
       "      <td>No</td>\n",
       "      <td>13</td>\n",
       "      <td>3,0</td>\n",
       "      <td>3</td>\n",
       "      <td>NaN</td>\n",
       "      <td>0</td>\n",
       "      <td>NaN</td>\n",
       "      <td>5</td>\n",
       "      <td>3,0</td>\n",
       "      <td>20</td>\n",
       "      <td>NaN</td>\n",
       "      <td>15</td>\n",
       "      <td>15</td>\n",
       "      <td>19537,0</td>\n",
       "      <td>1972</td>\n",
       "      <td>1000000000$</td>\n",
       "      <td>NaN</td>\n",
       "      <td>NaN</td>\n",
       "      <td>Yes</td>\n",
       "    </tr>\n",
       "    <tr>\n",
       "      <th>1</th>\n",
       "      <td>52</td>\n",
       "      <td>No</td>\n",
       "      <td>NaN</td>\n",
       "      <td>699,0$</td>\n",
       "      <td>NaN</td>\n",
       "      <td>1</td>\n",
       "      <td>4</td>\n",
       "      <td>Life Sciences</td>\n",
       "      <td>1</td>\n",
       "      <td>259,0</td>\n",
       "      <td>3</td>\n",
       "      <td>0</td>\n",
       "      <td>65</td>\n",
       "      <td>2</td>\n",
       "      <td>5</td>\n",
       "      <td>ManAGeR</td>\n",
       "      <td>3</td>\n",
       "      <td>NaN</td>\n",
       "      <td>19999,0</td>\n",
       "      <td>5678</td>\n",
       "      <td>0</td>\n",
       "      <td>NaN</td>\n",
       "      <td>NaN</td>\n",
       "      <td>14</td>\n",
       "      <td>3,0</td>\n",
       "      <td>1</td>\n",
       "      <td>NaN</td>\n",
       "      <td>1</td>\n",
       "      <td>34,0</td>\n",
       "      <td>5</td>\n",
       "      <td>3,0</td>\n",
       "      <td>33</td>\n",
       "      <td>NaN</td>\n",
       "      <td>11</td>\n",
       "      <td>9</td>\n",
       "      <td>19999,0</td>\n",
       "      <td>1971</td>\n",
       "      <td>1000000000$</td>\n",
       "      <td>NaN</td>\n",
       "      <td>NaN</td>\n",
       "      <td>1</td>\n",
       "    </tr>\n",
       "    <tr>\n",
       "      <th>2</th>\n",
       "      <td>42</td>\n",
       "      <td>No</td>\n",
       "      <td>travel_rarely</td>\n",
       "      <td>532,0$</td>\n",
       "      <td>Research &amp; Development</td>\n",
       "      <td>4</td>\n",
       "      <td>2</td>\n",
       "      <td>Technical Degree</td>\n",
       "      <td>1</td>\n",
       "      <td>319,0</td>\n",
       "      <td>3</td>\n",
       "      <td>0</td>\n",
       "      <td>58</td>\n",
       "      <td>3</td>\n",
       "      <td>5</td>\n",
       "      <td>ManaGER</td>\n",
       "      <td>4</td>\n",
       "      <td>Married</td>\n",
       "      <td>19232,0</td>\n",
       "      <td>4933</td>\n",
       "      <td>1</td>\n",
       "      <td>NaN</td>\n",
       "      <td>No</td>\n",
       "      <td>11</td>\n",
       "      <td>3,0</td>\n",
       "      <td>4</td>\n",
       "      <td>NaN</td>\n",
       "      <td>0</td>\n",
       "      <td>22,0</td>\n",
       "      <td>3</td>\n",
       "      <td>NaN</td>\n",
       "      <td>22</td>\n",
       "      <td>NaN</td>\n",
       "      <td>11</td>\n",
       "      <td>15</td>\n",
       "      <td>19232,0</td>\n",
       "      <td>1981</td>\n",
       "      <td>1000000000$</td>\n",
       "      <td>ManaGER  -  Research &amp; Development</td>\n",
       "      <td>NaN</td>\n",
       "      <td>1</td>\n",
       "    </tr>\n",
       "    <tr>\n",
       "      <th>3</th>\n",
       "      <td>47</td>\n",
       "      <td>No</td>\n",
       "      <td>travel_rarely</td>\n",
       "      <td>359,0$</td>\n",
       "      <td>NaN</td>\n",
       "      <td>2</td>\n",
       "      <td>4</td>\n",
       "      <td>Medical</td>\n",
       "      <td>1</td>\n",
       "      <td>NaN</td>\n",
       "      <td>1</td>\n",
       "      <td>1</td>\n",
       "      <td>82</td>\n",
       "      <td>3</td>\n",
       "      <td>4</td>\n",
       "      <td>ReseArCH DIrECtOr</td>\n",
       "      <td>3</td>\n",
       "      <td>Married</td>\n",
       "      <td>17169,0</td>\n",
       "      <td>26703</td>\n",
       "      <td>3</td>\n",
       "      <td>Y</td>\n",
       "      <td>NaN</td>\n",
       "      <td>19</td>\n",
       "      <td>3,0</td>\n",
       "      <td>2</td>\n",
       "      <td>NaN</td>\n",
       "      <td>2</td>\n",
       "      <td>NaN</td>\n",
       "      <td>2</td>\n",
       "      <td>NaN</td>\n",
       "      <td>20</td>\n",
       "      <td>NaN</td>\n",
       "      <td>5</td>\n",
       "      <td>6</td>\n",
       "      <td>17169,0</td>\n",
       "      <td>1976</td>\n",
       "      <td>1000000000$</td>\n",
       "      <td>NaN</td>\n",
       "      <td>NaN</td>\n",
       "      <td>False</td>\n",
       "    </tr>\n",
       "    <tr>\n",
       "      <th>4</th>\n",
       "      <td>46</td>\n",
       "      <td>No</td>\n",
       "      <td>NaN</td>\n",
       "      <td>1319,0$</td>\n",
       "      <td>NaN</td>\n",
       "      <td>3</td>\n",
       "      <td>3</td>\n",
       "      <td>Technical Degree</td>\n",
       "      <td>1</td>\n",
       "      <td>NaN</td>\n",
       "      <td>1</td>\n",
       "      <td>1</td>\n",
       "      <td>45</td>\n",
       "      <td>4</td>\n",
       "      <td>4</td>\n",
       "      <td>sAleS EXECUtIve</td>\n",
       "      <td>1</td>\n",
       "      <td>Divorced</td>\n",
       "      <td>NaN</td>\n",
       "      <td>7739</td>\n",
       "      <td>2</td>\n",
       "      <td>Y</td>\n",
       "      <td>No</td>\n",
       "      <td>12</td>\n",
       "      <td>3,0</td>\n",
       "      <td>4</td>\n",
       "      <td>NaN</td>\n",
       "      <td>1</td>\n",
       "      <td>NaN</td>\n",
       "      <td>5</td>\n",
       "      <td>3,0</td>\n",
       "      <td>19</td>\n",
       "      <td>NaN</td>\n",
       "      <td>2</td>\n",
       "      <td>8</td>\n",
       "      <td>NaN</td>\n",
       "      <td>1977</td>\n",
       "      <td>1000000000$</td>\n",
       "      <td>NaN</td>\n",
       "      <td>NaN</td>\n",
       "      <td>0</td>\n",
       "    </tr>\n",
       "    <tr>\n",
       "      <th>5</th>\n",
       "      <td>48</td>\n",
       "      <td>No</td>\n",
       "      <td>NaN</td>\n",
       "      <td>117,0$</td>\n",
       "      <td>Research &amp; Development</td>\n",
       "      <td>22</td>\n",
       "      <td>3</td>\n",
       "      <td>Medical</td>\n",
       "      <td>1</td>\n",
       "      <td>1900,0</td>\n",
       "      <td>4</td>\n",
       "      <td>1</td>\n",
       "      <td>58</td>\n",
       "      <td>3</td>\n",
       "      <td>4</td>\n",
       "      <td>MANAger</td>\n",
       "      <td>4</td>\n",
       "      <td>NaN</td>\n",
       "      <td>17174,0</td>\n",
       "      <td>2437</td>\n",
       "      <td>3</td>\n",
       "      <td>NaN</td>\n",
       "      <td>No</td>\n",
       "      <td>11</td>\n",
       "      <td>3,0</td>\n",
       "      <td>2</td>\n",
       "      <td>NaN</td>\n",
       "      <td>1</td>\n",
       "      <td>NaN</td>\n",
       "      <td>3</td>\n",
       "      <td>3,0</td>\n",
       "      <td>22</td>\n",
       "      <td>NaN</td>\n",
       "      <td>4</td>\n",
       "      <td>7</td>\n",
       "      <td>17174,0</td>\n",
       "      <td>1975</td>\n",
       "      <td>1000000000$</td>\n",
       "      <td>MANAger  -  Research &amp; Development</td>\n",
       "      <td>NaN</td>\n",
       "      <td>Yes</td>\n",
       "    </tr>\n",
       "    <tr>\n",
       "      <th>6</th>\n",
       "      <td>59</td>\n",
       "      <td>No</td>\n",
       "      <td>NaN</td>\n",
       "      <td>1435,0$</td>\n",
       "      <td>NaN</td>\n",
       "      <td>25</td>\n",
       "      <td>3</td>\n",
       "      <td>Life Sciences</td>\n",
       "      <td>1</td>\n",
       "      <td>81,0</td>\n",
       "      <td>1</td>\n",
       "      <td>1</td>\n",
       "      <td>99</td>\n",
       "      <td>3</td>\n",
       "      <td>3</td>\n",
       "      <td>Sales ExeCutIVe</td>\n",
       "      <td>1</td>\n",
       "      <td>NaN</td>\n",
       "      <td>NaN</td>\n",
       "      <td>2354</td>\n",
       "      <td>7</td>\n",
       "      <td>Y</td>\n",
       "      <td>NaN</td>\n",
       "      <td>11</td>\n",
       "      <td>3,0</td>\n",
       "      <td>4</td>\n",
       "      <td>NaN</td>\n",
       "      <td>0</td>\n",
       "      <td>28,0</td>\n",
       "      <td>3</td>\n",
       "      <td>2,0</td>\n",
       "      <td>21</td>\n",
       "      <td>NaN</td>\n",
       "      <td>7</td>\n",
       "      <td>9</td>\n",
       "      <td>NaN</td>\n",
       "      <td>1964</td>\n",
       "      <td>1000000000$</td>\n",
       "      <td>NaN</td>\n",
       "      <td>NaN</td>\n",
       "      <td>True</td>\n",
       "    </tr>\n",
       "    <tr>\n",
       "      <th>7</th>\n",
       "      <td>42</td>\n",
       "      <td>No</td>\n",
       "      <td>travel_rarely</td>\n",
       "      <td>635,0$</td>\n",
       "      <td>NaN</td>\n",
       "      <td>1</td>\n",
       "      <td>1</td>\n",
       "      <td>NaN</td>\n",
       "      <td>1</td>\n",
       "      <td>387,0</td>\n",
       "      <td>2</td>\n",
       "      <td>0</td>\n",
       "      <td>99</td>\n",
       "      <td>3</td>\n",
       "      <td>2</td>\n",
       "      <td>Sales eXEcUTiVe</td>\n",
       "      <td>3</td>\n",
       "      <td>Married</td>\n",
       "      <td>NaN</td>\n",
       "      <td>24532</td>\n",
       "      <td>1</td>\n",
       "      <td>NaN</td>\n",
       "      <td>No</td>\n",
       "      <td>25</td>\n",
       "      <td>4,0</td>\n",
       "      <td>3</td>\n",
       "      <td>NaN</td>\n",
       "      <td>0</td>\n",
       "      <td>20,0</td>\n",
       "      <td>3</td>\n",
       "      <td>3,0</td>\n",
       "      <td>20</td>\n",
       "      <td>NaN</td>\n",
       "      <td>11</td>\n",
       "      <td>6</td>\n",
       "      <td>NaN</td>\n",
       "      <td>1981</td>\n",
       "      <td>1000000000$</td>\n",
       "      <td>NaN</td>\n",
       "      <td>NaN</td>\n",
       "      <td>0</td>\n",
       "    </tr>\n",
       "    <tr>\n",
       "      <th>8</th>\n",
       "      <td>41</td>\n",
       "      <td>No</td>\n",
       "      <td>NaN</td>\n",
       "      <td>1276,0$</td>\n",
       "      <td>NaN</td>\n",
       "      <td>2</td>\n",
       "      <td>5</td>\n",
       "      <td>NaN</td>\n",
       "      <td>1</td>\n",
       "      <td>NaN</td>\n",
       "      <td>2</td>\n",
       "      <td>1</td>\n",
       "      <td>91</td>\n",
       "      <td>3</td>\n",
       "      <td>4</td>\n",
       "      <td>mANAGEr</td>\n",
       "      <td>1</td>\n",
       "      <td>Married</td>\n",
       "      <td>16595,0</td>\n",
       "      <td>5626</td>\n",
       "      <td>7</td>\n",
       "      <td>NaN</td>\n",
       "      <td>No</td>\n",
       "      <td>16</td>\n",
       "      <td>3,0</td>\n",
       "      <td>2</td>\n",
       "      <td>NaN</td>\n",
       "      <td>1</td>\n",
       "      <td>22,0</td>\n",
       "      <td>2</td>\n",
       "      <td>3,0</td>\n",
       "      <td>18</td>\n",
       "      <td>NaN</td>\n",
       "      <td>11</td>\n",
       "      <td>8</td>\n",
       "      <td>16595,0</td>\n",
       "      <td>1982</td>\n",
       "      <td>1000000000$</td>\n",
       "      <td>NaN</td>\n",
       "      <td>NaN</td>\n",
       "      <td>True</td>\n",
       "    </tr>\n",
       "    <tr>\n",
       "      <th>9</th>\n",
       "      <td>41</td>\n",
       "      <td>No</td>\n",
       "      <td>travel_frequently</td>\n",
       "      <td>840,0$</td>\n",
       "      <td>NaN</td>\n",
       "      <td>9</td>\n",
       "      <td>3</td>\n",
       "      <td>NaN</td>\n",
       "      <td>1</td>\n",
       "      <td>999,0</td>\n",
       "      <td>1</td>\n",
       "      <td>0</td>\n",
       "      <td>64</td>\n",
       "      <td>3</td>\n",
       "      <td>5</td>\n",
       "      <td>reSEaRCH DIrectoR</td>\n",
       "      <td>3</td>\n",
       "      <td>NaN</td>\n",
       "      <td>NaN</td>\n",
       "      <td>3735</td>\n",
       "      <td>2</td>\n",
       "      <td>NaN</td>\n",
       "      <td>No</td>\n",
       "      <td>17</td>\n",
       "      <td>3,0</td>\n",
       "      <td>2</td>\n",
       "      <td>NaN</td>\n",
       "      <td>1</td>\n",
       "      <td>21,0</td>\n",
       "      <td>2</td>\n",
       "      <td>4,0</td>\n",
       "      <td>18</td>\n",
       "      <td>NaN</td>\n",
       "      <td>0</td>\n",
       "      <td>11</td>\n",
       "      <td>NaN</td>\n",
       "      <td>1982</td>\n",
       "      <td>1000000000$</td>\n",
       "      <td>NaN</td>\n",
       "      <td>NaN</td>\n",
       "      <td>0</td>\n",
       "    </tr>\n",
       "  </tbody>\n",
       "</table>\n",
       "</div>"
      ],
      "text/plain": [
       "  Age Attrition     BusinessTravel DailyRate                Department  \\\n",
       "0  51        No                NaN    684,0$                       NaN   \n",
       "1  52        No                NaN    699,0$                       NaN   \n",
       "2  42        No      travel_rarely    532,0$   Research & Development    \n",
       "3  47        No      travel_rarely    359,0$                       NaN   \n",
       "4  46        No                NaN   1319,0$                       NaN   \n",
       "5  48        No                NaN    117,0$   Research & Development    \n",
       "6  59        No                NaN   1435,0$                       NaN   \n",
       "7  42        No      travel_rarely    635,0$                       NaN   \n",
       "8  41        No                NaN   1276,0$                       NaN   \n",
       "9  41        No  travel_frequently    840,0$                       NaN   \n",
       "\n",
       "   DistanceFromHome  Education    EducationField  employeecount  \\\n",
       "0                 6          3               NaN              1   \n",
       "1                 1          4     Life Sciences              1   \n",
       "2                 4          2  Technical Degree              1   \n",
       "3                 2          4           Medical              1   \n",
       "4                 3          3  Technical Degree              1   \n",
       "5                22          3           Medical              1   \n",
       "6                25          3     Life Sciences              1   \n",
       "7                 1          1               NaN              1   \n",
       "8                 2          5               NaN              1   \n",
       "9                 9          3               NaN              1   \n",
       "\n",
       "  employeenumber  EnvironmentSatisfaction  Gender HourlyRate  JobInvolvement  \\\n",
       "0          162,0                        1       0         51               3   \n",
       "1          259,0                        3       0         65               2   \n",
       "2          319,0                        3       0         58               3   \n",
       "3            NaN                        1       1         82               3   \n",
       "4            NaN                        1       1         45               4   \n",
       "5         1900,0                        4       1         58               3   \n",
       "6           81,0                        1       1         99               3   \n",
       "7          387,0                        2       0         99               3   \n",
       "8            NaN                        2       1         91               3   \n",
       "9          999,0                        1       0         64               3   \n",
       "\n",
       "   JobLevel              JobRole  JobSatisfaction MaritalStatus MonthlyIncome  \\\n",
       "0         5   resEArch DIREcToR                 3           NaN       19537,0   \n",
       "1         5             ManAGeR                 3           NaN       19999,0   \n",
       "2         5             ManaGER                 4       Married       19232,0   \n",
       "3         4   ReseArCH DIrECtOr                 3       Married       17169,0   \n",
       "4         4     sAleS EXECUtIve                 1      Divorced           NaN   \n",
       "5         4             MANAger                 4           NaN       17174,0   \n",
       "6         3     Sales ExeCutIVe                 1           NaN           NaN   \n",
       "7         2     Sales eXEcUTiVe                 3       Married           NaN   \n",
       "8         4             mANAGEr                 1       Married       16595,0   \n",
       "9         5   reSEaRCH DIrectoR                 3           NaN           NaN   \n",
       "\n",
       "   MonthlyRate  NUMCOMPANIESWORKED Over18 OverTime  PercentSalaryHike  \\\n",
       "0         6462                   7      Y       No                 13   \n",
       "1         5678                   0    NaN      NaN                 14   \n",
       "2         4933                   1    NaN       No                 11   \n",
       "3        26703                   3      Y      NaN                 19   \n",
       "4         7739                   2      Y       No                 12   \n",
       "5         2437                   3    NaN       No                 11   \n",
       "6         2354                   7      Y      NaN                 11   \n",
       "7        24532                   1    NaN       No                 25   \n",
       "8         5626                   7    NaN       No                 16   \n",
       "9         3735                   2    NaN       No                 17   \n",
       "\n",
       "  PerformanceRating  RelationshipSatisfaction StandardHours  StockOptionLevel  \\\n",
       "0               3,0                         3           NaN                 0   \n",
       "1               3,0                         1           NaN                 1   \n",
       "2               3,0                         4           NaN                 0   \n",
       "3               3,0                         2           NaN                 2   \n",
       "4               3,0                         4           NaN                 1   \n",
       "5               3,0                         2           NaN                 1   \n",
       "6               3,0                         4           NaN                 0   \n",
       "7               4,0                         3           NaN                 0   \n",
       "8               3,0                         2           NaN                 1   \n",
       "9               3,0                         2           NaN                 1   \n",
       "\n",
       "  TOTALWORKINGYEARS  TrainingTimesLastYear WORKLIFEBALANCE  YearsAtCompany  \\\n",
       "0               NaN                      5             3,0              20   \n",
       "1              34,0                      5             3,0              33   \n",
       "2              22,0                      3             NaN              22   \n",
       "3               NaN                      2             NaN              20   \n",
       "4               NaN                      5             3,0              19   \n",
       "5               NaN                      3             3,0              22   \n",
       "6              28,0                      3             2,0              21   \n",
       "7              20,0                      3             3,0              20   \n",
       "8              22,0                      2             3,0              18   \n",
       "9              21,0                      2             4,0              18   \n",
       "\n",
       "  YearsInCurrentRole  YearsSinceLastPromotion  YEARSWITHCURRMANAGER  \\\n",
       "0                NaN                       15                    15   \n",
       "1                NaN                       11                     9   \n",
       "2                NaN                       11                    15   \n",
       "3                NaN                        5                     6   \n",
       "4                NaN                        2                     8   \n",
       "5                NaN                        4                     7   \n",
       "6                NaN                        7                     9   \n",
       "7                NaN                       11                     6   \n",
       "8                NaN                       11                     8   \n",
       "9                NaN                        0                    11   \n",
       "\n",
       "  SameAsMonthlyIncome  DateBirth       Salary  \\\n",
       "0             19537,0       1972  1000000000$   \n",
       "1             19999,0       1971  1000000000$   \n",
       "2             19232,0       1981  1000000000$   \n",
       "3             17169,0       1976  1000000000$   \n",
       "4                 NaN       1977  1000000000$   \n",
       "5             17174,0       1975  1000000000$   \n",
       "6                 NaN       1964  1000000000$   \n",
       "7                 NaN       1981  1000000000$   \n",
       "8             16595,0       1982  1000000000$   \n",
       "9                 NaN       1982  1000000000$   \n",
       "\n",
       "                        RoleDepartament  NUMBERCHILDREN RemoteWork  \n",
       "0                                   NaN             NaN        Yes  \n",
       "1                                   NaN             NaN          1  \n",
       "2   ManaGER  -  Research & Development              NaN          1  \n",
       "3                                   NaN             NaN      False  \n",
       "4                                   NaN             NaN          0  \n",
       "5   MANAger  -  Research & Development              NaN        Yes  \n",
       "6                                   NaN             NaN       True  \n",
       "7                                   NaN             NaN          0  \n",
       "8                                   NaN             NaN       True  \n",
       "9                                   NaN             NaN          0  "
      ]
     },
     "metadata": {},
     "output_type": "display_data"
    },
    {
     "name": "stdout",
     "output_type": "stream",
     "text": [
      "\n",
      "Last 10 rows of the DataFrame:\n"
     ]
    },
    {
     "data": {
      "text/html": [
       "<div>\n",
       "<style scoped>\n",
       "    .dataframe tbody tr th:only-of-type {\n",
       "        vertical-align: middle;\n",
       "    }\n",
       "\n",
       "    .dataframe tbody tr th {\n",
       "        vertical-align: top;\n",
       "    }\n",
       "\n",
       "    .dataframe thead th {\n",
       "        text-align: right;\n",
       "    }\n",
       "</style>\n",
       "<table border=\"1\" class=\"dataframe\">\n",
       "  <thead>\n",
       "    <tr style=\"text-align: right;\">\n",
       "      <th></th>\n",
       "      <th>Age</th>\n",
       "      <th>Attrition</th>\n",
       "      <th>BusinessTravel</th>\n",
       "      <th>DailyRate</th>\n",
       "      <th>Department</th>\n",
       "      <th>DistanceFromHome</th>\n",
       "      <th>Education</th>\n",
       "      <th>EducationField</th>\n",
       "      <th>employeecount</th>\n",
       "      <th>employeenumber</th>\n",
       "      <th>EnvironmentSatisfaction</th>\n",
       "      <th>Gender</th>\n",
       "      <th>HourlyRate</th>\n",
       "      <th>JobInvolvement</th>\n",
       "      <th>JobLevel</th>\n",
       "      <th>JobRole</th>\n",
       "      <th>JobSatisfaction</th>\n",
       "      <th>MaritalStatus</th>\n",
       "      <th>MonthlyIncome</th>\n",
       "      <th>MonthlyRate</th>\n",
       "      <th>NUMCOMPANIESWORKED</th>\n",
       "      <th>Over18</th>\n",
       "      <th>OverTime</th>\n",
       "      <th>PercentSalaryHike</th>\n",
       "      <th>PerformanceRating</th>\n",
       "      <th>RelationshipSatisfaction</th>\n",
       "      <th>StandardHours</th>\n",
       "      <th>StockOptionLevel</th>\n",
       "      <th>TOTALWORKINGYEARS</th>\n",
       "      <th>TrainingTimesLastYear</th>\n",
       "      <th>WORKLIFEBALANCE</th>\n",
       "      <th>YearsAtCompany</th>\n",
       "      <th>YearsInCurrentRole</th>\n",
       "      <th>YearsSinceLastPromotion</th>\n",
       "      <th>YEARSWITHCURRMANAGER</th>\n",
       "      <th>SameAsMonthlyIncome</th>\n",
       "      <th>DateBirth</th>\n",
       "      <th>Salary</th>\n",
       "      <th>RoleDepartament</th>\n",
       "      <th>NUMBERCHILDREN</th>\n",
       "      <th>RemoteWork</th>\n",
       "    </tr>\n",
       "  </thead>\n",
       "  <tbody>\n",
       "    <tr>\n",
       "      <th>1604</th>\n",
       "      <td>41</td>\n",
       "      <td>Yes</td>\n",
       "      <td>NaN</td>\n",
       "      <td>1085,0$</td>\n",
       "      <td>Research &amp; Development</td>\n",
       "      <td>2</td>\n",
       "      <td>4</td>\n",
       "      <td>Life Sciences</td>\n",
       "      <td>1</td>\n",
       "      <td>927,0</td>\n",
       "      <td>2</td>\n",
       "      <td>1</td>\n",
       "      <td>Not Available</td>\n",
       "      <td>1</td>\n",
       "      <td>1</td>\n",
       "      <td>LAbORAToRy tEcHNICian</td>\n",
       "      <td>4</td>\n",
       "      <td>divorced</td>\n",
       "      <td>NaN</td>\n",
       "      <td>17725</td>\n",
       "      <td>4</td>\n",
       "      <td>NaN</td>\n",
       "      <td>Yes</td>\n",
       "      <td>13</td>\n",
       "      <td>3,0</td>\n",
       "      <td>3</td>\n",
       "      <td>80,0</td>\n",
       "      <td>1</td>\n",
       "      <td>NaN</td>\n",
       "      <td>1</td>\n",
       "      <td>2,0</td>\n",
       "      <td>7</td>\n",
       "      <td>NaN</td>\n",
       "      <td>1</td>\n",
       "      <td>0</td>\n",
       "      <td>NaN</td>\n",
       "      <td>1982</td>\n",
       "      <td>1000000000$</td>\n",
       "      <td>LAbORAToRy tEcHNICian  -  Research &amp; Developm...</td>\n",
       "      <td>NaN</td>\n",
       "      <td>Yes</td>\n",
       "    </tr>\n",
       "    <tr>\n",
       "      <th>1605</th>\n",
       "      <td>31</td>\n",
       "      <td>No</td>\n",
       "      <td>travel_rarely</td>\n",
       "      <td>154,0$</td>\n",
       "      <td>NaN</td>\n",
       "      <td>7</td>\n",
       "      <td>4</td>\n",
       "      <td>NaN</td>\n",
       "      <td>1</td>\n",
       "      <td>941,0</td>\n",
       "      <td>2</td>\n",
       "      <td>0</td>\n",
       "      <td>Not Available</td>\n",
       "      <td>2</td>\n",
       "      <td>1</td>\n",
       "      <td>SAlES rEpreSENtaTiVe</td>\n",
       "      <td>3</td>\n",
       "      <td>NaN</td>\n",
       "      <td>2329,0</td>\n",
       "      <td>11737</td>\n",
       "      <td>3</td>\n",
       "      <td>NaN</td>\n",
       "      <td>NaN</td>\n",
       "      <td>15</td>\n",
       "      <td>NaN</td>\n",
       "      <td>2</td>\n",
       "      <td>80,0</td>\n",
       "      <td>0</td>\n",
       "      <td>NaN</td>\n",
       "      <td>2</td>\n",
       "      <td>4,0</td>\n",
       "      <td>7</td>\n",
       "      <td>NaN</td>\n",
       "      <td>5</td>\n",
       "      <td>2</td>\n",
       "      <td>2329,0</td>\n",
       "      <td>1992</td>\n",
       "      <td>1000000000$</td>\n",
       "      <td>NaN</td>\n",
       "      <td>NaN</td>\n",
       "      <td>True</td>\n",
       "    </tr>\n",
       "    <tr>\n",
       "      <th>1606</th>\n",
       "      <td>26</td>\n",
       "      <td>No</td>\n",
       "      <td>travel_frequently</td>\n",
       "      <td>1283,0$</td>\n",
       "      <td>Sales</td>\n",
       "      <td>1</td>\n",
       "      <td>3</td>\n",
       "      <td>Medical</td>\n",
       "      <td>1</td>\n",
       "      <td>956,0</td>\n",
       "      <td>3</td>\n",
       "      <td>0</td>\n",
       "      <td>52</td>\n",
       "      <td>2</td>\n",
       "      <td>2</td>\n",
       "      <td>sAleS EXECUtIvE</td>\n",
       "      <td>1</td>\n",
       "      <td>NaN</td>\n",
       "      <td>4294,0</td>\n",
       "      <td>11148</td>\n",
       "      <td>1</td>\n",
       "      <td>Y</td>\n",
       "      <td>NaN</td>\n",
       "      <td>12</td>\n",
       "      <td>3,0</td>\n",
       "      <td>2</td>\n",
       "      <td>NaN</td>\n",
       "      <td>0</td>\n",
       "      <td>NaN</td>\n",
       "      <td>2</td>\n",
       "      <td>3,0</td>\n",
       "      <td>7</td>\n",
       "      <td>NaN</td>\n",
       "      <td>0</td>\n",
       "      <td>7</td>\n",
       "      <td>4294,0</td>\n",
       "      <td>1997</td>\n",
       "      <td>1000000000$</td>\n",
       "      <td>sAleS EXECUtIvE  -  Sales</td>\n",
       "      <td>NaN</td>\n",
       "      <td>1</td>\n",
       "    </tr>\n",
       "    <tr>\n",
       "      <th>1607</th>\n",
       "      <td>31</td>\n",
       "      <td>No</td>\n",
       "      <td>NaN</td>\n",
       "      <td>616,0$</td>\n",
       "      <td>NaN</td>\n",
       "      <td>12</td>\n",
       "      <td>3</td>\n",
       "      <td>Medical</td>\n",
       "      <td>1</td>\n",
       "      <td>NaN</td>\n",
       "      <td>4</td>\n",
       "      <td>1</td>\n",
       "      <td>41</td>\n",
       "      <td>3</td>\n",
       "      <td>2</td>\n",
       "      <td>HEaltHCarE REPreSENtAtIve</td>\n",
       "      <td>4</td>\n",
       "      <td>NaN</td>\n",
       "      <td>NaN</td>\n",
       "      <td>17369</td>\n",
       "      <td>0</td>\n",
       "      <td>NaN</td>\n",
       "      <td>NaN</td>\n",
       "      <td>11</td>\n",
       "      <td>3,0</td>\n",
       "      <td>3</td>\n",
       "      <td>NaN</td>\n",
       "      <td>2</td>\n",
       "      <td>10,0</td>\n",
       "      <td>2</td>\n",
       "      <td>1,0</td>\n",
       "      <td>9</td>\n",
       "      <td>NaN</td>\n",
       "      <td>8</td>\n",
       "      <td>5</td>\n",
       "      <td>NaN</td>\n",
       "      <td>1992</td>\n",
       "      <td>1000000000$</td>\n",
       "      <td>NaN</td>\n",
       "      <td>NaN</td>\n",
       "      <td>True</td>\n",
       "    </tr>\n",
       "    <tr>\n",
       "      <th>1608</th>\n",
       "      <td>32</td>\n",
       "      <td>No</td>\n",
       "      <td>NaN</td>\n",
       "      <td>498,0$</td>\n",
       "      <td>NaN</td>\n",
       "      <td>3</td>\n",
       "      <td>4</td>\n",
       "      <td>Medical</td>\n",
       "      <td>1</td>\n",
       "      <td>966,0</td>\n",
       "      <td>3</td>\n",
       "      <td>1</td>\n",
       "      <td>93</td>\n",
       "      <td>3</td>\n",
       "      <td>2</td>\n",
       "      <td>MANUfaCtuRiNG DiReCtor</td>\n",
       "      <td>1</td>\n",
       "      <td>Married</td>\n",
       "      <td>6725,0</td>\n",
       "      <td>13554</td>\n",
       "      <td>1</td>\n",
       "      <td>NaN</td>\n",
       "      <td>NaN</td>\n",
       "      <td>12</td>\n",
       "      <td>3,0</td>\n",
       "      <td>3</td>\n",
       "      <td>NaN</td>\n",
       "      <td>1</td>\n",
       "      <td>8,0</td>\n",
       "      <td>2</td>\n",
       "      <td>4,0</td>\n",
       "      <td>8</td>\n",
       "      <td>NaN</td>\n",
       "      <td>6</td>\n",
       "      <td>3</td>\n",
       "      <td>6725,0</td>\n",
       "      <td>1991</td>\n",
       "      <td>1000000000$</td>\n",
       "      <td>NaN</td>\n",
       "      <td>NaN</td>\n",
       "      <td>1</td>\n",
       "    </tr>\n",
       "    <tr>\n",
       "      <th>1609</th>\n",
       "      <td>36</td>\n",
       "      <td>Yes</td>\n",
       "      <td>travel_rarely</td>\n",
       "      <td>530,0$</td>\n",
       "      <td>NaN</td>\n",
       "      <td>3</td>\n",
       "      <td>1</td>\n",
       "      <td>Life Sciences</td>\n",
       "      <td>1</td>\n",
       "      <td>967,0</td>\n",
       "      <td>3</td>\n",
       "      <td>0</td>\n",
       "      <td>51</td>\n",
       "      <td>2</td>\n",
       "      <td>3</td>\n",
       "      <td>saLEs ExeCUTiVe</td>\n",
       "      <td>4</td>\n",
       "      <td>Married</td>\n",
       "      <td>10325,0</td>\n",
       "      <td>5518</td>\n",
       "      <td>1</td>\n",
       "      <td>Y</td>\n",
       "      <td>NaN</td>\n",
       "      <td>11</td>\n",
       "      <td>NaN</td>\n",
       "      <td>1</td>\n",
       "      <td>NaN</td>\n",
       "      <td>1</td>\n",
       "      <td>NaN</td>\n",
       "      <td>6</td>\n",
       "      <td>3,0</td>\n",
       "      <td>16</td>\n",
       "      <td>NaN</td>\n",
       "      <td>3</td>\n",
       "      <td>7</td>\n",
       "      <td>10325,0</td>\n",
       "      <td>1987</td>\n",
       "      <td>1000000000$</td>\n",
       "      <td>NaN</td>\n",
       "      <td>NaN</td>\n",
       "      <td>0</td>\n",
       "    </tr>\n",
       "    <tr>\n",
       "      <th>1610</th>\n",
       "      <td>45</td>\n",
       "      <td>No</td>\n",
       "      <td>non-travel</td>\n",
       "      <td>805,0$</td>\n",
       "      <td>NaN</td>\n",
       "      <td>4</td>\n",
       "      <td>2</td>\n",
       "      <td>NaN</td>\n",
       "      <td>1</td>\n",
       "      <td>972,0</td>\n",
       "      <td>3</td>\n",
       "      <td>0</td>\n",
       "      <td>57</td>\n",
       "      <td>3</td>\n",
       "      <td>2</td>\n",
       "      <td>LAboRaTOry tECHNiCIAn</td>\n",
       "      <td>2</td>\n",
       "      <td>NaN</td>\n",
       "      <td>4447,0</td>\n",
       "      <td>23163</td>\n",
       "      <td>1</td>\n",
       "      <td>NaN</td>\n",
       "      <td>NaN</td>\n",
       "      <td>12</td>\n",
       "      <td>3,0</td>\n",
       "      <td>2</td>\n",
       "      <td>NaN</td>\n",
       "      <td>0</td>\n",
       "      <td>NaN</td>\n",
       "      <td>5</td>\n",
       "      <td>2,0</td>\n",
       "      <td>9</td>\n",
       "      <td>NaN</td>\n",
       "      <td>0</td>\n",
       "      <td>8</td>\n",
       "      <td>4447,0</td>\n",
       "      <td>1978</td>\n",
       "      <td>1000000000$</td>\n",
       "      <td>NaN</td>\n",
       "      <td>NaN</td>\n",
       "      <td>1</td>\n",
       "    </tr>\n",
       "    <tr>\n",
       "      <th>1611</th>\n",
       "      <td>39</td>\n",
       "      <td>No</td>\n",
       "      <td>travel_rarely</td>\n",
       "      <td>903,0$</td>\n",
       "      <td>NaN</td>\n",
       "      <td>-13</td>\n",
       "      <td>5</td>\n",
       "      <td>NaN</td>\n",
       "      <td>1</td>\n",
       "      <td>NaN</td>\n",
       "      <td>13</td>\n",
       "      <td>0</td>\n",
       "      <td>41</td>\n",
       "      <td>4</td>\n",
       "      <td>3</td>\n",
       "      <td>sAlES ExECUTivE</td>\n",
       "      <td>3</td>\n",
       "      <td>Single</td>\n",
       "      <td>NaN</td>\n",
       "      <td>2560</td>\n",
       "      <td>0</td>\n",
       "      <td>NaN</td>\n",
       "      <td>No</td>\n",
       "      <td>18</td>\n",
       "      <td>3,0</td>\n",
       "      <td>4</td>\n",
       "      <td>NaN</td>\n",
       "      <td>0</td>\n",
       "      <td>9,0</td>\n",
       "      <td>3</td>\n",
       "      <td>3,0</td>\n",
       "      <td>8</td>\n",
       "      <td>NaN</td>\n",
       "      <td>0</td>\n",
       "      <td>7</td>\n",
       "      <td>NaN</td>\n",
       "      <td>1984</td>\n",
       "      <td>1000000000$</td>\n",
       "      <td>NaN</td>\n",
       "      <td>NaN</td>\n",
       "      <td>Yes</td>\n",
       "    </tr>\n",
       "    <tr>\n",
       "      <th>1612</th>\n",
       "      <td>36</td>\n",
       "      <td>No</td>\n",
       "      <td>non-travel</td>\n",
       "      <td>1229,0$</td>\n",
       "      <td>NaN</td>\n",
       "      <td>8</td>\n",
       "      <td>4</td>\n",
       "      <td>Technical Degree</td>\n",
       "      <td>1</td>\n",
       "      <td>990,0</td>\n",
       "      <td>1</td>\n",
       "      <td>0</td>\n",
       "      <td>84</td>\n",
       "      <td>3</td>\n",
       "      <td>2</td>\n",
       "      <td>SaLes ExecUtIVe</td>\n",
       "      <td>4</td>\n",
       "      <td>Divorced</td>\n",
       "      <td>NaN</td>\n",
       "      <td>25952</td>\n",
       "      <td>4</td>\n",
       "      <td>NaN</td>\n",
       "      <td>No</td>\n",
       "      <td>13</td>\n",
       "      <td>NaN</td>\n",
       "      <td>4</td>\n",
       "      <td>NaN</td>\n",
       "      <td>2</td>\n",
       "      <td>12,0</td>\n",
       "      <td>3</td>\n",
       "      <td>3,0</td>\n",
       "      <td>7</td>\n",
       "      <td>NaN</td>\n",
       "      <td>0</td>\n",
       "      <td>7</td>\n",
       "      <td>NaN</td>\n",
       "      <td>1987</td>\n",
       "      <td>1000000000$</td>\n",
       "      <td>NaN</td>\n",
       "      <td>NaN</td>\n",
       "      <td>True</td>\n",
       "    </tr>\n",
       "    <tr>\n",
       "      <th>1613</th>\n",
       "      <td>46</td>\n",
       "      <td>No</td>\n",
       "      <td>NaN</td>\n",
       "      <td>566,0$</td>\n",
       "      <td>NaN</td>\n",
       "      <td>7</td>\n",
       "      <td>2</td>\n",
       "      <td>Medical</td>\n",
       "      <td>1</td>\n",
       "      <td>NaN</td>\n",
       "      <td>4</td>\n",
       "      <td>0</td>\n",
       "      <td>75</td>\n",
       "      <td>3</td>\n",
       "      <td>3</td>\n",
       "      <td>mAnUfactURInG DiRECTOr</td>\n",
       "      <td>3</td>\n",
       "      <td>NaN</td>\n",
       "      <td>10845,0</td>\n",
       "      <td>24208</td>\n",
       "      <td>6</td>\n",
       "      <td>Y</td>\n",
       "      <td>NaN</td>\n",
       "      <td>13</td>\n",
       "      <td>3,0</td>\n",
       "      <td>2</td>\n",
       "      <td>NaN</td>\n",
       "      <td>1</td>\n",
       "      <td>NaN</td>\n",
       "      <td>3</td>\n",
       "      <td>3,0</td>\n",
       "      <td>8</td>\n",
       "      <td>NaN</td>\n",
       "      <td>0</td>\n",
       "      <td>7</td>\n",
       "      <td>10845,0</td>\n",
       "      <td>1977</td>\n",
       "      <td>1000000000$</td>\n",
       "      <td>NaN</td>\n",
       "      <td>NaN</td>\n",
       "      <td>0</td>\n",
       "    </tr>\n",
       "  </tbody>\n",
       "</table>\n",
       "</div>"
      ],
      "text/plain": [
       "     Age Attrition     BusinessTravel DailyRate                Department  \\\n",
       "1604  41       Yes                NaN   1085,0$   Research & Development    \n",
       "1605  31        No      travel_rarely    154,0$                       NaN   \n",
       "1606  26        No  travel_frequently   1283,0$                    Sales    \n",
       "1607  31        No                NaN    616,0$                       NaN   \n",
       "1608  32        No                NaN    498,0$                       NaN   \n",
       "1609  36       Yes      travel_rarely    530,0$                       NaN   \n",
       "1610  45        No         non-travel    805,0$                       NaN   \n",
       "1611  39        No      travel_rarely    903,0$                       NaN   \n",
       "1612  36        No         non-travel   1229,0$                       NaN   \n",
       "1613  46        No                NaN    566,0$                       NaN   \n",
       "\n",
       "      DistanceFromHome  Education    EducationField  employeecount  \\\n",
       "1604                 2          4     Life Sciences              1   \n",
       "1605                 7          4               NaN              1   \n",
       "1606                 1          3           Medical              1   \n",
       "1607                12          3           Medical              1   \n",
       "1608                 3          4           Medical              1   \n",
       "1609                 3          1     Life Sciences              1   \n",
       "1610                 4          2               NaN              1   \n",
       "1611               -13          5               NaN              1   \n",
       "1612                 8          4  Technical Degree              1   \n",
       "1613                 7          2           Medical              1   \n",
       "\n",
       "     employeenumber  EnvironmentSatisfaction  Gender     HourlyRate  \\\n",
       "1604          927,0                        2       1  Not Available   \n",
       "1605          941,0                        2       0  Not Available   \n",
       "1606          956,0                        3       0             52   \n",
       "1607            NaN                        4       1             41   \n",
       "1608          966,0                        3       1             93   \n",
       "1609          967,0                        3       0             51   \n",
       "1610          972,0                        3       0             57   \n",
       "1611            NaN                       13       0             41   \n",
       "1612          990,0                        1       0             84   \n",
       "1613            NaN                        4       0             75   \n",
       "\n",
       "      JobInvolvement  JobLevel                      JobRole  JobSatisfaction  \\\n",
       "1604               1         1       LAbORAToRy tEcHNICian                 4   \n",
       "1605               2         1        SAlES rEpreSENtaTiVe                 3   \n",
       "1606               2         2             sAleS EXECUtIvE                 1   \n",
       "1607               3         2   HEaltHCarE REPreSENtAtIve                 4   \n",
       "1608               3         2      MANUfaCtuRiNG DiReCtor                 1   \n",
       "1609               2         3             saLEs ExeCUTiVe                 4   \n",
       "1610               3         2       LAboRaTOry tECHNiCIAn                 2   \n",
       "1611               4         3             sAlES ExECUTivE                 3   \n",
       "1612               3         2             SaLes ExecUtIVe                 4   \n",
       "1613               3         3      mAnUfactURInG DiRECTOr                 3   \n",
       "\n",
       "     MaritalStatus MonthlyIncome  MonthlyRate  NUMCOMPANIESWORKED Over18  \\\n",
       "1604      divorced           NaN        17725                   4    NaN   \n",
       "1605           NaN        2329,0        11737                   3    NaN   \n",
       "1606           NaN        4294,0        11148                   1      Y   \n",
       "1607           NaN           NaN        17369                   0    NaN   \n",
       "1608       Married        6725,0        13554                   1    NaN   \n",
       "1609       Married       10325,0         5518                   1      Y   \n",
       "1610           NaN        4447,0        23163                   1    NaN   \n",
       "1611        Single           NaN         2560                   0    NaN   \n",
       "1612      Divorced           NaN        25952                   4    NaN   \n",
       "1613           NaN       10845,0        24208                   6      Y   \n",
       "\n",
       "     OverTime  PercentSalaryHike PerformanceRating  RelationshipSatisfaction  \\\n",
       "1604      Yes                 13               3,0                         3   \n",
       "1605      NaN                 15               NaN                         2   \n",
       "1606      NaN                 12               3,0                         2   \n",
       "1607      NaN                 11               3,0                         3   \n",
       "1608      NaN                 12               3,0                         3   \n",
       "1609      NaN                 11               NaN                         1   \n",
       "1610      NaN                 12               3,0                         2   \n",
       "1611       No                 18               3,0                         4   \n",
       "1612       No                 13               NaN                         4   \n",
       "1613      NaN                 13               3,0                         2   \n",
       "\n",
       "     StandardHours  StockOptionLevel TOTALWORKINGYEARS  TrainingTimesLastYear  \\\n",
       "1604          80,0                 1               NaN                      1   \n",
       "1605          80,0                 0               NaN                      2   \n",
       "1606           NaN                 0               NaN                      2   \n",
       "1607           NaN                 2              10,0                      2   \n",
       "1608           NaN                 1               8,0                      2   \n",
       "1609           NaN                 1               NaN                      6   \n",
       "1610           NaN                 0               NaN                      5   \n",
       "1611           NaN                 0               9,0                      3   \n",
       "1612           NaN                 2              12,0                      3   \n",
       "1613           NaN                 1               NaN                      3   \n",
       "\n",
       "     WORKLIFEBALANCE  YearsAtCompany YearsInCurrentRole  \\\n",
       "1604             2,0               7                NaN   \n",
       "1605             4,0               7                NaN   \n",
       "1606             3,0               7                NaN   \n",
       "1607             1,0               9                NaN   \n",
       "1608             4,0               8                NaN   \n",
       "1609             3,0              16                NaN   \n",
       "1610             2,0               9                NaN   \n",
       "1611             3,0               8                NaN   \n",
       "1612             3,0               7                NaN   \n",
       "1613             3,0               8                NaN   \n",
       "\n",
       "      YearsSinceLastPromotion  YEARSWITHCURRMANAGER SameAsMonthlyIncome  \\\n",
       "1604                        1                     0                 NaN   \n",
       "1605                        5                     2              2329,0   \n",
       "1606                        0                     7              4294,0   \n",
       "1607                        8                     5                 NaN   \n",
       "1608                        6                     3              6725,0   \n",
       "1609                        3                     7             10325,0   \n",
       "1610                        0                     8              4447,0   \n",
       "1611                        0                     7                 NaN   \n",
       "1612                        0                     7                 NaN   \n",
       "1613                        0                     7             10845,0   \n",
       "\n",
       "      DateBirth       Salary  \\\n",
       "1604       1982  1000000000$   \n",
       "1605       1992  1000000000$   \n",
       "1606       1997  1000000000$   \n",
       "1607       1992  1000000000$   \n",
       "1608       1991  1000000000$   \n",
       "1609       1987  1000000000$   \n",
       "1610       1978  1000000000$   \n",
       "1611       1984  1000000000$   \n",
       "1612       1987  1000000000$   \n",
       "1613       1977  1000000000$   \n",
       "\n",
       "                                        RoleDepartament  NUMBERCHILDREN  \\\n",
       "1604   LAbORAToRy tEcHNICian  -  Research & Developm...             NaN   \n",
       "1605                                                NaN             NaN   \n",
       "1606                         sAleS EXECUtIvE  -  Sales              NaN   \n",
       "1607                                                NaN             NaN   \n",
       "1608                                                NaN             NaN   \n",
       "1609                                                NaN             NaN   \n",
       "1610                                                NaN             NaN   \n",
       "1611                                                NaN             NaN   \n",
       "1612                                                NaN             NaN   \n",
       "1613                                                NaN             NaN   \n",
       "\n",
       "     RemoteWork  \n",
       "1604        Yes  \n",
       "1605       True  \n",
       "1606          1  \n",
       "1607       True  \n",
       "1608          1  \n",
       "1609          0  \n",
       "1610          1  \n",
       "1611        Yes  \n",
       "1612       True  \n",
       "1613          0  "
      ]
     },
     "metadata": {},
     "output_type": "display_data"
    },
    {
     "name": "stdout",
     "output_type": "stream",
     "text": [
      "\n",
      "Statistical description of the DataFrame (numeric):\n"
     ]
    },
    {
     "data": {
      "text/html": [
       "<div>\n",
       "<style scoped>\n",
       "    .dataframe tbody tr th:only-of-type {\n",
       "        vertical-align: middle;\n",
       "    }\n",
       "\n",
       "    .dataframe tbody tr th {\n",
       "        vertical-align: top;\n",
       "    }\n",
       "\n",
       "    .dataframe thead th {\n",
       "        text-align: right;\n",
       "    }\n",
       "</style>\n",
       "<table border=\"1\" class=\"dataframe\">\n",
       "  <thead>\n",
       "    <tr style=\"text-align: right;\">\n",
       "      <th></th>\n",
       "      <th>count</th>\n",
       "      <th>mean</th>\n",
       "      <th>std</th>\n",
       "      <th>min</th>\n",
       "      <th>25%</th>\n",
       "      <th>50%</th>\n",
       "      <th>75%</th>\n",
       "      <th>max</th>\n",
       "    </tr>\n",
       "  </thead>\n",
       "  <tbody>\n",
       "    <tr>\n",
       "      <th>DistanceFromHome</th>\n",
       "      <td>1614.0</td>\n",
       "      <td>4.527261</td>\n",
       "      <td>14.591913</td>\n",
       "      <td>-49.0</td>\n",
       "      <td>2.0</td>\n",
       "      <td>5.0</td>\n",
       "      <td>11.0</td>\n",
       "      <td>29.0</td>\n",
       "    </tr>\n",
       "    <tr>\n",
       "      <th>Education</th>\n",
       "      <td>1614.0</td>\n",
       "      <td>2.925031</td>\n",
       "      <td>1.022357</td>\n",
       "      <td>1.0</td>\n",
       "      <td>2.0</td>\n",
       "      <td>3.0</td>\n",
       "      <td>4.0</td>\n",
       "      <td>5.0</td>\n",
       "    </tr>\n",
       "    <tr>\n",
       "      <th>employeecount</th>\n",
       "      <td>1614.0</td>\n",
       "      <td>1.000000</td>\n",
       "      <td>0.000000</td>\n",
       "      <td>1.0</td>\n",
       "      <td>1.0</td>\n",
       "      <td>1.0</td>\n",
       "      <td>1.0</td>\n",
       "      <td>1.0</td>\n",
       "    </tr>\n",
       "    <tr>\n",
       "      <th>EnvironmentSatisfaction</th>\n",
       "      <td>1614.0</td>\n",
       "      <td>4.294919</td>\n",
       "      <td>6.993559</td>\n",
       "      <td>1.0</td>\n",
       "      <td>2.0</td>\n",
       "      <td>3.0</td>\n",
       "      <td>4.0</td>\n",
       "      <td>49.0</td>\n",
       "    </tr>\n",
       "    <tr>\n",
       "      <th>Gender</th>\n",
       "      <td>1614.0</td>\n",
       "      <td>0.398389</td>\n",
       "      <td>0.489718</td>\n",
       "      <td>0.0</td>\n",
       "      <td>0.0</td>\n",
       "      <td>0.0</td>\n",
       "      <td>1.0</td>\n",
       "      <td>1.0</td>\n",
       "    </tr>\n",
       "    <tr>\n",
       "      <th>JobInvolvement</th>\n",
       "      <td>1614.0</td>\n",
       "      <td>2.739777</td>\n",
       "      <td>0.711567</td>\n",
       "      <td>1.0</td>\n",
       "      <td>2.0</td>\n",
       "      <td>3.0</td>\n",
       "      <td>3.0</td>\n",
       "      <td>4.0</td>\n",
       "    </tr>\n",
       "    <tr>\n",
       "      <th>JobLevel</th>\n",
       "      <td>1614.0</td>\n",
       "      <td>2.068154</td>\n",
       "      <td>1.101344</td>\n",
       "      <td>1.0</td>\n",
       "      <td>1.0</td>\n",
       "      <td>2.0</td>\n",
       "      <td>3.0</td>\n",
       "      <td>5.0</td>\n",
       "    </tr>\n",
       "    <tr>\n",
       "      <th>JobSatisfaction</th>\n",
       "      <td>1614.0</td>\n",
       "      <td>2.738538</td>\n",
       "      <td>1.106163</td>\n",
       "      <td>1.0</td>\n",
       "      <td>2.0</td>\n",
       "      <td>3.0</td>\n",
       "      <td>4.0</td>\n",
       "      <td>4.0</td>\n",
       "    </tr>\n",
       "    <tr>\n",
       "      <th>MonthlyRate</th>\n",
       "      <td>1614.0</td>\n",
       "      <td>14284.495663</td>\n",
       "      <td>7110.414585</td>\n",
       "      <td>2094.0</td>\n",
       "      <td>8001.0</td>\n",
       "      <td>14248.5</td>\n",
       "      <td>20364.0</td>\n",
       "      <td>26999.0</td>\n",
       "    </tr>\n",
       "    <tr>\n",
       "      <th>NUMCOMPANIESWORKED</th>\n",
       "      <td>1614.0</td>\n",
       "      <td>2.673482</td>\n",
       "      <td>2.506152</td>\n",
       "      <td>0.0</td>\n",
       "      <td>1.0</td>\n",
       "      <td>2.0</td>\n",
       "      <td>4.0</td>\n",
       "      <td>9.0</td>\n",
       "    </tr>\n",
       "    <tr>\n",
       "      <th>PercentSalaryHike</th>\n",
       "      <td>1614.0</td>\n",
       "      <td>15.165428</td>\n",
       "      <td>3.648610</td>\n",
       "      <td>11.0</td>\n",
       "      <td>12.0</td>\n",
       "      <td>14.0</td>\n",
       "      <td>18.0</td>\n",
       "      <td>25.0</td>\n",
       "    </tr>\n",
       "    <tr>\n",
       "      <th>RelationshipSatisfaction</th>\n",
       "      <td>1614.0</td>\n",
       "      <td>2.704461</td>\n",
       "      <td>1.079031</td>\n",
       "      <td>1.0</td>\n",
       "      <td>2.0</td>\n",
       "      <td>3.0</td>\n",
       "      <td>4.0</td>\n",
       "      <td>4.0</td>\n",
       "    </tr>\n",
       "    <tr>\n",
       "      <th>StockOptionLevel</th>\n",
       "      <td>1614.0</td>\n",
       "      <td>0.791202</td>\n",
       "      <td>0.842396</td>\n",
       "      <td>0.0</td>\n",
       "      <td>0.0</td>\n",
       "      <td>1.0</td>\n",
       "      <td>1.0</td>\n",
       "      <td>3.0</td>\n",
       "    </tr>\n",
       "    <tr>\n",
       "      <th>TrainingTimesLastYear</th>\n",
       "      <td>1614.0</td>\n",
       "      <td>2.809789</td>\n",
       "      <td>1.297765</td>\n",
       "      <td>0.0</td>\n",
       "      <td>2.0</td>\n",
       "      <td>3.0</td>\n",
       "      <td>3.0</td>\n",
       "      <td>6.0</td>\n",
       "    </tr>\n",
       "    <tr>\n",
       "      <th>YearsAtCompany</th>\n",
       "      <td>1614.0</td>\n",
       "      <td>7.132590</td>\n",
       "      <td>6.124237</td>\n",
       "      <td>0.0</td>\n",
       "      <td>3.0</td>\n",
       "      <td>5.0</td>\n",
       "      <td>9.0</td>\n",
       "      <td>40.0</td>\n",
       "    </tr>\n",
       "    <tr>\n",
       "      <th>YearsSinceLastPromotion</th>\n",
       "      <td>1614.0</td>\n",
       "      <td>2.245973</td>\n",
       "      <td>3.235665</td>\n",
       "      <td>0.0</td>\n",
       "      <td>0.0</td>\n",
       "      <td>1.0</td>\n",
       "      <td>3.0</td>\n",
       "      <td>15.0</td>\n",
       "    </tr>\n",
       "    <tr>\n",
       "      <th>YEARSWITHCURRMANAGER</th>\n",
       "      <td>1614.0</td>\n",
       "      <td>4.220570</td>\n",
       "      <td>3.562695</td>\n",
       "      <td>0.0</td>\n",
       "      <td>2.0</td>\n",
       "      <td>3.0</td>\n",
       "      <td>7.0</td>\n",
       "      <td>17.0</td>\n",
       "    </tr>\n",
       "    <tr>\n",
       "      <th>DateBirth</th>\n",
       "      <td>1614.0</td>\n",
       "      <td>1986.076208</td>\n",
       "      <td>9.101332</td>\n",
       "      <td>1963.0</td>\n",
       "      <td>1980.0</td>\n",
       "      <td>1987.0</td>\n",
       "      <td>1993.0</td>\n",
       "      <td>2005.0</td>\n",
       "    </tr>\n",
       "    <tr>\n",
       "      <th>NUMBERCHILDREN</th>\n",
       "      <td>0.0</td>\n",
       "      <td>NaN</td>\n",
       "      <td>NaN</td>\n",
       "      <td>NaN</td>\n",
       "      <td>NaN</td>\n",
       "      <td>NaN</td>\n",
       "      <td>NaN</td>\n",
       "      <td>NaN</td>\n",
       "    </tr>\n",
       "  </tbody>\n",
       "</table>\n",
       "</div>"
      ],
      "text/plain": [
       "                           count          mean          std     min     25%  \\\n",
       "DistanceFromHome          1614.0      4.527261    14.591913   -49.0     2.0   \n",
       "Education                 1614.0      2.925031     1.022357     1.0     2.0   \n",
       "employeecount             1614.0      1.000000     0.000000     1.0     1.0   \n",
       "EnvironmentSatisfaction   1614.0      4.294919     6.993559     1.0     2.0   \n",
       "Gender                    1614.0      0.398389     0.489718     0.0     0.0   \n",
       "JobInvolvement            1614.0      2.739777     0.711567     1.0     2.0   \n",
       "JobLevel                  1614.0      2.068154     1.101344     1.0     1.0   \n",
       "JobSatisfaction           1614.0      2.738538     1.106163     1.0     2.0   \n",
       "MonthlyRate               1614.0  14284.495663  7110.414585  2094.0  8001.0   \n",
       "NUMCOMPANIESWORKED        1614.0      2.673482     2.506152     0.0     1.0   \n",
       "PercentSalaryHike         1614.0     15.165428     3.648610    11.0    12.0   \n",
       "RelationshipSatisfaction  1614.0      2.704461     1.079031     1.0     2.0   \n",
       "StockOptionLevel          1614.0      0.791202     0.842396     0.0     0.0   \n",
       "TrainingTimesLastYear     1614.0      2.809789     1.297765     0.0     2.0   \n",
       "YearsAtCompany            1614.0      7.132590     6.124237     0.0     3.0   \n",
       "YearsSinceLastPromotion   1614.0      2.245973     3.235665     0.0     0.0   \n",
       "YEARSWITHCURRMANAGER      1614.0      4.220570     3.562695     0.0     2.0   \n",
       "DateBirth                 1614.0   1986.076208     9.101332  1963.0  1980.0   \n",
       "NUMBERCHILDREN               0.0           NaN          NaN     NaN     NaN   \n",
       "\n",
       "                              50%      75%      max  \n",
       "DistanceFromHome              5.0     11.0     29.0  \n",
       "Education                     3.0      4.0      5.0  \n",
       "employeecount                 1.0      1.0      1.0  \n",
       "EnvironmentSatisfaction       3.0      4.0     49.0  \n",
       "Gender                        0.0      1.0      1.0  \n",
       "JobInvolvement                3.0      3.0      4.0  \n",
       "JobLevel                      2.0      3.0      5.0  \n",
       "JobSatisfaction               3.0      4.0      4.0  \n",
       "MonthlyRate               14248.5  20364.0  26999.0  \n",
       "NUMCOMPANIESWORKED            2.0      4.0      9.0  \n",
       "PercentSalaryHike            14.0     18.0     25.0  \n",
       "RelationshipSatisfaction      3.0      4.0      4.0  \n",
       "StockOptionLevel              1.0      1.0      3.0  \n",
       "TrainingTimesLastYear         3.0      3.0      6.0  \n",
       "YearsAtCompany                5.0      9.0     40.0  \n",
       "YearsSinceLastPromotion       1.0      3.0     15.0  \n",
       "YEARSWITHCURRMANAGER          3.0      7.0     17.0  \n",
       "DateBirth                  1987.0   1993.0   2005.0  \n",
       "NUMBERCHILDREN                NaN      NaN      NaN  "
      ]
     },
     "metadata": {},
     "output_type": "display_data"
    },
    {
     "name": "stdout",
     "output_type": "stream",
     "text": [
      "\n",
      "Statistical description of the DataFrame (categorical):\n"
     ]
    },
    {
     "data": {
      "text/html": [
       "<div>\n",
       "<style scoped>\n",
       "    .dataframe tbody tr th:only-of-type {\n",
       "        vertical-align: middle;\n",
       "    }\n",
       "\n",
       "    .dataframe tbody tr th {\n",
       "        vertical-align: top;\n",
       "    }\n",
       "\n",
       "    .dataframe thead th {\n",
       "        text-align: right;\n",
       "    }\n",
       "</style>\n",
       "<table border=\"1\" class=\"dataframe\">\n",
       "  <thead>\n",
       "    <tr style=\"text-align: right;\">\n",
       "      <th></th>\n",
       "      <th>count</th>\n",
       "      <th>unique</th>\n",
       "      <th>top</th>\n",
       "      <th>freq</th>\n",
       "    </tr>\n",
       "  </thead>\n",
       "  <tbody>\n",
       "    <tr>\n",
       "      <th>Age</th>\n",
       "      <td>1614</td>\n",
       "      <td>54</td>\n",
       "      <td>35</td>\n",
       "      <td>84</td>\n",
       "    </tr>\n",
       "    <tr>\n",
       "      <th>Attrition</th>\n",
       "      <td>1614</td>\n",
       "      <td>2</td>\n",
       "      <td>No</td>\n",
       "      <td>1355</td>\n",
       "    </tr>\n",
       "    <tr>\n",
       "      <th>BusinessTravel</th>\n",
       "      <td>842</td>\n",
       "      <td>3</td>\n",
       "      <td>travel_rarely</td>\n",
       "      <td>586</td>\n",
       "    </tr>\n",
       "    <tr>\n",
       "      <th>DailyRate</th>\n",
       "      <td>1614</td>\n",
       "      <td>849</td>\n",
       "      <td>nan$</td>\n",
       "      <td>124</td>\n",
       "    </tr>\n",
       "    <tr>\n",
       "      <th>Department</th>\n",
       "      <td>302</td>\n",
       "      <td>3</td>\n",
       "      <td>Research &amp; Development</td>\n",
       "      <td>196</td>\n",
       "    </tr>\n",
       "    <tr>\n",
       "      <th>EducationField</th>\n",
       "      <td>869</td>\n",
       "      <td>6</td>\n",
       "      <td>Life Sciences</td>\n",
       "      <td>349</td>\n",
       "    </tr>\n",
       "    <tr>\n",
       "      <th>employeenumber</th>\n",
       "      <td>1183</td>\n",
       "      <td>1079</td>\n",
       "      <td>1195,0</td>\n",
       "      <td>2</td>\n",
       "    </tr>\n",
       "    <tr>\n",
       "      <th>HourlyRate</th>\n",
       "      <td>1614</td>\n",
       "      <td>72</td>\n",
       "      <td>Not Available</td>\n",
       "      <td>84</td>\n",
       "    </tr>\n",
       "    <tr>\n",
       "      <th>JobRole</th>\n",
       "      <td>1614</td>\n",
       "      <td>1579</td>\n",
       "      <td>mANager</td>\n",
       "      <td>4</td>\n",
       "    </tr>\n",
       "    <tr>\n",
       "      <th>MaritalStatus</th>\n",
       "      <td>963</td>\n",
       "      <td>5</td>\n",
       "      <td>Married</td>\n",
       "      <td>404</td>\n",
       "    </tr>\n",
       "    <tr>\n",
       "      <th>MonthlyIncome</th>\n",
       "      <td>771</td>\n",
       "      <td>668</td>\n",
       "      <td>5304,0</td>\n",
       "      <td>4</td>\n",
       "    </tr>\n",
       "    <tr>\n",
       "      <th>Over18</th>\n",
       "      <td>713</td>\n",
       "      <td>1</td>\n",
       "      <td>Y</td>\n",
       "      <td>713</td>\n",
       "    </tr>\n",
       "    <tr>\n",
       "      <th>OverTime</th>\n",
       "      <td>938</td>\n",
       "      <td>2</td>\n",
       "      <td>No</td>\n",
       "      <td>682</td>\n",
       "    </tr>\n",
       "    <tr>\n",
       "      <th>PerformanceRating</th>\n",
       "      <td>1419</td>\n",
       "      <td>2</td>\n",
       "      <td>3,0</td>\n",
       "      <td>1205</td>\n",
       "    </tr>\n",
       "    <tr>\n",
       "      <th>StandardHours</th>\n",
       "      <td>419</td>\n",
       "      <td>1</td>\n",
       "      <td>80,0</td>\n",
       "      <td>419</td>\n",
       "    </tr>\n",
       "    <tr>\n",
       "      <th>TOTALWORKINGYEARS</th>\n",
       "      <td>1088</td>\n",
       "      <td>40</td>\n",
       "      <td>10,0</td>\n",
       "      <td>144</td>\n",
       "    </tr>\n",
       "    <tr>\n",
       "      <th>WORKLIFEBALANCE</th>\n",
       "      <td>1506</td>\n",
       "      <td>4</td>\n",
       "      <td>3,0</td>\n",
       "      <td>913</td>\n",
       "    </tr>\n",
       "    <tr>\n",
       "      <th>YearsInCurrentRole</th>\n",
       "      <td>34</td>\n",
       "      <td>10</td>\n",
       "      <td>2,0</td>\n",
       "      <td>11</td>\n",
       "    </tr>\n",
       "    <tr>\n",
       "      <th>SameAsMonthlyIncome</th>\n",
       "      <td>771</td>\n",
       "      <td>668</td>\n",
       "      <td>5304,0</td>\n",
       "      <td>4</td>\n",
       "    </tr>\n",
       "    <tr>\n",
       "      <th>Salary</th>\n",
       "      <td>1614</td>\n",
       "      <td>1</td>\n",
       "      <td>1000000000$</td>\n",
       "      <td>1614</td>\n",
       "    </tr>\n",
       "    <tr>\n",
       "      <th>RoleDepartament</th>\n",
       "      <td>302</td>\n",
       "      <td>301</td>\n",
       "      <td>MaNAgeR  -  Sales</td>\n",
       "      <td>2</td>\n",
       "    </tr>\n",
       "    <tr>\n",
       "      <th>RemoteWork</th>\n",
       "      <td>1614</td>\n",
       "      <td>5</td>\n",
       "      <td>1</td>\n",
       "      <td>360</td>\n",
       "    </tr>\n",
       "  </tbody>\n",
       "</table>\n",
       "</div>"
      ],
      "text/plain": [
       "                    count unique                       top  freq\n",
       "Age                  1614     54                        35    84\n",
       "Attrition            1614      2                        No  1355\n",
       "BusinessTravel        842      3             travel_rarely   586\n",
       "DailyRate            1614    849                      nan$   124\n",
       "Department            302      3   Research & Development    196\n",
       "EducationField        869      6             Life Sciences   349\n",
       "employeenumber       1183   1079                    1195,0     2\n",
       "HourlyRate           1614     72             Not Available    84\n",
       "JobRole              1614   1579                  mANager      4\n",
       "MaritalStatus         963      5                   Married   404\n",
       "MonthlyIncome         771    668                    5304,0     4\n",
       "Over18                713      1                         Y   713\n",
       "OverTime              938      2                        No   682\n",
       "PerformanceRating    1419      2                       3,0  1205\n",
       "StandardHours         419      1                      80,0   419\n",
       "TOTALWORKINGYEARS    1088     40                      10,0   144\n",
       "WORKLIFEBALANCE      1506      4                       3,0   913\n",
       "YearsInCurrentRole     34     10                       2,0    11\n",
       "SameAsMonthlyIncome   771    668                    5304,0     4\n",
       "Salary               1614      1               1000000000$  1614\n",
       "RoleDepartament       302    301        MaNAgeR  -  Sales      2\n",
       "RemoteWork           1614      5                         1   360"
      ]
     },
     "metadata": {},
     "output_type": "display_data"
    },
    {
     "name": "stdout",
     "output_type": "stream",
     "text": [
      "\n",
      "Count of null values per column:\n"
     ]
    },
    {
     "data": {
      "text/plain": [
       "Age                            0\n",
       "Attrition                      0\n",
       "BusinessTravel               772\n",
       "DailyRate                      0\n",
       "Department                  1312\n",
       "DistanceFromHome               0\n",
       "Education                      0\n",
       "EducationField               745\n",
       "employeecount                  0\n",
       "employeenumber               431\n",
       "EnvironmentSatisfaction        0\n",
       "Gender                         0\n",
       "HourlyRate                     0\n",
       "JobInvolvement                 0\n",
       "JobLevel                       0\n",
       "JobRole                        0\n",
       "JobSatisfaction                0\n",
       "MaritalStatus                651\n",
       "MonthlyIncome                843\n",
       "MonthlyRate                    0\n",
       "NUMCOMPANIESWORKED             0\n",
       "Over18                       901\n",
       "OverTime                     676\n",
       "PercentSalaryHike              0\n",
       "PerformanceRating            195\n",
       "RelationshipSatisfaction       0\n",
       "StandardHours               1195\n",
       "StockOptionLevel               0\n",
       "TOTALWORKINGYEARS            526\n",
       "TrainingTimesLastYear          0\n",
       "WORKLIFEBALANCE              108\n",
       "YearsAtCompany                 0\n",
       "YearsInCurrentRole          1580\n",
       "YearsSinceLastPromotion        0\n",
       "YEARSWITHCURRMANAGER           0\n",
       "SameAsMonthlyIncome          843\n",
       "DateBirth                      0\n",
       "Salary                         0\n",
       "RoleDepartament             1312\n",
       "NUMBERCHILDREN              1614\n",
       "RemoteWork                     0\n",
       "dtype: int64"
      ]
     },
     "metadata": {},
     "output_type": "display_data"
    },
    {
     "name": "stdout",
     "output_type": "stream",
     "text": [
      "\n",
      "Percentage of null values per column (only columns with nulls):\n"
     ]
    },
    {
     "data": {
      "text/plain": [
       "BusinessTravel          47.83\n",
       "Department              81.29\n",
       "EducationField          46.16\n",
       "employeenumber          26.70\n",
       "MaritalStatus           40.33\n",
       "MonthlyIncome           52.23\n",
       "Over18                  55.82\n",
       "OverTime                41.88\n",
       "PerformanceRating       12.08\n",
       "StandardHours           74.04\n",
       "TOTALWORKINGYEARS       32.59\n",
       "WORKLIFEBALANCE          6.69\n",
       "YearsInCurrentRole      97.89\n",
       "SameAsMonthlyIncome     52.23\n",
       "RoleDepartament         81.29\n",
       "NUMBERCHILDREN         100.00\n",
       "dtype: float64"
      ]
     },
     "metadata": {},
     "output_type": "display_data"
    },
    {
     "name": "stdout",
     "output_type": "stream",
     "text": [
      "\n",
      "Rows with all values as null:\n",
      "There is no rows with all values as null.\n",
      "\n",
      "Count of duplicate rows:\n"
     ]
    },
    {
     "data": {
      "text/plain": [
       "np.int64(0)"
      ]
     },
     "metadata": {},
     "output_type": "display_data"
    }
   ],
   "source": [
    "eda = AutoEDA()\n",
    "df = eda.read_file('HR RAW DATA.csv')\n",
    "eda.explo_df(df)"
   ]
  },
  {
   "cell_type": "code",
   "execution_count": 21,
   "metadata": {},
   "outputs": [
    {
     "name": "stdout",
     "output_type": "stream",
     "text": [
      "\n",
      "Exploration of the column: SameAsMonthlyIncome\n",
      "\n",
      "Statistical description (categorical):\n"
     ]
    },
    {
     "data": {
      "text/plain": [
       "count        771\n",
       "unique       668\n",
       "top       5304,0\n",
       "freq           4\n",
       "Name: SameAsMonthlyIncome, dtype: object"
      ]
     },
     "metadata": {},
     "output_type": "display_data"
    },
    {
     "name": "stdout",
     "output_type": "stream",
     "text": [
      "\n",
      "Count of null values:\n"
     ]
    },
    {
     "data": {
      "text/plain": [
       "np.int64(843)"
      ]
     },
     "metadata": {},
     "output_type": "display_data"
    },
    {
     "name": "stdout",
     "output_type": "stream",
     "text": [
      "\n",
      "Count of unique values:\n"
     ]
    },
    {
     "data": {
      "text/plain": [
       "668"
      ]
     },
     "metadata": {},
     "output_type": "display_data"
    },
    {
     "name": "stdout",
     "output_type": "stream",
     "text": [
      "\n",
      "Unique values:\n"
     ]
    },
    {
     "data": {
      "text/plain": [
       "array(['19537,0', '19999,0', '19232,0', '17169,0', nan, '17174,0',\n",
       "       '16595,0', '19973,0', '13402,0', '13206,0', '19545,0', '18041,0',\n",
       "       '19246,0', '10748,0', '16752,0', '6201,0', '19845,0', '4001,0',\n",
       "       '10447,0', '16064,0', '3210,0', '10266,0', '10475,0', '6162,0',\n",
       "       '4721,0', '4615,0', '16959,0', '10306,0', '5406,0', '5902,0',\n",
       "       '10855,0', '5914,0', '6646,0', '13973,0', '13320,0', '6687,0',\n",
       "       '4735,0', '13872,0', '19045,0', '16015,0', '9613,0', '11510,0',\n",
       "       '4306,0', '17046,0', '5067,0', '3692,0', '19847,0', '2308,0',\n",
       "       '5747,0', '10422,0', '6347,0', '2348,0', '3072,0', '12490,0',\n",
       "       '8020,0', '17068,0', '8943,0', '19272,0', '5577,0', '2691,0',\n",
       "       '7403,0', '8823,0', '3579,0', '17779,0', '18213,0', '13577,0',\n",
       "       '19190,0', '17123,0', '19187,0', '10008,0', '7988,0', '7083,0',\n",
       "       '4723,0', '3407,0', '2929,0', '12031,0', '15427,0', '5126,0',\n",
       "       '9619,0', '5010,0', '19033,0', '10400,0', '2793,0', '5674,0',\n",
       "       '19197,0', '8412,0', '3348,0', '5309,0', '7654,0', '12808,0',\n",
       "       '6586,0', '2519,0', '17099,0', '13120,0', '3131,0', '4444,0',\n",
       "       '6674,0', '9852,0', '17861,0', '7446,0', '13757,0', '16598,0',\n",
       "       '4285,0', '10124,0', '9714,0', '9924,0', '11245,0', '3069,0',\n",
       "       '9241,0', '6472,0', '3055,0', '8321,0', '3143,0', '8578,0',\n",
       "       '4197,0', '9888,0', '13341,0', '5677,0', '2909,0', '9526,0',\n",
       "       '6825,0', '4424,0', '5441,0', '6074,0', '6146,0', '6172,0',\n",
       "       '4668,0', '5605,0', '4319,0', '3564,0', '6261,0', '6804,0',\n",
       "       '19436,0', '5828,0', '2455,0', '5055,0', '4682,0', '5257,0',\n",
       "       '2119,0', '5974,0', '3034,0', '13212,0', '8392,0', '4051,0',\n",
       "       '4805,0', '2741,0', '5337,0', '9434,0', '5396,0', '11159,0',\n",
       "       '4960,0', '8793,0', '19189,0', '2216,0', '11713,0', '5304,0',\n",
       "       '11103,0', '6632,0', '7587,0', '4335,0', '5980,0', '4244,0',\n",
       "       '5228,0', '2700,0', '2366,0', '2329,0', '4294,0', '6725,0',\n",
       "       '10325,0', '4447,0', '10845,0', '5472,0', '6385,0', '7525,0',\n",
       "       '3660,0', '8740,0', '13499,0', '3491,0', '5220,0', '10252,0',\n",
       "       '19740,0', '6209,0', '7094,0', '4534,0', '8500,0', '4639,0',\n",
       "       '5363,0', '4081,0', '3578,0', '17328,0', '10793,0', '10851,0',\n",
       "       '10466,0', '2362,0', '6439,0', '5769,0', '4385,0', '4066,0',\n",
       "       '5206,0', '2655,0', '2570,0', '4502,0', '4968,0', '5147,0',\n",
       "       '2718,0', '3539,0', '5468,0', '5813,0', '9667,0', '5154,0',\n",
       "       '5675,0', '7314,0', '5098,0', '13570,0', '6712,0', '9991,0',\n",
       "       '10248,0', '10938,0', '2593,0', '11878,0', '8095,0', '16856,0',\n",
       "       '4537,0', '17924,0', '4014,0', '12742,0', '3376,0', '10482,0',\n",
       "       '4249,0', '6549,0', '14411,0', '19586,0', '8237,0', '3211,0',\n",
       "       '16704,0', '4774,0', '4568,0', '5993,0', '6499,0', '3452,0',\n",
       "       '6397,0', '2725,0', '3622,0', '6180,0', '6274,0', '4381,0',\n",
       "       '2559,0', '5488,0', '2514,0', '3196,0', '3420,0', '4087,0',\n",
       "       '5368,0', '12936,0', '4221,0', '4963,0', '4200,0', '5006,0',\n",
       "       '7639,0', '6502,0', '13525,0', '6349,0', '6380,0', '3102,0',\n",
       "       '4556,0', '4230,0', '4859,0', '6322,0', '10761,0', '2973,0',\n",
       "       '5204,0', '17399,0', '16885,0', '4323,0', '5155,0', '2936,0',\n",
       "       '18789,0', '4883,0', '2029,0', '2996,0', '9278,0', '4162,0',\n",
       "       '8853,0', '4876,0', '2141,0', '7756,0', '3936,0', '6842,0',\n",
       "       '3989,0', '4930,0', '3702,0', '2705,0', '4448,0', '2379,0',\n",
       "       '5487,0', '2810,0', '8938,0', '9936,0', '5454,0', '18740,0',\n",
       "       '5473,0', '13503,0', '13549,0', '18172,0', '2774,0', '9439,0',\n",
       "       '5265,0', '3815,0', '2389,0', '4000,0', '17584,0', '5661,0',\n",
       "       '4869,0', '4649,0', '10496,0', '2768,0', '3408,0', '3755,0',\n",
       "       '2187,0', '4258,0', '5326,0', '5485,0', '2782,0', '17639,0',\n",
       "       '6062,0', '6288,0', '3424,0', '4194,0', '2532,0', '5666,0',\n",
       "       '13726,0', '4107,0', '3597,0', '4115,0', '6272,0', '2517,0',\n",
       "       '3904,0', '9204,0', '4373,0', '2064,0', '2430,0', '4877,0',\n",
       "       '3760,0', '2013,0', '2974,0', '2766,0', '3377,0', '4213,0',\n",
       "       '6513,0', '4284,0', '2226,0', '5561,0', '2144,0', '5373,0',\n",
       "       '2897,0', '5321,0', '5410,0', '4850,0', '2001,0', '4404,0',\n",
       "       '3944,0', '2960,0', '18947,0', '6465,0', '2683,0', '2014,0',\n",
       "       '3441,0', '13664,0', '5021,0', '18844,0', '4739,0', '10650,0',\n",
       "       '4317,0', '2024,0', '3058,0', '3929,0', '4425,0', '2328,0',\n",
       "       '2657,0', '5940,0', '2622,0', '3212,0', '2911,0', '6931,0',\n",
       "       '2176,0', '3230,0', '18665,0', '2789,0', '6410,0', '4941,0',\n",
       "       '3983,0', '2904,0', '2696,0', '2174,0', '6755,0', '10965,0',\n",
       "       '2543,0', '19406,0', '6538,0', '2258,0', '2218,0', '2654,0',\n",
       "       '11935,0', '2546,0', '3894,0', '4262,0', '10527,0', '2400,0',\n",
       "       '3681,0', '3447,0', '19513,0', '2659,0', '8847,0', '2045,0',\n",
       "       '4851,0', '8120,0', '4577,0', '5405,0', '3708,0', '13770,0',\n",
       "       '2297,0', '2450,0', '4342,0', '2572,0', '6500,0', '3149,0',\n",
       "       '5324,0', '4382,0', '2553,0', '5933,0', '4403,0', '10934,0',\n",
       "       '2022,0', '4256,0', '3580,0', '2899,0', '5562,0', '2377,0',\n",
       "       '2404,0', '2799,0', '2811,0', '4377,0', '4240,0', '4227,0',\n",
       "       '3917,0', '4969,0', '2042,0', '2821,0', '9957,0', '2207,0',\n",
       "       '2070,0', '2791,0', '8224,0', '2610,0', '5731,0', '2539,0',\n",
       "       '2376,0', '19081,0', '2743,0', '4538,0', '3867,0', '2080,0',\n",
       "       '2096,0', '4627,0', '2302,0', '5071,0', '10596,0', '5467,0',\n",
       "       '2394,0', '3629,0', '9362,0', '3229,0', '16422,0', '5647,0',\n",
       "       '4400,0', '2066,0', '5486,0', '3162,0', '6651,0', '4898,0',\n",
       "       '3180,0', '11244,0', '4069,0', '6392,0', '4855,0', '3312,0',\n",
       "       '3117,0', '15202,0', '2580,0', '2166,0', '4374,0', '5505,0',\n",
       "       '2587,0', '15972,0', '2305,0', '3433,0', '3477,0', '3907,0',\n",
       "       '3445,0', '2760,0', '6294,0', '13116,0', '3591,0', '2105,0',\n",
       "       '3902,0', '2662,0', '2062,0', '5507,0', '8103,0', '3978,0',\n",
       "       '5399,0', '10448,0', '4440,0', '2660,0', '3375,0', '2269,0',\n",
       "       '4787,0', '2809,0', '10854,0', '2571,0', '6142,0', '2496,0',\n",
       "       '3419,0', '2501,0', '2566,0', '3920,0', '13964,0', '6540,0',\n",
       "       '2244,0', '16184,0', '4233,0', '14814,0', '17159,0', '2318,0',\n",
       "       '3617,0', '2684,0', '19237,0', '4422,0', '2552,0', '2678,0',\n",
       "       '5171,0', '11916,0', '9380,0', '5878,0', '2468,0', '4127,0',\n",
       "       '2148,0', '3886,0', '6667,0', '2090,0', '2086,0', '1951,0',\n",
       "       '3022,0', '9724,0', '3388,0', '3038,0', '2322,0', '2926,0',\n",
       "       '4505,0', '2835,0', '6553,0', '6673,0', '13591,0', '2177,0',\n",
       "       '19517,0', '19202,0', '10048,0', '2723,0', '6644,0', '3161,0',\n",
       "       '1420,0', '1200,0', '5238,0', '9985,0', '15992,0', '2370,0',\n",
       "       '6781,0', '6653,0', '2851,0', '5258,0', '2476,0', '2285,0',\n",
       "       '3448,0', '4558,0', '1702,0', '2564,0', '5070,0', '3780,0',\n",
       "       '9824,0', '1878,0', '2340,0', '2127,0', '2033,0', '9602,0',\n",
       "       '16627,0', '2083,0', '1009,0', '7861,0', '2642,0', '5121,0',\n",
       "       '2694,0', '5094,0', '2274,0', '2314,0', '2380,0', '2008,0',\n",
       "       '10552,0', '2259,0', '2413,0', '2121,0', '2479,0', '13194,0',\n",
       "       '4163,0', '2600,0', '18303,0', '4777,0', '1052,0', '2461,0',\n",
       "       '2596,0', '4728,0', '7351,0', '4766,0', '2827,0', '2853,0',\n",
       "       '2290,0', '2107,0', '2210,0', '13191,0', '18265,0', '1118,0',\n",
       "       '2372,0', '2838,0', '18061,0', '1611,0', '4768,0', '1274,0',\n",
       "       '2561,0', '1563,0', '6388,0', '8376,0', '4841,0', '2074,0',\n",
       "       '2972,0', '6815,0', '2690,0', '17567,0', '1569,0', '4187,0',\n",
       "       '3306,0', '1393,0', '10883,0', '2862,0', '6735,0', '9756,0',\n",
       "       '5294,0', '2437,0', '4071,0', '2956,0', '4648,0', '2804,0',\n",
       "       '2439,0', '2856,0', '2933,0', '1091,0', '5151,0', '2863,0',\n",
       "       '2858,0', '1129,0', '19431,0'], dtype=object)"
      ]
     },
     "metadata": {},
     "output_type": "display_data"
    },
    {
     "name": "stdout",
     "output_type": "stream",
     "text": [
      "\n",
      "Value Counts:\n"
     ]
    },
    {
     "data": {
      "text/plain": [
       "SameAsMonthlyIncome\n",
       "5304,0     4\n",
       "6347,0     4\n",
       "2657,0     3\n",
       "2258,0     3\n",
       "2539,0     2\n",
       "          ..\n",
       "5151,0     1\n",
       "2863,0     1\n",
       "2858,0     1\n",
       "1129,0     1\n",
       "19845,0    1\n",
       "Name: count, Length: 668, dtype: int64"
      ]
     },
     "metadata": {},
     "output_type": "display_data"
    },
    {
     "name": "stdout",
     "output_type": "stream",
     "text": [
      "\n",
      "Most frequent value (mode):\n"
     ]
    },
    {
     "data": {
      "text/plain": [
       "'5304,0'"
      ]
     },
     "metadata": {},
     "output_type": "display_data"
    },
    {
     "name": "stdout",
     "output_type": "stream",
     "text": [
      "\n",
      "Count of duplicates in the column:\n"
     ]
    },
    {
     "data": {
      "text/plain": [
       "np.int64(945)"
      ]
     },
     "metadata": {},
     "output_type": "display_data"
    }
   ],
   "source": [
    "eda.explo_df(df, column='SameAsMonthlyIncome')"
   ]
  },
  {
   "cell_type": "code",
   "execution_count": 4,
   "metadata": {},
   "outputs": [
    {
     "name": "stdout",
     "output_type": "stream",
     "text": [
      "\n",
      "Exploration of the column: Age\n",
      "\n",
      "Statistical description (categorical):\n"
     ]
    },
    {
     "data": {
      "text/plain": [
       "count     1614\n",
       "unique      54\n",
       "top         35\n",
       "freq        84\n",
       "Name: Age, dtype: object"
      ]
     },
     "metadata": {},
     "output_type": "display_data"
    },
    {
     "name": "stdout",
     "output_type": "stream",
     "text": [
      "\n",
      "Count of null values:\n"
     ]
    },
    {
     "data": {
      "text/plain": [
       "np.int64(0)"
      ]
     },
     "metadata": {},
     "output_type": "display_data"
    },
    {
     "name": "stdout",
     "output_type": "stream",
     "text": [
      "\n",
      "Count of unique values:\n"
     ]
    },
    {
     "data": {
      "text/plain": [
       "54"
      ]
     },
     "metadata": {},
     "output_type": "display_data"
    },
    {
     "name": "stdout",
     "output_type": "stream",
     "text": [
      "\n",
      "Unique values:\n"
     ]
    },
    {
     "data": {
      "text/plain": [
       "array(['51', '52', '42', '47', '46', '48', '59', '41', '56', '38', '55',\n",
       "       '40', '58', '35', '45', '33', '36', '34', 'forty-seven', '53',\n",
       "       '43', '60', '32', '37', '49', '39', '50', '44', '30',\n",
       "       'fifty-eight', '29', '31', '54', '57', '27', 'thirty-six', '28',\n",
       "       '26', 'fifty-five', '25', 'fifty-two', 'thirty-one', '24',\n",
       "       'thirty', '23', '22', '21', '20', 'twenty-six', '19',\n",
       "       'thirty-seven', '18', 'thirty-two', 'twenty-four'], dtype=object)"
      ]
     },
     "metadata": {},
     "output_type": "display_data"
    },
    {
     "name": "stdout",
     "output_type": "stream",
     "text": [
      "\n",
      "Value Counts:\n"
     ]
    },
    {
     "data": {
      "text/plain": [
       "Age\n",
       "35              84\n",
       "34              83\n",
       "31              82\n",
       "29              78\n",
       "36              74\n",
       "38              64\n",
       "32              64\n",
       "30              63\n",
       "33              61\n",
       "40              60\n",
       "27              54\n",
       "28              53\n",
       "37              53\n",
       "42              50\n",
       "45              48\n",
       "41              46\n",
       "39              45\n",
       "26              45\n",
       "43              40\n",
       "46              38\n",
       "44              34\n",
       "50              31\n",
       "25              27\n",
       "24              26\n",
       "47              26\n",
       "49              25\n",
       "55              24\n",
       "51              20\n",
       "48              20\n",
       "53              20\n",
       "54              20\n",
       "52              18\n",
       "56              17\n",
       "22              16\n",
       "21              16\n",
       "23              15\n",
       "58              14\n",
       "20              11\n",
       "59              10\n",
       "19               9\n",
       "18               8\n",
       "60               5\n",
       "57               5\n",
       "thirty-two       2\n",
       "forty-seven      1\n",
       "fifty-eight      1\n",
       "thirty-six       1\n",
       "fifty-five       1\n",
       "fifty-two        1\n",
       "thirty-one       1\n",
       "thirty           1\n",
       "twenty-six       1\n",
       "thirty-seven     1\n",
       "twenty-four      1\n",
       "Name: count, dtype: int64"
      ]
     },
     "metadata": {},
     "output_type": "display_data"
    },
    {
     "name": "stdout",
     "output_type": "stream",
     "text": [
      "\n",
      "Most frequent value (mode):\n"
     ]
    },
    {
     "data": {
      "text/plain": [
       "'35'"
      ]
     },
     "metadata": {},
     "output_type": "display_data"
    },
    {
     "name": "stdout",
     "output_type": "stream",
     "text": [
      "\n",
      "Count of duplicates in the column:\n"
     ]
    },
    {
     "data": {
      "text/plain": [
       "np.int64(1560)"
      ]
     },
     "metadata": {},
     "output_type": "display_data"
    },
    {
     "name": "stdout",
     "output_type": "stream",
     "text": [
      "\n",
      "Exploration of the column: Attrition\n",
      "\n",
      "Statistical description (categorical):\n"
     ]
    },
    {
     "data": {
      "text/plain": [
       "count     1614\n",
       "unique       2\n",
       "top         No\n",
       "freq      1355\n",
       "Name: Attrition, dtype: object"
      ]
     },
     "metadata": {},
     "output_type": "display_data"
    },
    {
     "name": "stdout",
     "output_type": "stream",
     "text": [
      "\n",
      "Count of null values:\n"
     ]
    },
    {
     "data": {
      "text/plain": [
       "np.int64(0)"
      ]
     },
     "metadata": {},
     "output_type": "display_data"
    },
    {
     "name": "stdout",
     "output_type": "stream",
     "text": [
      "\n",
      "Count of unique values:\n"
     ]
    },
    {
     "data": {
      "text/plain": [
       "2"
      ]
     },
     "metadata": {},
     "output_type": "display_data"
    },
    {
     "name": "stdout",
     "output_type": "stream",
     "text": [
      "\n",
      "Unique values:\n"
     ]
    },
    {
     "data": {
      "text/plain": [
       "array(['No', 'Yes'], dtype=object)"
      ]
     },
     "metadata": {},
     "output_type": "display_data"
    },
    {
     "name": "stdout",
     "output_type": "stream",
     "text": [
      "\n",
      "Value Counts:\n"
     ]
    },
    {
     "data": {
      "text/plain": [
       "Attrition\n",
       "No     1355\n",
       "Yes     259\n",
       "Name: count, dtype: int64"
      ]
     },
     "metadata": {},
     "output_type": "display_data"
    },
    {
     "name": "stdout",
     "output_type": "stream",
     "text": [
      "\n",
      "Most frequent value (mode):\n"
     ]
    },
    {
     "data": {
      "text/plain": [
       "'No'"
      ]
     },
     "metadata": {},
     "output_type": "display_data"
    },
    {
     "name": "stdout",
     "output_type": "stream",
     "text": [
      "\n",
      "Count of duplicates in the column:\n"
     ]
    },
    {
     "data": {
      "text/plain": [
       "np.int64(1612)"
      ]
     },
     "metadata": {},
     "output_type": "display_data"
    },
    {
     "name": "stdout",
     "output_type": "stream",
     "text": [
      "\n",
      "Exploration of the column: BusinessTravel\n",
      "\n",
      "Statistical description (categorical):\n"
     ]
    },
    {
     "data": {
      "text/plain": [
       "count               842\n",
       "unique                3\n",
       "top       travel_rarely\n",
       "freq                586\n",
       "Name: BusinessTravel, dtype: object"
      ]
     },
     "metadata": {},
     "output_type": "display_data"
    },
    {
     "name": "stdout",
     "output_type": "stream",
     "text": [
      "\n",
      "Count of null values:\n"
     ]
    },
    {
     "data": {
      "text/plain": [
       "np.int64(772)"
      ]
     },
     "metadata": {},
     "output_type": "display_data"
    },
    {
     "name": "stdout",
     "output_type": "stream",
     "text": [
      "\n",
      "Count of unique values:\n"
     ]
    },
    {
     "data": {
      "text/plain": [
       "3"
      ]
     },
     "metadata": {},
     "output_type": "display_data"
    },
    {
     "name": "stdout",
     "output_type": "stream",
     "text": [
      "\n",
      "Unique values:\n"
     ]
    },
    {
     "data": {
      "text/plain": [
       "array([nan, 'travel_rarely', 'travel_frequently', 'non-travel'],\n",
       "      dtype=object)"
      ]
     },
     "metadata": {},
     "output_type": "display_data"
    },
    {
     "name": "stdout",
     "output_type": "stream",
     "text": [
      "\n",
      "Value Counts:\n"
     ]
    },
    {
     "data": {
      "text/plain": [
       "BusinessTravel\n",
       "travel_rarely        586\n",
       "travel_frequently    165\n",
       "non-travel            91\n",
       "Name: count, dtype: int64"
      ]
     },
     "metadata": {},
     "output_type": "display_data"
    },
    {
     "name": "stdout",
     "output_type": "stream",
     "text": [
      "\n",
      "Most frequent value (mode):\n"
     ]
    },
    {
     "data": {
      "text/plain": [
       "'travel_rarely'"
      ]
     },
     "metadata": {},
     "output_type": "display_data"
    },
    {
     "name": "stdout",
     "output_type": "stream",
     "text": [
      "\n",
      "Count of duplicates in the column:\n"
     ]
    },
    {
     "data": {
      "text/plain": [
       "np.int64(1610)"
      ]
     },
     "metadata": {},
     "output_type": "display_data"
    },
    {
     "name": "stdout",
     "output_type": "stream",
     "text": [
      "\n",
      "Exploration of the column: DailyRate\n",
      "\n",
      "Statistical description (categorical):\n"
     ]
    },
    {
     "data": {
      "text/plain": [
       "count     1614\n",
       "unique     849\n",
       "top       nan$\n",
       "freq       124\n",
       "Name: DailyRate, dtype: object"
      ]
     },
     "metadata": {},
     "output_type": "display_data"
    },
    {
     "name": "stdout",
     "output_type": "stream",
     "text": [
      "\n",
      "Count of null values:\n"
     ]
    },
    {
     "data": {
      "text/plain": [
       "np.int64(0)"
      ]
     },
     "metadata": {},
     "output_type": "display_data"
    },
    {
     "name": "stdout",
     "output_type": "stream",
     "text": [
      "\n",
      "Count of unique values:\n"
     ]
    },
    {
     "data": {
      "text/plain": [
       "849"
      ]
     },
     "metadata": {},
     "output_type": "display_data"
    },
    {
     "name": "stdout",
     "output_type": "stream",
     "text": [
      "\n",
      "Unique values:\n"
     ]
    },
    {
     "data": {
      "text/plain": [
       "array(['684,0$', '699,0$', '532,0$', '359,0$', '1319,0$', '117,0$',\n",
       "       '1435,0$', '635,0$', '1276,0$', '840,0$', '247,0$', '1369,0$',\n",
       "       '201,0$', '1360,0$', '692,0$', '1398,0$', '286,0$', '1402,0$',\n",
       "       '819,0$', '884,0$', '1238,0$', '515,0$', '1223,0$', '202,0$',\n",
       "       '928,0$', '607,0$', '266,0$', '429,0$', '589,0$', 'nan$',\n",
       "       '1180,0$', '1282,0$', '776,0$', '665,0$', '526,0$', '1034,0$',\n",
       "       '1403,0$', '1499,0$', '580,0$', '859,0$', '263,0$', '1376,0$',\n",
       "       '885,0$', '1003,0$', '1321,0$', '394,0$', '1372,0$', '1333,0$',\n",
       "       '228,0$', '737,0$', '823,0$', '667,0$', '301,0$', '573,0$',\n",
       "       '1329,0$', '630,0$', '1063,0$', '1017,0$', '1296,0$', '939,0$',\n",
       "       '1355,0$', '1448,0$', '200,0$', '1202,0$', '404,0$', '208,0$',\n",
       "       '813,0$', '465,0$', '1189,0$', '1001,0$', '1394,0$', '161,0$',\n",
       "       '288,0$', '682,0$', '1354,0$', '147,0$', '119,0$', '1413,0$',\n",
       "       '452,0$', '334,0$', '1132,0$', '982,0$', '480,0$', '1099,0$',\n",
       "       '672,0$', '1379,0$', '583,0$', '1492,0$', '1050,0$', '469,0$',\n",
       "       '237,0$', '1440,0$', '1291,0$', '1157,0$', '1336,0$', '1224,0$',\n",
       "       '735,0$', '1389,0$', '638,0$', '1240,0$', '194,0$', '1339,0$',\n",
       "       '111,0$', '1469,0$', '470,0$', '1232,0$', '1249,0$', '798,0$',\n",
       "       '549,0$', '570,0$', '541,0$', '164,0$', '1117,0$', '619,0$',\n",
       "       '319,0$', '956,0$', '1245,0$', '1397,0$', '527,0$', '213,0$',\n",
       "       '882,0$', '330,0$', '406,0$', '217,0$', '481,0$', '669,0$',\n",
       "       '1465,0$', '685,0$', '1062,0$', '177,0$', '1199,0$', '648,0$',\n",
       "       '412,0$', '282,0$', '770,0$', '601,0$', '855,0$', '332,0$',\n",
       "       '1326,0$', '748,0$', '405,0$', '790,0$', '971,0$', '1370,0$',\n",
       "       '750,0$', '880,0$', '678,0$', '1179,0$', '350,0$', '1266,0$',\n",
       "       '574,0$', '189,0$', '310,0$', '722,0$', '1219,0$', '994,0$',\n",
       "       '721,0$', '853,0$', '427,0$', '852,0$', '1334,0$', '1093,0$',\n",
       "       '967,0$', '989,0$', '1195,0$', '1045,0$', '829,0$', '663,0$',\n",
       "       '1300,0$', '1105,0$', '906,0$', '849,0$', '1275,0$', '1218,0$',\n",
       "       '422,0$', '1274,0$', '1076,0$', '1207,0$', '430,0$', '933,0$',\n",
       "       '1184,0$', '586,0$', '890,0$', '379,0$', '1425,0$', '1188,0$',\n",
       "       '938,0$', '1053,0$', '248,0$', '796,0$', '174,0$', '408,0$',\n",
       "       '977,0$', '536,0$', '135,0$', '1476,0$', '587,0$', '495,0$',\n",
       "       '523,0$', '507,0$', '1055,0$', '1445,0$', '218,0$', '447,0$',\n",
       "       '1029,0$', '674,0$', '538,0$', '740,0$', '1234,0$', '170,0$',\n",
       "       '1130,0$', '584,0$', '918,0$', '792,0$', '611,0$', '1383,0$',\n",
       "       '867,0$', '706,0$', '728,0$', '311,0$', '556,0$', '937,0$',\n",
       "       '1125,0$', '444,0$', '911,0$', '585,0$', '1392,0$', '1005,0$',\n",
       "       '1299,0$', '655,0$', '746,0$', '632,0$', '658,0$', '1467,0$',\n",
       "       '1312,0$', '249,0$', '802,0$', '689,0$', '1395,0$', '1436,0$',\n",
       "       '1496,0$', '1480,0$', '313,0$', '894,0$', '290,0$', '1084,0$',\n",
       "       '1002,0$', '1242,0$', '1052,0$', '944,0$', '771,0$', '1416,0$',\n",
       "       '1327,0$', '488,0$', '1385,0$', '666,0$', '1315,0$', '442,0$',\n",
       "       '950,0$', '691,0$', '1018,0$', '559,0$', '318,0$', '144,0$',\n",
       "       '1171,0$', '143,0$', '1178,0$', '1107,0$', '645,0$', '1485,0$',\n",
       "       '1116,0$', '163,0$', '561,0$', '426,0$', '509,0$', '258,0$',\n",
       "       '525,0$', '238,0$', '482,0$', '397,0$', '243,0$', '806,0$',\n",
       "       '1442,0$', '929,0$', '827,0$', '703,0$', '294,0$', '314,0$',\n",
       "       '654,0$', '501,0$', '954,0$', '1434,0$', '657,0$', '240,0$',\n",
       "       '791,0$', '676,0$', '436,0$', '760,0$', '661,0$', '1085,0$',\n",
       "       '154,0$', '1283,0$', '616,0$', '498,0$', '530,0$', '805,0$',\n",
       "       '903,0$', '1229,0$', '566,0$', '1441,0$', '153,0$', '1066,0$',\n",
       "       '145,0$', '1109,0$', '124,0$', '300,0$', '1366,0$', '857,0$',\n",
       "       '1204,0$', '1082,0$', '203,0$', '1308,0$', '718,0$', '593,0$',\n",
       "       '1384,0$', '1361,0$', '1146,0$', '1316,0$', '363,0$', '1103,0$',\n",
       "       '920,0$', '694,0$', '1429,0$', '531,0$', '621,0$', '604,0$',\n",
       "       '325,0$', '1030,0$', '524,0$', '943,0$', '1009,0$', '817,0$',\n",
       "       '930,0$', '1147,0$', '652,0$', '337,0$', '1136,0$', '326,0$',\n",
       "       '377,0$', '1038,0$', '1490,0$', '1246,0$', '224,0$', '441,0$',\n",
       "       '898,0$', '1313,0$', '1015,0$', '1387,0$', '1302,0$', '602,0$',\n",
       "       '772,0$', '809,0$', '786,0$', '921,0$', '717,0$', '979,0$',\n",
       "       '953,0$', '244,0$', '196,0$', '303,0$', '1092,0$', '261,0$',\n",
       "       '1422,0$', '1137,0$', '511,0$', '1396,0$', '1096,0$', '1169,0$',\n",
       "       '1239,0$', '157,0$', '754,0$', '1303,0$', '697,0$', '116,0$',\n",
       "       '557,0$', '582,0$', '704,0$', '613,0$', '419,0$', '477,0$',\n",
       "       '1211,0$', '505,0$', '269,0$', '553,0$', '1277,0$', '302,0$',\n",
       "       '975,0$', '1318,0$', '881,0$', '466,0$', '945,0$', '433,0$',\n",
       "       '991,0$', '1083,0$', '136,0$', '333,0$', '1462,0$', '1131,0$',\n",
       "       '1023,0$', '1065,0$', '1115,0$', '1479,0$', '304,0$', '1368,0$',\n",
       "       '828,0$', '799,0$', '142,0$', '446,0$', '254,0$', '1410,0$',\n",
       "       '883,0$', '121,0$', '1343,0$', '490,0$', '1400,0$', '1332,0$',\n",
       "       '1200,0$', '1102,0$', '1328,0$', '548,0$', '1214,0$', '120,0$',\n",
       "       '841,0$', '1033,0$', '1452,0$', '1268,0$', '307,0$', '797,0$',\n",
       "       '555,0$', '1377,0$', '210,0$', '483,0$', '575,0$', '1311,0$',\n",
       "       '759,0$', '891,0$', '317,0$', '688,0$', '195,0$', '622,0$',\n",
       "       '646,0$', '719,0$', '1012,0$', '1278,0$', '1222,0$', '1231,0$',\n",
       "       '462,0$', '231,0$', '1089,0$', '1262,0$', '439,0$', '528,0$',\n",
       "       '647,0$', '1097,0$', '942,0$', '966,0$', '168,0$', '299,0$',\n",
       "       '999,0$', '1498,0$', '1439,0$', '1111,0$', '1174,0$', '172,0$',\n",
       "       '401,0$', '866,0$', '571,0$', '1342,0$', '995,0$', '118,0$',\n",
       "       '990,0$', '241,0$', '1470,0$', '492,0$', '1040,0$', '1320,0$',\n",
       "       '146,0$', '1153,0$', '185,0$', '1297,0$', '1064,0$', '1351,0$',\n",
       "       '468,0$', '1273,0$', '1141,0$', '1488,0$', '653,0$', '1225,0$',\n",
       "       '1217,0$', '1127,0$', '1427,0$', '702,0$', '926,0$', '878,0$',\n",
       "       '896,0$', '1401,0$', '675,0$', '1070,0$', '496,0$', '390,0$',\n",
       "       '1220,0$', '1124,0$', '1046,0$', '267,0$', '443,0$', '1287,0$',\n",
       "       '1420,0$', '562,0$', '650,0$', '141,0$', '715,0$', '376,0$',\n",
       "       '932,0$', '471,0$', '180,0$', '1265,0$', '1075,0$', '1086,0$',\n",
       "       '152,0$', '974,0$', '788,0$', '192,0$', '150,0$', '1167,0$',\n",
       "       '206,0$', '736,0$', '322,0$', '683,0$', '1475,0$', '560,0$',\n",
       "       '115,0$', '888,0$', '671,0$', '567,0$', '148,0$', '581,0$',\n",
       "       '371,0$', '1181,0$', '1253,0$', '370,0$', '1194,0$', '572,0$',\n",
       "       '355,0$', '783,0$', '155,0$', '508,0$', '642,0$', '1382,0$',\n",
       "       '1037,0$', '1120,0$', '374,0$', '287,0$', '591,0$', '670,0$',\n",
       "       '1346,0$', '103,0$', '673,0$', '705,0$', '1459,0$', '1443,0$',\n",
       "       '1142,0$', '664,0$', '432,0$', '1353,0$', '489,0$', '807,0$',\n",
       "       '1280,0$', '957,0$', '542,0$', '216,0$', '1150,0$', '364,0$',\n",
       "       '1256,0$', '440,0$', '713,0$', '140,0$', '629,0$', '328,0$',\n",
       "       '472,0$', '905,0$', '1151,0$', '644,0$', '992,0$', '1323,0$',\n",
       "       '818,0$', '1431,0$', '976,0$', '832,0$', '916,0$', '1247,0$',\n",
       "       '128,0$', '1158,0$', '996,0$', '1449,0$', '636,0$', '889,0$',\n",
       "       '106,0$', '723,0$', '1482,0$', '738,0$', '1192,0$', '1309,0$',\n",
       "       '544,0$', '641,0$', '756,0$', '895,0$', '1261,0$', '329,0$',\n",
       "       '1362,0$', '1371,0$', '821,0$', '1381,0$', '1473,0$', '296,0$',\n",
       "       '1349,0$', '986,0$', '413,0$', '988,0$', '1474,0$', '232,0$',\n",
       "       '1236,0$', '1112,0$', '204,0$', '913,0$', '810,0$', '693,0$',\n",
       "       '316,0$', '381,0$', '775,0$', '804,0$', '1090,0$', '346,0$',\n",
       "       '725,0$', '182,0$', '384,0$', '1325,0$', '1258,0$', '1041,0$',\n",
       "       '625,0$', '1418,0$', '1269,0$', '395,0$', '341,0$', '500,0$',\n",
       "       '1454,0$', '617,0$', '1122,0$', '1198,0$', '188,0$', '335,0$',\n",
       "       '461,0$', '1134,0$', '138,0$', '1206,0$', '109,0$', '277,0$',\n",
       "       '265,0$', '342,0$', '1186,0$', '769,0$', '1176,0$', '1091,0$',\n",
       "       '618,0$', '970,0$', '984,0$', '793,0$', '1182,0$', '603,0$',\n",
       "       '874,0$', '367,0$', '199,0$', '1457,0$', '1421,0$', '1450,0$',\n",
       "       '1212,0$', '1010,0$', '131,0$', '193,0$', '640,0$', '848,0$',\n",
       "       '1138,0$', '256,0$', '935,0$', '458,0$', '662,0$', '499,0$',\n",
       "       '949,0$', '383,0$', '1255,0$', '1221,0$', '981,0$', '1495,0$',\n",
       "       '1193,0$', '467,0$', '271,0$', '410,0$', '1288,0$', '1108,0$',\n",
       "       '437,0$', '457,0$', '634,0$', '546,0$', '711,0$', '448,0$',\n",
       "       '365,0$', '763,0$', '486,0$', '392,0$', '727,0$', '741,0$',\n",
       "       '552,0$', '506,0$', '1456,0$', '160,0$', '897,0$', '600,0$',\n",
       "       '1054,0$', '428,0$', '343,0$', '1216,0$', '207,0$', '280,0$',\n",
       "       '414,0$', '836,0$', '592,0$', '219,0$', '1079,0$', '1251,0$',\n",
       "       '1168,0$', '1444,0$', '1154,0$', '234,0$', '529,0$', '1322,0$',\n",
       "       '924,0$', '134,0$', '755,0$', '253,0$', '922,0$', '1365,0$',\n",
       "       '306,0$', '1271,0$', '1404,0$', '1391,0$', '1464,0$', '1330,0$',\n",
       "       '773,0$', '902,0$', '107,0$', '504,0$', '1358,0$', '824,0$',\n",
       "       '594,0$', '734,0$', '766,0$', '431,0$', '1213,0$', '1373,0$',\n",
       "       '1324,0$', '1123,0$', '391,0$', '125,0$', '1357,0$', '626,0$',\n",
       "       '132,0$', '871,0$', '1031,0$', '1145,0$', '854,0$', '1411,0$',\n",
       "       '252,0$', '833,0$', '1210,0$', '1463,0$', '812,0$', '1162,0$',\n",
       "       '845,0$', '1144,0$', '156,0$', '464,0$', '1305,0$', '983,0$',\n",
       "       '534,0$', '1306,0$', '1094,0$', '558,0$', '959,0$', '782,0$',\n",
       "       '362,0$', '268,0$', '167,0$', '1243,0$', '720,0$', '868,0$',\n",
       "       '1252,0$', '781,0$', '1272,0$', '129,0$', '1069,0$', '289,0$',\n",
       "       '955,0$', '660,0$', '415,0$', '309,0$', '130,0$', '862,0$',\n",
       "       '1098,0$', '969,0$', '373,0$', '599,0$', '968,0$', '830,0$',\n",
       "       '1423,0$', '516,0$', '598,0$', '104,0$', '479,0$', '474,0$',\n",
       "       '264,0$', '1059,0$', '563,0$', '1259,0$', '369,0$', '543,0$',\n",
       "       '964,0$', '176,0$', '181,0$', '211,0$', '590,0$', '305,0$',\n",
       "       '478,0$', '1294,0$', '1128,0$', '726,0$', '352,0$', '1172,0$',\n",
       "       '605,0$', '1337,0$', '105,0$'], dtype=object)"
      ]
     },
     "metadata": {},
     "output_type": "display_data"
    },
    {
     "name": "stdout",
     "output_type": "stream",
     "text": [
      "\n",
      "Value Counts:\n"
     ]
    },
    {
     "data": {
      "text/plain": [
       "DailyRate\n",
       "nan$       124\n",
       "691,0$       7\n",
       "329,0$       7\n",
       "147,0$       6\n",
       "530,0$       6\n",
       "          ... \n",
       "1162,0$      1\n",
       "845,0$       1\n",
       "968,0$       1\n",
       "830,0$       1\n",
       "1423,0$      1\n",
       "Name: count, Length: 849, dtype: int64"
      ]
     },
     "metadata": {},
     "output_type": "display_data"
    },
    {
     "name": "stdout",
     "output_type": "stream",
     "text": [
      "\n",
      "Most frequent value (mode):\n"
     ]
    },
    {
     "data": {
      "text/plain": [
       "'nan$'"
      ]
     },
     "metadata": {},
     "output_type": "display_data"
    },
    {
     "name": "stdout",
     "output_type": "stream",
     "text": [
      "\n",
      "Count of duplicates in the column:\n"
     ]
    },
    {
     "data": {
      "text/plain": [
       "np.int64(765)"
      ]
     },
     "metadata": {},
     "output_type": "display_data"
    },
    {
     "name": "stdout",
     "output_type": "stream",
     "text": [
      "\n",
      "Exploration of the column: Department\n",
      "\n",
      "Statistical description (categorical):\n"
     ]
    },
    {
     "data": {
      "text/plain": [
       "count                          302\n",
       "unique                           3\n",
       "top        Research & Development \n",
       "freq                           196\n",
       "Name: Department, dtype: object"
      ]
     },
     "metadata": {},
     "output_type": "display_data"
    },
    {
     "name": "stdout",
     "output_type": "stream",
     "text": [
      "\n",
      "Count of null values:\n"
     ]
    },
    {
     "data": {
      "text/plain": [
       "np.int64(1312)"
      ]
     },
     "metadata": {},
     "output_type": "display_data"
    },
    {
     "name": "stdout",
     "output_type": "stream",
     "text": [
      "\n",
      "Count of unique values:\n"
     ]
    },
    {
     "data": {
      "text/plain": [
       "3"
      ]
     },
     "metadata": {},
     "output_type": "display_data"
    },
    {
     "name": "stdout",
     "output_type": "stream",
     "text": [
      "\n",
      "Unique values:\n"
     ]
    },
    {
     "data": {
      "text/plain": [
       "array([nan, ' Research & Development ', ' Sales ', ' Human Resources '],\n",
       "      dtype=object)"
      ]
     },
     "metadata": {},
     "output_type": "display_data"
    },
    {
     "name": "stdout",
     "output_type": "stream",
     "text": [
      "\n",
      "Value Counts:\n"
     ]
    },
    {
     "data": {
      "text/plain": [
       "Department\n",
       "Research & Development     196\n",
       "Sales                       91\n",
       "Human Resources             15\n",
       "Name: count, dtype: int64"
      ]
     },
     "metadata": {},
     "output_type": "display_data"
    },
    {
     "name": "stdout",
     "output_type": "stream",
     "text": [
      "\n",
      "Most frequent value (mode):\n"
     ]
    },
    {
     "data": {
      "text/plain": [
       "' Research & Development '"
      ]
     },
     "metadata": {},
     "output_type": "display_data"
    },
    {
     "name": "stdout",
     "output_type": "stream",
     "text": [
      "\n",
      "Count of duplicates in the column:\n"
     ]
    },
    {
     "data": {
      "text/plain": [
       "np.int64(1610)"
      ]
     },
     "metadata": {},
     "output_type": "display_data"
    },
    {
     "name": "stdout",
     "output_type": "stream",
     "text": [
      "\n",
      "Exploration of the column: DistanceFromHome\n",
      "\n",
      "Statistical description (numeric):\n"
     ]
    },
    {
     "data": {
      "text/plain": [
       "count    1614.000000\n",
       "mean        4.527261\n",
       "std        14.591913\n",
       "min       -49.000000\n",
       "25%         2.000000\n",
       "50%         5.000000\n",
       "75%        11.000000\n",
       "max        29.000000\n",
       "Name: DistanceFromHome, dtype: float64"
      ]
     },
     "metadata": {},
     "output_type": "display_data"
    },
    {
     "name": "stdout",
     "output_type": "stream",
     "text": [
      "\n",
      "Count of null values:\n"
     ]
    },
    {
     "data": {
      "text/plain": [
       "np.int64(0)"
      ]
     },
     "metadata": {},
     "output_type": "display_data"
    },
    {
     "name": "stdout",
     "output_type": "stream",
     "text": [
      "\n",
      "Count of unique values:\n"
     ]
    },
    {
     "data": {
      "text/plain": [
       "69"
      ]
     },
     "metadata": {},
     "output_type": "display_data"
    },
    {
     "name": "stdout",
     "output_type": "stream",
     "text": [
      "\n",
      "Unique values:\n"
     ]
    },
    {
     "data": {
      "text/plain": [
       "array([  6,   1,   4,   2,   3,  22,  25,   9,   7,  23,  10,  12,  14,\n",
       "       -13,  15,   8, -42,  28, -37,   5,  16, -35,  26, -26,  24,  29,\n",
       "       -25,  17,  21, -18, -10, -30, -27,  20, -31, -29, -39,  18, -21,\n",
       "       -15,  11,  13, -14,  19, -33, -34, -46, -36, -19,  27, -12, -23,\n",
       "       -45, -28, -47, -32, -24, -16, -22, -41, -49, -11, -48, -38, -20,\n",
       "       -17, -43, -40, -44])"
      ]
     },
     "metadata": {},
     "output_type": "display_data"
    },
    {
     "name": "stdout",
     "output_type": "stream",
     "text": [
      "\n",
      "Value Counts:\n"
     ]
    },
    {
     "data": {
      "text/plain": [
       "DistanceFromHome\n",
       " 2     217\n",
       " 1     203\n",
       " 10     86\n",
       " 9      85\n",
       " 8      81\n",
       "      ... \n",
       "-21      2\n",
       "-43      2\n",
       "-28      2\n",
       "-39      1\n",
       "-40      1\n",
       "Name: count, Length: 69, dtype: int64"
      ]
     },
     "metadata": {},
     "output_type": "display_data"
    },
    {
     "name": "stdout",
     "output_type": "stream",
     "text": [
      "\n",
      "Most frequent value (mode):\n"
     ]
    },
    {
     "data": {
      "text/plain": [
       "np.int64(2)"
      ]
     },
     "metadata": {},
     "output_type": "display_data"
    },
    {
     "name": "stdout",
     "output_type": "stream",
     "text": [
      "\n",
      "Count of duplicates in the column:\n"
     ]
    },
    {
     "data": {
      "text/plain": [
       "np.int64(1545)"
      ]
     },
     "metadata": {},
     "output_type": "display_data"
    },
    {
     "name": "stdout",
     "output_type": "stream",
     "text": [
      "\n",
      "Exploration of the column: Education\n",
      "\n",
      "Statistical description (numeric):\n"
     ]
    },
    {
     "data": {
      "text/plain": [
       "count    1614.000000\n",
       "mean        2.925031\n",
       "std         1.022357\n",
       "min         1.000000\n",
       "25%         2.000000\n",
       "50%         3.000000\n",
       "75%         4.000000\n",
       "max         5.000000\n",
       "Name: Education, dtype: float64"
      ]
     },
     "metadata": {},
     "output_type": "display_data"
    },
    {
     "name": "stdout",
     "output_type": "stream",
     "text": [
      "\n",
      "Count of null values:\n"
     ]
    },
    {
     "data": {
      "text/plain": [
       "np.int64(0)"
      ]
     },
     "metadata": {},
     "output_type": "display_data"
    },
    {
     "name": "stdout",
     "output_type": "stream",
     "text": [
      "\n",
      "Count of unique values:\n"
     ]
    },
    {
     "data": {
      "text/plain": [
       "5"
      ]
     },
     "metadata": {},
     "output_type": "display_data"
    },
    {
     "name": "stdout",
     "output_type": "stream",
     "text": [
      "\n",
      "Unique values:\n"
     ]
    },
    {
     "data": {
      "text/plain": [
       "array([3, 4, 2, 1, 5])"
      ]
     },
     "metadata": {},
     "output_type": "display_data"
    },
    {
     "name": "stdout",
     "output_type": "stream",
     "text": [
      "\n",
      "Value Counts:\n"
     ]
    },
    {
     "data": {
      "text/plain": [
       "Education\n",
       "3    621\n",
       "4    445\n",
       "2    314\n",
       "1    180\n",
       "5     54\n",
       "Name: count, dtype: int64"
      ]
     },
     "metadata": {},
     "output_type": "display_data"
    },
    {
     "name": "stdout",
     "output_type": "stream",
     "text": [
      "\n",
      "Most frequent value (mode):\n"
     ]
    },
    {
     "data": {
      "text/plain": [
       "np.int64(3)"
      ]
     },
     "metadata": {},
     "output_type": "display_data"
    },
    {
     "name": "stdout",
     "output_type": "stream",
     "text": [
      "\n",
      "Count of duplicates in the column:\n"
     ]
    },
    {
     "data": {
      "text/plain": [
       "np.int64(1609)"
      ]
     },
     "metadata": {},
     "output_type": "display_data"
    },
    {
     "name": "stdout",
     "output_type": "stream",
     "text": [
      "\n",
      "Exploration of the column: EducationField\n",
      "\n",
      "Statistical description (categorical):\n"
     ]
    },
    {
     "data": {
      "text/plain": [
       "count               869\n",
       "unique                6\n",
       "top       Life Sciences\n",
       "freq                349\n",
       "Name: EducationField, dtype: object"
      ]
     },
     "metadata": {},
     "output_type": "display_data"
    },
    {
     "name": "stdout",
     "output_type": "stream",
     "text": [
      "\n",
      "Count of null values:\n"
     ]
    },
    {
     "data": {
      "text/plain": [
       "np.int64(745)"
      ]
     },
     "metadata": {},
     "output_type": "display_data"
    },
    {
     "name": "stdout",
     "output_type": "stream",
     "text": [
      "\n",
      "Count of unique values:\n"
     ]
    },
    {
     "data": {
      "text/plain": [
       "6"
      ]
     },
     "metadata": {},
     "output_type": "display_data"
    },
    {
     "name": "stdout",
     "output_type": "stream",
     "text": [
      "\n",
      "Unique values:\n"
     ]
    },
    {
     "data": {
      "text/plain": [
       "array([nan, 'Life Sciences', 'Technical Degree', 'Medical', 'Other',\n",
       "       'Marketing', 'Human Resources'], dtype=object)"
      ]
     },
     "metadata": {},
     "output_type": "display_data"
    },
    {
     "name": "stdout",
     "output_type": "stream",
     "text": [
      "\n",
      "Value Counts:\n"
     ]
    },
    {
     "data": {
      "text/plain": [
       "EducationField\n",
       "Life Sciences       349\n",
       "Medical             276\n",
       "Marketing           104\n",
       "Technical Degree     69\n",
       "Other                59\n",
       "Human Resources      12\n",
       "Name: count, dtype: int64"
      ]
     },
     "metadata": {},
     "output_type": "display_data"
    },
    {
     "name": "stdout",
     "output_type": "stream",
     "text": [
      "\n",
      "Most frequent value (mode):\n"
     ]
    },
    {
     "data": {
      "text/plain": [
       "'Life Sciences'"
      ]
     },
     "metadata": {},
     "output_type": "display_data"
    },
    {
     "name": "stdout",
     "output_type": "stream",
     "text": [
      "\n",
      "Count of duplicates in the column:\n"
     ]
    },
    {
     "data": {
      "text/plain": [
       "np.int64(1607)"
      ]
     },
     "metadata": {},
     "output_type": "display_data"
    },
    {
     "name": "stdout",
     "output_type": "stream",
     "text": [
      "\n",
      "Exploration of the column: employeecount\n",
      "\n",
      "Statistical description (numeric):\n"
     ]
    },
    {
     "data": {
      "text/plain": [
       "count    1614.0\n",
       "mean        1.0\n",
       "std         0.0\n",
       "min         1.0\n",
       "25%         1.0\n",
       "50%         1.0\n",
       "75%         1.0\n",
       "max         1.0\n",
       "Name: employeecount, dtype: float64"
      ]
     },
     "metadata": {},
     "output_type": "display_data"
    },
    {
     "name": "stdout",
     "output_type": "stream",
     "text": [
      "\n",
      "Count of null values:\n"
     ]
    },
    {
     "data": {
      "text/plain": [
       "np.int64(0)"
      ]
     },
     "metadata": {},
     "output_type": "display_data"
    },
    {
     "name": "stdout",
     "output_type": "stream",
     "text": [
      "\n",
      "Count of unique values:\n"
     ]
    },
    {
     "data": {
      "text/plain": [
       "1"
      ]
     },
     "metadata": {},
     "output_type": "display_data"
    },
    {
     "name": "stdout",
     "output_type": "stream",
     "text": [
      "\n",
      "Unique values:\n"
     ]
    },
    {
     "data": {
      "text/plain": [
       "array([1])"
      ]
     },
     "metadata": {},
     "output_type": "display_data"
    },
    {
     "name": "stdout",
     "output_type": "stream",
     "text": [
      "\n",
      "Value Counts:\n"
     ]
    },
    {
     "data": {
      "text/plain": [
       "employeecount\n",
       "1    1614\n",
       "Name: count, dtype: int64"
      ]
     },
     "metadata": {},
     "output_type": "display_data"
    },
    {
     "name": "stdout",
     "output_type": "stream",
     "text": [
      "\n",
      "Most frequent value (mode):\n"
     ]
    },
    {
     "data": {
      "text/plain": [
       "np.int64(1)"
      ]
     },
     "metadata": {},
     "output_type": "display_data"
    },
    {
     "name": "stdout",
     "output_type": "stream",
     "text": [
      "\n",
      "Count of duplicates in the column:\n"
     ]
    },
    {
     "data": {
      "text/plain": [
       "np.int64(1613)"
      ]
     },
     "metadata": {},
     "output_type": "display_data"
    },
    {
     "name": "stdout",
     "output_type": "stream",
     "text": [
      "\n",
      "Exploration of the column: employeenumber\n",
      "\n",
      "Statistical description (categorical):\n"
     ]
    },
    {
     "data": {
      "text/plain": [
       "count       1183\n",
       "unique      1079\n",
       "top       1195,0\n",
       "freq           2\n",
       "Name: employeenumber, dtype: object"
      ]
     },
     "metadata": {},
     "output_type": "display_data"
    },
    {
     "name": "stdout",
     "output_type": "stream",
     "text": [
      "\n",
      "Count of null values:\n"
     ]
    },
    {
     "data": {
      "text/plain": [
       "np.int64(431)"
      ]
     },
     "metadata": {},
     "output_type": "display_data"
    },
    {
     "name": "stdout",
     "output_type": "stream",
     "text": [
      "\n",
      "Count of unique values:\n"
     ]
    },
    {
     "data": {
      "text/plain": [
       "1079"
      ]
     },
     "metadata": {},
     "output_type": "display_data"
    },
    {
     "name": "stdout",
     "output_type": "stream",
     "text": [
      "\n",
      "Unique values:\n"
     ]
    },
    {
     "data": {
      "text/plain": [
       "array(['162,0', '259,0', '319,0', ..., '2012,0', '2023,0', '2040,0'],\n",
       "      dtype=object)"
      ]
     },
     "metadata": {},
     "output_type": "display_data"
    },
    {
     "name": "stdout",
     "output_type": "stream",
     "text": [
      "\n",
      "Value Counts:\n"
     ]
    },
    {
     "data": {
      "text/plain": [
       "employeenumber\n",
       "1195,0    2\n",
       "1185,0    2\n",
       "1162,0    2\n",
       "1161,0    2\n",
       "1160,0    2\n",
       "         ..\n",
       "1669,0    1\n",
       "1673,0    1\n",
       "1678,0    1\n",
       "1697,0    1\n",
       "58,0      1\n",
       "Name: count, Length: 1079, dtype: int64"
      ]
     },
     "metadata": {},
     "output_type": "display_data"
    },
    {
     "name": "stdout",
     "output_type": "stream",
     "text": [
      "\n",
      "Most frequent value (mode):\n"
     ]
    },
    {
     "data": {
      "text/plain": [
       "'1044,0'"
      ]
     },
     "metadata": {},
     "output_type": "display_data"
    },
    {
     "name": "stdout",
     "output_type": "stream",
     "text": [
      "\n",
      "Count of duplicates in the column:\n"
     ]
    },
    {
     "data": {
      "text/plain": [
       "np.int64(534)"
      ]
     },
     "metadata": {},
     "output_type": "display_data"
    },
    {
     "name": "stdout",
     "output_type": "stream",
     "text": [
      "\n",
      "Exploration of the column: EnvironmentSatisfaction\n",
      "\n",
      "Statistical description (numeric):\n"
     ]
    },
    {
     "data": {
      "text/plain": [
       "count    1614.000000\n",
       "mean        4.294919\n",
       "std         6.993559\n",
       "min         1.000000\n",
       "25%         2.000000\n",
       "50%         3.000000\n",
       "75%         4.000000\n",
       "max        49.000000\n",
       "Name: EnvironmentSatisfaction, dtype: float64"
      ]
     },
     "metadata": {},
     "output_type": "display_data"
    },
    {
     "name": "stdout",
     "output_type": "stream",
     "text": [
      "\n",
      "Count of null values:\n"
     ]
    },
    {
     "data": {
      "text/plain": [
       "np.int64(0)"
      ]
     },
     "metadata": {},
     "output_type": "display_data"
    },
    {
     "name": "stdout",
     "output_type": "stream",
     "text": [
      "\n",
      "Count of unique values:\n"
     ]
    },
    {
     "data": {
      "text/plain": [
       "38"
      ]
     },
     "metadata": {},
     "output_type": "display_data"
    },
    {
     "name": "stdout",
     "output_type": "stream",
     "text": [
      "\n",
      "Unique values:\n"
     ]
    },
    {
     "data": {
      "text/plain": [
       "array([ 1,  3,  4,  2, 42, 37, 35, 25, 27, 31, 39, 21, 15, 14, 33, 19, 12,\n",
       "       13, 28, 47, 36, 29, 24, 46, 16, 22, 41, 49, 11, 48, 18, 10, 45, 38,\n",
       "       17, 20, 26, 43])"
      ]
     },
     "metadata": {},
     "output_type": "display_data"
    },
    {
     "name": "stdout",
     "output_type": "stream",
     "text": [
      "\n",
      "Value Counts:\n"
     ]
    },
    {
     "data": {
      "text/plain": [
       "EnvironmentSatisfaction\n",
       "4     460\n",
       "3     459\n",
       "1     298\n",
       "2     297\n",
       "12      7\n",
       "35      6\n",
       "13      6\n",
       "24      5\n",
       "47      5\n",
       "14      5\n",
       "41      4\n",
       "42      4\n",
       "46      4\n",
       "36      4\n",
       "48      4\n",
       "20      3\n",
       "22      3\n",
       "11      3\n",
       "18      3\n",
       "45      3\n",
       "27      3\n",
       "25      3\n",
       "17      3\n",
       "37      2\n",
       "38      2\n",
       "16      2\n",
       "31      2\n",
       "15      2\n",
       "19      2\n",
       "29      2\n",
       "28      1\n",
       "33      1\n",
       "21      1\n",
       "39      1\n",
       "49      1\n",
       "10      1\n",
       "26      1\n",
       "43      1\n",
       "Name: count, dtype: int64"
      ]
     },
     "metadata": {},
     "output_type": "display_data"
    },
    {
     "name": "stdout",
     "output_type": "stream",
     "text": [
      "\n",
      "Most frequent value (mode):\n"
     ]
    },
    {
     "data": {
      "text/plain": [
       "np.int64(4)"
      ]
     },
     "metadata": {},
     "output_type": "display_data"
    },
    {
     "name": "stdout",
     "output_type": "stream",
     "text": [
      "\n",
      "Count of duplicates in the column:\n"
     ]
    },
    {
     "data": {
      "text/plain": [
       "np.int64(1576)"
      ]
     },
     "metadata": {},
     "output_type": "display_data"
    },
    {
     "name": "stdout",
     "output_type": "stream",
     "text": [
      "\n",
      "Exploration of the column: Gender\n",
      "\n",
      "Statistical description (numeric):\n"
     ]
    },
    {
     "data": {
      "text/plain": [
       "count    1614.000000\n",
       "mean        0.398389\n",
       "std         0.489718\n",
       "min         0.000000\n",
       "25%         0.000000\n",
       "50%         0.000000\n",
       "75%         1.000000\n",
       "max         1.000000\n",
       "Name: Gender, dtype: float64"
      ]
     },
     "metadata": {},
     "output_type": "display_data"
    },
    {
     "name": "stdout",
     "output_type": "stream",
     "text": [
      "\n",
      "Count of null values:\n"
     ]
    },
    {
     "data": {
      "text/plain": [
       "np.int64(0)"
      ]
     },
     "metadata": {},
     "output_type": "display_data"
    },
    {
     "name": "stdout",
     "output_type": "stream",
     "text": [
      "\n",
      "Count of unique values:\n"
     ]
    },
    {
     "data": {
      "text/plain": [
       "2"
      ]
     },
     "metadata": {},
     "output_type": "display_data"
    },
    {
     "name": "stdout",
     "output_type": "stream",
     "text": [
      "\n",
      "Unique values:\n"
     ]
    },
    {
     "data": {
      "text/plain": [
       "array([0, 1])"
      ]
     },
     "metadata": {},
     "output_type": "display_data"
    },
    {
     "name": "stdout",
     "output_type": "stream",
     "text": [
      "\n",
      "Value Counts:\n"
     ]
    },
    {
     "data": {
      "text/plain": [
       "Gender\n",
       "0    971\n",
       "1    643\n",
       "Name: count, dtype: int64"
      ]
     },
     "metadata": {},
     "output_type": "display_data"
    },
    {
     "name": "stdout",
     "output_type": "stream",
     "text": [
      "\n",
      "Most frequent value (mode):\n"
     ]
    },
    {
     "data": {
      "text/plain": [
       "np.int64(0)"
      ]
     },
     "metadata": {},
     "output_type": "display_data"
    },
    {
     "name": "stdout",
     "output_type": "stream",
     "text": [
      "\n",
      "Count of duplicates in the column:\n"
     ]
    },
    {
     "data": {
      "text/plain": [
       "np.int64(1612)"
      ]
     },
     "metadata": {},
     "output_type": "display_data"
    },
    {
     "name": "stdout",
     "output_type": "stream",
     "text": [
      "\n",
      "Exploration of the column: HourlyRate\n",
      "\n",
      "Statistical description (categorical):\n"
     ]
    },
    {
     "data": {
      "text/plain": [
       "count              1614\n",
       "unique               72\n",
       "top       Not Available\n",
       "freq                 84\n",
       "Name: HourlyRate, dtype: object"
      ]
     },
     "metadata": {},
     "output_type": "display_data"
    },
    {
     "name": "stdout",
     "output_type": "stream",
     "text": [
      "\n",
      "Count of null values:\n"
     ]
    },
    {
     "data": {
      "text/plain": [
       "np.int64(0)"
      ]
     },
     "metadata": {},
     "output_type": "display_data"
    },
    {
     "name": "stdout",
     "output_type": "stream",
     "text": [
      "\n",
      "Count of unique values:\n"
     ]
    },
    {
     "data": {
      "text/plain": [
       "72"
      ]
     },
     "metadata": {},
     "output_type": "display_data"
    },
    {
     "name": "stdout",
     "output_type": "stream",
     "text": [
      "\n",
      "Unique values:\n"
     ]
    },
    {
     "data": {
      "text/plain": [
       "array(['51', '65', '58', '82', '45', '99', '91', '64', '55', '68', '49',\n",
       "       '61', '79', '31', '69', '48', '80', '74', '98', '59', '33', '56',\n",
       "       '66', '57', '53', '87', '81', '84', '32', '41', '92', '47',\n",
       "       'Not Available', '43', '86', '30', '42', '88', '96', '67', '62',\n",
       "       '72', '78', '89', '52', '50', '90', '37', '94', '76', '60', '46',\n",
       "       '83', '100', '40', '97', '54', '75', '39', '85', '63', '44', '93',\n",
       "       '36', '35', '73', '71', '70', '38', '77', '95', '34'], dtype=object)"
      ]
     },
     "metadata": {},
     "output_type": "display_data"
    },
    {
     "name": "stdout",
     "output_type": "stream",
     "text": [
      "\n",
      "Value Counts:\n"
     ]
    },
    {
     "data": {
      "text/plain": [
       "HourlyRate\n",
       "Not Available    84\n",
       "42               33\n",
       "66               32\n",
       "48               30\n",
       "84               29\n",
       "                 ..\n",
       "50               15\n",
       "53               13\n",
       "68               13\n",
       "38               12\n",
       "34               11\n",
       "Name: count, Length: 72, dtype: int64"
      ]
     },
     "metadata": {},
     "output_type": "display_data"
    },
    {
     "name": "stdout",
     "output_type": "stream",
     "text": [
      "\n",
      "Most frequent value (mode):\n"
     ]
    },
    {
     "data": {
      "text/plain": [
       "'Not Available'"
      ]
     },
     "metadata": {},
     "output_type": "display_data"
    },
    {
     "name": "stdout",
     "output_type": "stream",
     "text": [
      "\n",
      "Count of duplicates in the column:\n"
     ]
    },
    {
     "data": {
      "text/plain": [
       "np.int64(1542)"
      ]
     },
     "metadata": {},
     "output_type": "display_data"
    },
    {
     "name": "stdout",
     "output_type": "stream",
     "text": [
      "\n",
      "Exploration of the column: JobInvolvement\n",
      "\n",
      "Statistical description (numeric):\n"
     ]
    },
    {
     "data": {
      "text/plain": [
       "count    1614.000000\n",
       "mean        2.739777\n",
       "std         0.711567\n",
       "min         1.000000\n",
       "25%         2.000000\n",
       "50%         3.000000\n",
       "75%         3.000000\n",
       "max         4.000000\n",
       "Name: JobInvolvement, dtype: float64"
      ]
     },
     "metadata": {},
     "output_type": "display_data"
    },
    {
     "name": "stdout",
     "output_type": "stream",
     "text": [
      "\n",
      "Count of null values:\n"
     ]
    },
    {
     "data": {
      "text/plain": [
       "np.int64(0)"
      ]
     },
     "metadata": {},
     "output_type": "display_data"
    },
    {
     "name": "stdout",
     "output_type": "stream",
     "text": [
      "\n",
      "Count of unique values:\n"
     ]
    },
    {
     "data": {
      "text/plain": [
       "4"
      ]
     },
     "metadata": {},
     "output_type": "display_data"
    },
    {
     "name": "stdout",
     "output_type": "stream",
     "text": [
      "\n",
      "Unique values:\n"
     ]
    },
    {
     "data": {
      "text/plain": [
       "array([3, 2, 4, 1])"
      ]
     },
     "metadata": {},
     "output_type": "display_data"
    },
    {
     "name": "stdout",
     "output_type": "stream",
     "text": [
      "\n",
      "Value Counts:\n"
     ]
    },
    {
     "data": {
      "text/plain": [
       "JobInvolvement\n",
       "3    955\n",
       "2    406\n",
       "4    164\n",
       "1     89\n",
       "Name: count, dtype: int64"
      ]
     },
     "metadata": {},
     "output_type": "display_data"
    },
    {
     "name": "stdout",
     "output_type": "stream",
     "text": [
      "\n",
      "Most frequent value (mode):\n"
     ]
    },
    {
     "data": {
      "text/plain": [
       "np.int64(3)"
      ]
     },
     "metadata": {},
     "output_type": "display_data"
    },
    {
     "name": "stdout",
     "output_type": "stream",
     "text": [
      "\n",
      "Count of duplicates in the column:\n"
     ]
    },
    {
     "data": {
      "text/plain": [
       "np.int64(1610)"
      ]
     },
     "metadata": {},
     "output_type": "display_data"
    },
    {
     "name": "stdout",
     "output_type": "stream",
     "text": [
      "\n",
      "Exploration of the column: JobLevel\n",
      "\n",
      "Statistical description (numeric):\n"
     ]
    },
    {
     "data": {
      "text/plain": [
       "count    1614.000000\n",
       "mean        2.068154\n",
       "std         1.101344\n",
       "min         1.000000\n",
       "25%         1.000000\n",
       "50%         2.000000\n",
       "75%         3.000000\n",
       "max         5.000000\n",
       "Name: JobLevel, dtype: float64"
      ]
     },
     "metadata": {},
     "output_type": "display_data"
    },
    {
     "name": "stdout",
     "output_type": "stream",
     "text": [
      "\n",
      "Count of null values:\n"
     ]
    },
    {
     "data": {
      "text/plain": [
       "np.int64(0)"
      ]
     },
     "metadata": {},
     "output_type": "display_data"
    },
    {
     "name": "stdout",
     "output_type": "stream",
     "text": [
      "\n",
      "Count of unique values:\n"
     ]
    },
    {
     "data": {
      "text/plain": [
       "5"
      ]
     },
     "metadata": {},
     "output_type": "display_data"
    },
    {
     "name": "stdout",
     "output_type": "stream",
     "text": [
      "\n",
      "Unique values:\n"
     ]
    },
    {
     "data": {
      "text/plain": [
       "array([5, 4, 3, 2, 1])"
      ]
     },
     "metadata": {},
     "output_type": "display_data"
    },
    {
     "name": "stdout",
     "output_type": "stream",
     "text": [
      "\n",
      "Value Counts:\n"
     ]
    },
    {
     "data": {
      "text/plain": [
       "JobLevel\n",
       "2    597\n",
       "1    586\n",
       "3    242\n",
       "4    113\n",
       "5     76\n",
       "Name: count, dtype: int64"
      ]
     },
     "metadata": {},
     "output_type": "display_data"
    },
    {
     "name": "stdout",
     "output_type": "stream",
     "text": [
      "\n",
      "Most frequent value (mode):\n"
     ]
    },
    {
     "data": {
      "text/plain": [
       "np.int64(2)"
      ]
     },
     "metadata": {},
     "output_type": "display_data"
    },
    {
     "name": "stdout",
     "output_type": "stream",
     "text": [
      "\n",
      "Count of duplicates in the column:\n"
     ]
    },
    {
     "data": {
      "text/plain": [
       "np.int64(1609)"
      ]
     },
     "metadata": {},
     "output_type": "display_data"
    },
    {
     "name": "stdout",
     "output_type": "stream",
     "text": [
      "\n",
      "Exploration of the column: JobRole\n",
      "\n",
      "Statistical description (categorical):\n"
     ]
    },
    {
     "data": {
      "text/plain": [
       "count          1614\n",
       "unique         1579\n",
       "top        mANager \n",
       "freq              4\n",
       "Name: JobRole, dtype: object"
      ]
     },
     "metadata": {},
     "output_type": "display_data"
    },
    {
     "name": "stdout",
     "output_type": "stream",
     "text": [
      "\n",
      "Count of null values:\n"
     ]
    },
    {
     "data": {
      "text/plain": [
       "np.int64(0)"
      ]
     },
     "metadata": {},
     "output_type": "display_data"
    },
    {
     "name": "stdout",
     "output_type": "stream",
     "text": [
      "\n",
      "Count of unique values:\n"
     ]
    },
    {
     "data": {
      "text/plain": [
       "1579"
      ]
     },
     "metadata": {},
     "output_type": "display_data"
    },
    {
     "name": "stdout",
     "output_type": "stream",
     "text": [
      "\n",
      "Unique values:\n"
     ]
    },
    {
     "data": {
      "text/plain": [
       "array([' resEArch DIREcToR ', ' ManAGeR ', ' ManaGER ', ...,\n",
       "       ' sAlES ExECUTivE ', ' SaLes ExecUtIVe ',\n",
       "       ' mAnUfactURInG DiRECTOr '], dtype=object)"
      ]
     },
     "metadata": {},
     "output_type": "display_data"
    },
    {
     "name": "stdout",
     "output_type": "stream",
     "text": [
      "\n",
      "Value Counts:\n"
     ]
    },
    {
     "data": {
      "text/plain": [
       "JobRole\n",
       "mANager                       4\n",
       "ManagEr                       3\n",
       "mAnageR                       3\n",
       "mAnaGeR                       3\n",
       "MANAgER                       3\n",
       "                             ..\n",
       "human RESOurceS               1\n",
       "SaLeS exEcUTiVE               1\n",
       "ReSEArch scieNTiST            1\n",
       "HEaLTHCArE rEpreSeNtatiVE     1\n",
       "ReseaRCh dIRecTor             1\n",
       "Name: count, Length: 1579, dtype: int64"
      ]
     },
     "metadata": {},
     "output_type": "display_data"
    },
    {
     "name": "stdout",
     "output_type": "stream",
     "text": [
      "\n",
      "Most frequent value (mode):\n"
     ]
    },
    {
     "data": {
      "text/plain": [
       "' mANager '"
      ]
     },
     "metadata": {},
     "output_type": "display_data"
    },
    {
     "name": "stdout",
     "output_type": "stream",
     "text": [
      "\n",
      "Count of duplicates in the column:\n"
     ]
    },
    {
     "data": {
      "text/plain": [
       "np.int64(35)"
      ]
     },
     "metadata": {},
     "output_type": "display_data"
    },
    {
     "name": "stdout",
     "output_type": "stream",
     "text": [
      "\n",
      "Exploration of the column: JobSatisfaction\n",
      "\n",
      "Statistical description (numeric):\n"
     ]
    },
    {
     "data": {
      "text/plain": [
       "count    1614.000000\n",
       "mean        2.738538\n",
       "std         1.106163\n",
       "min         1.000000\n",
       "25%         2.000000\n",
       "50%         3.000000\n",
       "75%         4.000000\n",
       "max         4.000000\n",
       "Name: JobSatisfaction, dtype: float64"
      ]
     },
     "metadata": {},
     "output_type": "display_data"
    },
    {
     "name": "stdout",
     "output_type": "stream",
     "text": [
      "\n",
      "Count of null values:\n"
     ]
    },
    {
     "data": {
      "text/plain": [
       "np.int64(0)"
      ]
     },
     "metadata": {},
     "output_type": "display_data"
    },
    {
     "name": "stdout",
     "output_type": "stream",
     "text": [
      "\n",
      "Count of unique values:\n"
     ]
    },
    {
     "data": {
      "text/plain": [
       "4"
      ]
     },
     "metadata": {},
     "output_type": "display_data"
    },
    {
     "name": "stdout",
     "output_type": "stream",
     "text": [
      "\n",
      "Unique values:\n"
     ]
    },
    {
     "data": {
      "text/plain": [
       "array([3, 4, 1, 2])"
      ]
     },
     "metadata": {},
     "output_type": "display_data"
    },
    {
     "name": "stdout",
     "output_type": "stream",
     "text": [
      "\n",
      "Value Counts:\n"
     ]
    },
    {
     "data": {
      "text/plain": [
       "JobSatisfaction\n",
       "4    514\n",
       "3    481\n",
       "1    317\n",
       "2    302\n",
       "Name: count, dtype: int64"
      ]
     },
     "metadata": {},
     "output_type": "display_data"
    },
    {
     "name": "stdout",
     "output_type": "stream",
     "text": [
      "\n",
      "Most frequent value (mode):\n"
     ]
    },
    {
     "data": {
      "text/plain": [
       "np.int64(4)"
      ]
     },
     "metadata": {},
     "output_type": "display_data"
    },
    {
     "name": "stdout",
     "output_type": "stream",
     "text": [
      "\n",
      "Count of duplicates in the column:\n"
     ]
    },
    {
     "data": {
      "text/plain": [
       "np.int64(1610)"
      ]
     },
     "metadata": {},
     "output_type": "display_data"
    },
    {
     "name": "stdout",
     "output_type": "stream",
     "text": [
      "\n",
      "Exploration of the column: MaritalStatus\n",
      "\n",
      "Statistical description (categorical):\n"
     ]
    },
    {
     "data": {
      "text/plain": [
       "count         963\n",
       "unique          5\n",
       "top       Married\n",
       "freq          404\n",
       "Name: MaritalStatus, dtype: object"
      ]
     },
     "metadata": {},
     "output_type": "display_data"
    },
    {
     "name": "stdout",
     "output_type": "stream",
     "text": [
      "\n",
      "Count of null values:\n"
     ]
    },
    {
     "data": {
      "text/plain": [
       "np.int64(651)"
      ]
     },
     "metadata": {},
     "output_type": "display_data"
    },
    {
     "name": "stdout",
     "output_type": "stream",
     "text": [
      "\n",
      "Count of unique values:\n"
     ]
    },
    {
     "data": {
      "text/plain": [
       "5"
      ]
     },
     "metadata": {},
     "output_type": "display_data"
    },
    {
     "name": "stdout",
     "output_type": "stream",
     "text": [
      "\n",
      "Unique values:\n"
     ]
    },
    {
     "data": {
      "text/plain": [
       "array([nan, 'Married', 'Divorced', 'Single', 'divorced', 'Marreid'],\n",
       "      dtype=object)"
      ]
     },
     "metadata": {},
     "output_type": "display_data"
    },
    {
     "name": "stdout",
     "output_type": "stream",
     "text": [
      "\n",
      "Value Counts:\n"
     ]
    },
    {
     "data": {
      "text/plain": [
       "MaritalStatus\n",
       "Married     404\n",
       "Single      325\n",
       "Divorced    188\n",
       "Marreid      35\n",
       "divorced     11\n",
       "Name: count, dtype: int64"
      ]
     },
     "metadata": {},
     "output_type": "display_data"
    },
    {
     "name": "stdout",
     "output_type": "stream",
     "text": [
      "\n",
      "Most frequent value (mode):\n"
     ]
    },
    {
     "data": {
      "text/plain": [
       "'Married'"
      ]
     },
     "metadata": {},
     "output_type": "display_data"
    },
    {
     "name": "stdout",
     "output_type": "stream",
     "text": [
      "\n",
      "Count of duplicates in the column:\n"
     ]
    },
    {
     "data": {
      "text/plain": [
       "np.int64(1608)"
      ]
     },
     "metadata": {},
     "output_type": "display_data"
    },
    {
     "name": "stdout",
     "output_type": "stream",
     "text": [
      "\n",
      "Exploration of the column: MonthlyIncome\n",
      "\n",
      "Statistical description (categorical):\n"
     ]
    },
    {
     "data": {
      "text/plain": [
       "count        771\n",
       "unique       668\n",
       "top       5304,0\n",
       "freq           4\n",
       "Name: MonthlyIncome, dtype: object"
      ]
     },
     "metadata": {},
     "output_type": "display_data"
    },
    {
     "name": "stdout",
     "output_type": "stream",
     "text": [
      "\n",
      "Count of null values:\n"
     ]
    },
    {
     "data": {
      "text/plain": [
       "np.int64(843)"
      ]
     },
     "metadata": {},
     "output_type": "display_data"
    },
    {
     "name": "stdout",
     "output_type": "stream",
     "text": [
      "\n",
      "Count of unique values:\n"
     ]
    },
    {
     "data": {
      "text/plain": [
       "668"
      ]
     },
     "metadata": {},
     "output_type": "display_data"
    },
    {
     "name": "stdout",
     "output_type": "stream",
     "text": [
      "\n",
      "Unique values:\n"
     ]
    },
    {
     "data": {
      "text/plain": [
       "array(['19537,0', '19999,0', '19232,0', '17169,0', nan, '17174,0',\n",
       "       '16595,0', '19973,0', '13402,0', '13206,0', '19545,0', '18041,0',\n",
       "       '19246,0', '10748,0', '16752,0', '6201,0', '19845,0', '4001,0',\n",
       "       '10447,0', '16064,0', '3210,0', '10266,0', '10475,0', '6162,0',\n",
       "       '4721,0', '4615,0', '16959,0', '10306,0', '5406,0', '5902,0',\n",
       "       '10855,0', '5914,0', '6646,0', '13973,0', '13320,0', '6687,0',\n",
       "       '4735,0', '13872,0', '19045,0', '16015,0', '9613,0', '11510,0',\n",
       "       '4306,0', '17046,0', '5067,0', '3692,0', '19847,0', '2308,0',\n",
       "       '5747,0', '10422,0', '6347,0', '2348,0', '3072,0', '12490,0',\n",
       "       '8020,0', '17068,0', '8943,0', '19272,0', '5577,0', '2691,0',\n",
       "       '7403,0', '8823,0', '3579,0', '17779,0', '18213,0', '13577,0',\n",
       "       '19190,0', '17123,0', '19187,0', '10008,0', '7988,0', '7083,0',\n",
       "       '4723,0', '3407,0', '2929,0', '12031,0', '15427,0', '5126,0',\n",
       "       '9619,0', '5010,0', '19033,0', '10400,0', '2793,0', '5674,0',\n",
       "       '19197,0', '8412,0', '3348,0', '5309,0', '7654,0', '12808,0',\n",
       "       '6586,0', '2519,0', '17099,0', '13120,0', '3131,0', '4444,0',\n",
       "       '6674,0', '9852,0', '17861,0', '7446,0', '13757,0', '16598,0',\n",
       "       '4285,0', '10124,0', '9714,0', '9924,0', '11245,0', '3069,0',\n",
       "       '9241,0', '6472,0', '3055,0', '8321,0', '3143,0', '8578,0',\n",
       "       '4197,0', '9888,0', '13341,0', '5677,0', '2909,0', '9526,0',\n",
       "       '6825,0', '4424,0', '5441,0', '6074,0', '6146,0', '6172,0',\n",
       "       '4668,0', '5605,0', '4319,0', '3564,0', '6261,0', '6804,0',\n",
       "       '19436,0', '5828,0', '2455,0', '5055,0', '4682,0', '5257,0',\n",
       "       '2119,0', '5974,0', '3034,0', '13212,0', '8392,0', '4051,0',\n",
       "       '4805,0', '2741,0', '5337,0', '9434,0', '5396,0', '11159,0',\n",
       "       '4960,0', '8793,0', '19189,0', '2216,0', '11713,0', '5304,0',\n",
       "       '11103,0', '6632,0', '7587,0', '4335,0', '5980,0', '4244,0',\n",
       "       '5228,0', '2700,0', '2366,0', '2329,0', '4294,0', '6725,0',\n",
       "       '10325,0', '4447,0', '10845,0', '5472,0', '6385,0', '7525,0',\n",
       "       '3660,0', '8740,0', '13499,0', '3491,0', '5220,0', '10252,0',\n",
       "       '19740,0', '6209,0', '7094,0', '4534,0', '8500,0', '4639,0',\n",
       "       '5363,0', '4081,0', '3578,0', '17328,0', '10793,0', '10851,0',\n",
       "       '10466,0', '2362,0', '6439,0', '5769,0', '4385,0', '4066,0',\n",
       "       '5206,0', '2655,0', '2570,0', '4502,0', '4968,0', '5147,0',\n",
       "       '2718,0', '3539,0', '5468,0', '5813,0', '9667,0', '5154,0',\n",
       "       '5675,0', '7314,0', '5098,0', '13570,0', '6712,0', '9991,0',\n",
       "       '10248,0', '10938,0', '2593,0', '11878,0', '8095,0', '16856,0',\n",
       "       '4537,0', '17924,0', '4014,0', '12742,0', '3376,0', '10482,0',\n",
       "       '4249,0', '6549,0', '14411,0', '19586,0', '8237,0', '3211,0',\n",
       "       '16704,0', '4774,0', '4568,0', '5993,0', '6499,0', '3452,0',\n",
       "       '6397,0', '2725,0', '3622,0', '6180,0', '6274,0', '4381,0',\n",
       "       '2559,0', '5488,0', '2514,0', '3196,0', '3420,0', '4087,0',\n",
       "       '5368,0', '12936,0', '4221,0', '4963,0', '4200,0', '5006,0',\n",
       "       '7639,0', '6502,0', '13525,0', '6349,0', '6380,0', '3102,0',\n",
       "       '4556,0', '4230,0', '4859,0', '6322,0', '10761,0', '2973,0',\n",
       "       '5204,0', '17399,0', '16885,0', '4323,0', '5155,0', '2936,0',\n",
       "       '18789,0', '4883,0', '2029,0', '2996,0', '9278,0', '4162,0',\n",
       "       '8853,0', '4876,0', '2141,0', '7756,0', '3936,0', '6842,0',\n",
       "       '3989,0', '4930,0', '3702,0', '2705,0', '4448,0', '2379,0',\n",
       "       '5487,0', '2810,0', '8938,0', '9936,0', '5454,0', '18740,0',\n",
       "       '5473,0', '13503,0', '13549,0', '18172,0', '2774,0', '9439,0',\n",
       "       '5265,0', '3815,0', '2389,0', '4000,0', '17584,0', '5661,0',\n",
       "       '4869,0', '4649,0', '10496,0', '2768,0', '3408,0', '3755,0',\n",
       "       '2187,0', '4258,0', '5326,0', '5485,0', '2782,0', '17639,0',\n",
       "       '6062,0', '6288,0', '3424,0', '4194,0', '2532,0', '5666,0',\n",
       "       '13726,0', '4107,0', '3597,0', '4115,0', '6272,0', '2517,0',\n",
       "       '3904,0', '9204,0', '4373,0', '2064,0', '2430,0', '4877,0',\n",
       "       '3760,0', '2013,0', '2974,0', '2766,0', '3377,0', '4213,0',\n",
       "       '6513,0', '4284,0', '2226,0', '5561,0', '2144,0', '5373,0',\n",
       "       '2897,0', '5321,0', '5410,0', '4850,0', '2001,0', '4404,0',\n",
       "       '3944,0', '2960,0', '18947,0', '6465,0', '2683,0', '2014,0',\n",
       "       '3441,0', '13664,0', '5021,0', '18844,0', '4739,0', '10650,0',\n",
       "       '4317,0', '2024,0', '3058,0', '3929,0', '4425,0', '2328,0',\n",
       "       '2657,0', '5940,0', '2622,0', '3212,0', '2911,0', '6931,0',\n",
       "       '2176,0', '3230,0', '18665,0', '2789,0', '6410,0', '4941,0',\n",
       "       '3983,0', '2904,0', '2696,0', '2174,0', '6755,0', '10965,0',\n",
       "       '2543,0', '19406,0', '6538,0', '2258,0', '2218,0', '2654,0',\n",
       "       '11935,0', '2546,0', '3894,0', '4262,0', '10527,0', '2400,0',\n",
       "       '3681,0', '3447,0', '19513,0', '2659,0', '8847,0', '2045,0',\n",
       "       '4851,0', '8120,0', '4577,0', '5405,0', '3708,0', '13770,0',\n",
       "       '2297,0', '2450,0', '4342,0', '2572,0', '6500,0', '3149,0',\n",
       "       '5324,0', '4382,0', '2553,0', '5933,0', '4403,0', '10934,0',\n",
       "       '2022,0', '4256,0', '3580,0', '2899,0', '5562,0', '2377,0',\n",
       "       '2404,0', '2799,0', '2811,0', '4377,0', '4240,0', '4227,0',\n",
       "       '3917,0', '4969,0', '2042,0', '2821,0', '9957,0', '2207,0',\n",
       "       '2070,0', '2791,0', '8224,0', '2610,0', '5731,0', '2539,0',\n",
       "       '2376,0', '19081,0', '2743,0', '4538,0', '3867,0', '2080,0',\n",
       "       '2096,0', '4627,0', '2302,0', '5071,0', '10596,0', '5467,0',\n",
       "       '2394,0', '3629,0', '9362,0', '3229,0', '16422,0', '5647,0',\n",
       "       '4400,0', '2066,0', '5486,0', '3162,0', '6651,0', '4898,0',\n",
       "       '3180,0', '11244,0', '4069,0', '6392,0', '4855,0', '3312,0',\n",
       "       '3117,0', '15202,0', '2580,0', '2166,0', '4374,0', '5505,0',\n",
       "       '2587,0', '15972,0', '2305,0', '3433,0', '3477,0', '3907,0',\n",
       "       '3445,0', '2760,0', '6294,0', '13116,0', '3591,0', '2105,0',\n",
       "       '3902,0', '2662,0', '2062,0', '5507,0', '8103,0', '3978,0',\n",
       "       '5399,0', '10448,0', '4440,0', '2660,0', '3375,0', '2269,0',\n",
       "       '4787,0', '2809,0', '10854,0', '2571,0', '6142,0', '2496,0',\n",
       "       '3419,0', '2501,0', '2566,0', '3920,0', '13964,0', '6540,0',\n",
       "       '2244,0', '16184,0', '4233,0', '14814,0', '17159,0', '2318,0',\n",
       "       '3617,0', '2684,0', '19237,0', '4422,0', '2552,0', '2678,0',\n",
       "       '5171,0', '11916,0', '9380,0', '5878,0', '2468,0', '4127,0',\n",
       "       '2148,0', '3886,0', '6667,0', '2090,0', '2086,0', '1951,0',\n",
       "       '3022,0', '9724,0', '3388,0', '3038,0', '2322,0', '2926,0',\n",
       "       '4505,0', '2835,0', '6553,0', '6673,0', '13591,0', '2177,0',\n",
       "       '19517,0', '19202,0', '10048,0', '2723,0', '6644,0', '3161,0',\n",
       "       '1420,0', '1200,0', '5238,0', '9985,0', '15992,0', '2370,0',\n",
       "       '6781,0', '6653,0', '2851,0', '5258,0', '2476,0', '2285,0',\n",
       "       '3448,0', '4558,0', '1702,0', '2564,0', '5070,0', '3780,0',\n",
       "       '9824,0', '1878,0', '2340,0', '2127,0', '2033,0', '9602,0',\n",
       "       '16627,0', '2083,0', '1009,0', '7861,0', '2642,0', '5121,0',\n",
       "       '2694,0', '5094,0', '2274,0', '2314,0', '2380,0', '2008,0',\n",
       "       '10552,0', '2259,0', '2413,0', '2121,0', '2479,0', '13194,0',\n",
       "       '4163,0', '2600,0', '18303,0', '4777,0', '1052,0', '2461,0',\n",
       "       '2596,0', '4728,0', '7351,0', '4766,0', '2827,0', '2853,0',\n",
       "       '2290,0', '2107,0', '2210,0', '13191,0', '18265,0', '1118,0',\n",
       "       '2372,0', '2838,0', '18061,0', '1611,0', '4768,0', '1274,0',\n",
       "       '2561,0', '1563,0', '6388,0', '8376,0', '4841,0', '2074,0',\n",
       "       '2972,0', '6815,0', '2690,0', '17567,0', '1569,0', '4187,0',\n",
       "       '3306,0', '1393,0', '10883,0', '2862,0', '6735,0', '9756,0',\n",
       "       '5294,0', '2437,0', '4071,0', '2956,0', '4648,0', '2804,0',\n",
       "       '2439,0', '2856,0', '2933,0', '1091,0', '5151,0', '2863,0',\n",
       "       '2858,0', '1129,0', '19431,0'], dtype=object)"
      ]
     },
     "metadata": {},
     "output_type": "display_data"
    },
    {
     "name": "stdout",
     "output_type": "stream",
     "text": [
      "\n",
      "Value Counts:\n"
     ]
    },
    {
     "data": {
      "text/plain": [
       "MonthlyIncome\n",
       "5304,0     4\n",
       "6347,0     4\n",
       "2657,0     3\n",
       "2258,0     3\n",
       "2539,0     2\n",
       "          ..\n",
       "5151,0     1\n",
       "2863,0     1\n",
       "2858,0     1\n",
       "1129,0     1\n",
       "19845,0    1\n",
       "Name: count, Length: 668, dtype: int64"
      ]
     },
     "metadata": {},
     "output_type": "display_data"
    },
    {
     "name": "stdout",
     "output_type": "stream",
     "text": [
      "\n",
      "Most frequent value (mode):\n"
     ]
    },
    {
     "data": {
      "text/plain": [
       "'5304,0'"
      ]
     },
     "metadata": {},
     "output_type": "display_data"
    },
    {
     "name": "stdout",
     "output_type": "stream",
     "text": [
      "\n",
      "Count of duplicates in the column:\n"
     ]
    },
    {
     "data": {
      "text/plain": [
       "np.int64(945)"
      ]
     },
     "metadata": {},
     "output_type": "display_data"
    },
    {
     "name": "stdout",
     "output_type": "stream",
     "text": [
      "\n",
      "Exploration of the column: MonthlyRate\n",
      "\n",
      "Statistical description (numeric):\n"
     ]
    },
    {
     "data": {
      "text/plain": [
       "count     1614.000000\n",
       "mean     14284.495663\n",
       "std       7110.414585\n",
       "min       2094.000000\n",
       "25%       8001.000000\n",
       "50%      14248.500000\n",
       "75%      20364.000000\n",
       "max      26999.000000\n",
       "Name: MonthlyRate, dtype: float64"
      ]
     },
     "metadata": {},
     "output_type": "display_data"
    },
    {
     "name": "stdout",
     "output_type": "stream",
     "text": [
      "\n",
      "Count of null values:\n"
     ]
    },
    {
     "data": {
      "text/plain": [
       "np.int64(0)"
      ]
     },
     "metadata": {},
     "output_type": "display_data"
    },
    {
     "name": "stdout",
     "output_type": "stream",
     "text": [
      "\n",
      "Count of unique values:\n"
     ]
    },
    {
     "data": {
      "text/plain": [
       "1427"
      ]
     },
     "metadata": {},
     "output_type": "display_data"
    },
    {
     "name": "stdout",
     "output_type": "stream",
     "text": [
      "\n",
      "Unique values:\n"
     ]
    },
    {
     "data": {
      "text/plain": [
       "array([ 6462,  5678,  4933, ..., 15302, 26956, 16642])"
      ]
     },
     "metadata": {},
     "output_type": "display_data"
    },
    {
     "name": "stdout",
     "output_type": "stream",
     "text": [
      "\n",
      "Value Counts:\n"
     ]
    },
    {
     "data": {
      "text/plain": [
       "MonthlyRate\n",
       "9150     4\n",
       "6069     3\n",
       "17001    3\n",
       "9558     3\n",
       "19373    3\n",
       "        ..\n",
       "10007    1\n",
       "9128     1\n",
       "24539    1\n",
       "15587    1\n",
       "7739     1\n",
       "Name: count, Length: 1427, dtype: int64"
      ]
     },
     "metadata": {},
     "output_type": "display_data"
    },
    {
     "name": "stdout",
     "output_type": "stream",
     "text": [
      "\n",
      "Most frequent value (mode):\n"
     ]
    },
    {
     "data": {
      "text/plain": [
       "np.int64(9150)"
      ]
     },
     "metadata": {},
     "output_type": "display_data"
    },
    {
     "name": "stdout",
     "output_type": "stream",
     "text": [
      "\n",
      "Count of duplicates in the column:\n"
     ]
    },
    {
     "data": {
      "text/plain": [
       "np.int64(187)"
      ]
     },
     "metadata": {},
     "output_type": "display_data"
    },
    {
     "name": "stdout",
     "output_type": "stream",
     "text": [
      "\n",
      "Exploration of the column: NUMCOMPANIESWORKED\n",
      "\n",
      "Statistical description (numeric):\n"
     ]
    },
    {
     "data": {
      "text/plain": [
       "count    1614.000000\n",
       "mean        2.673482\n",
       "std         2.506152\n",
       "min         0.000000\n",
       "25%         1.000000\n",
       "50%         2.000000\n",
       "75%         4.000000\n",
       "max         9.000000\n",
       "Name: NUMCOMPANIESWORKED, dtype: float64"
      ]
     },
     "metadata": {},
     "output_type": "display_data"
    },
    {
     "name": "stdout",
     "output_type": "stream",
     "text": [
      "\n",
      "Count of null values:\n"
     ]
    },
    {
     "data": {
      "text/plain": [
       "np.int64(0)"
      ]
     },
     "metadata": {},
     "output_type": "display_data"
    },
    {
     "name": "stdout",
     "output_type": "stream",
     "text": [
      "\n",
      "Count of unique values:\n"
     ]
    },
    {
     "data": {
      "text/plain": [
       "10"
      ]
     },
     "metadata": {},
     "output_type": "display_data"
    },
    {
     "name": "stdout",
     "output_type": "stream",
     "text": [
      "\n",
      "Unique values:\n"
     ]
    },
    {
     "data": {
      "text/plain": [
       "array([7, 0, 1, 3, 2, 4, 8, 9, 5, 6])"
      ]
     },
     "metadata": {},
     "output_type": "display_data"
    },
    {
     "name": "stdout",
     "output_type": "stream",
     "text": [
      "\n",
      "Value Counts:\n"
     ]
    },
    {
     "data": {
      "text/plain": [
       "NUMCOMPANIESWORKED\n",
       "1    573\n",
       "0    226\n",
       "3    169\n",
       "4    157\n",
       "2    156\n",
       "7     84\n",
       "6     73\n",
       "5     66\n",
       "9     59\n",
       "8     51\n",
       "Name: count, dtype: int64"
      ]
     },
     "metadata": {},
     "output_type": "display_data"
    },
    {
     "name": "stdout",
     "output_type": "stream",
     "text": [
      "\n",
      "Most frequent value (mode):\n"
     ]
    },
    {
     "data": {
      "text/plain": [
       "np.int64(1)"
      ]
     },
     "metadata": {},
     "output_type": "display_data"
    },
    {
     "name": "stdout",
     "output_type": "stream",
     "text": [
      "\n",
      "Count of duplicates in the column:\n"
     ]
    },
    {
     "data": {
      "text/plain": [
       "np.int64(1604)"
      ]
     },
     "metadata": {},
     "output_type": "display_data"
    },
    {
     "name": "stdout",
     "output_type": "stream",
     "text": [
      "\n",
      "Exploration of the column: Over18\n",
      "\n",
      "Statistical description (categorical):\n"
     ]
    },
    {
     "data": {
      "text/plain": [
       "count     713\n",
       "unique      1\n",
       "top         Y\n",
       "freq      713\n",
       "Name: Over18, dtype: object"
      ]
     },
     "metadata": {},
     "output_type": "display_data"
    },
    {
     "name": "stdout",
     "output_type": "stream",
     "text": [
      "\n",
      "Count of null values:\n"
     ]
    },
    {
     "data": {
      "text/plain": [
       "np.int64(901)"
      ]
     },
     "metadata": {},
     "output_type": "display_data"
    },
    {
     "name": "stdout",
     "output_type": "stream",
     "text": [
      "\n",
      "Count of unique values:\n"
     ]
    },
    {
     "data": {
      "text/plain": [
       "1"
      ]
     },
     "metadata": {},
     "output_type": "display_data"
    },
    {
     "name": "stdout",
     "output_type": "stream",
     "text": [
      "\n",
      "Unique values:\n"
     ]
    },
    {
     "data": {
      "text/plain": [
       "array(['Y', nan], dtype=object)"
      ]
     },
     "metadata": {},
     "output_type": "display_data"
    },
    {
     "name": "stdout",
     "output_type": "stream",
     "text": [
      "\n",
      "Value Counts:\n"
     ]
    },
    {
     "data": {
      "text/plain": [
       "Over18\n",
       "Y    713\n",
       "Name: count, dtype: int64"
      ]
     },
     "metadata": {},
     "output_type": "display_data"
    },
    {
     "name": "stdout",
     "output_type": "stream",
     "text": [
      "\n",
      "Most frequent value (mode):\n"
     ]
    },
    {
     "data": {
      "text/plain": [
       "'Y'"
      ]
     },
     "metadata": {},
     "output_type": "display_data"
    },
    {
     "name": "stdout",
     "output_type": "stream",
     "text": [
      "\n",
      "Count of duplicates in the column:\n"
     ]
    },
    {
     "data": {
      "text/plain": [
       "np.int64(1612)"
      ]
     },
     "metadata": {},
     "output_type": "display_data"
    },
    {
     "name": "stdout",
     "output_type": "stream",
     "text": [
      "\n",
      "Exploration of the column: OverTime\n",
      "\n",
      "Statistical description (categorical):\n"
     ]
    },
    {
     "data": {
      "text/plain": [
       "count     938\n",
       "unique      2\n",
       "top        No\n",
       "freq      682\n",
       "Name: OverTime, dtype: object"
      ]
     },
     "metadata": {},
     "output_type": "display_data"
    },
    {
     "name": "stdout",
     "output_type": "stream",
     "text": [
      "\n",
      "Count of null values:\n"
     ]
    },
    {
     "data": {
      "text/plain": [
       "np.int64(676)"
      ]
     },
     "metadata": {},
     "output_type": "display_data"
    },
    {
     "name": "stdout",
     "output_type": "stream",
     "text": [
      "\n",
      "Count of unique values:\n"
     ]
    },
    {
     "data": {
      "text/plain": [
       "2"
      ]
     },
     "metadata": {},
     "output_type": "display_data"
    },
    {
     "name": "stdout",
     "output_type": "stream",
     "text": [
      "\n",
      "Unique values:\n"
     ]
    },
    {
     "data": {
      "text/plain": [
       "array(['No', nan, 'Yes'], dtype=object)"
      ]
     },
     "metadata": {},
     "output_type": "display_data"
    },
    {
     "name": "stdout",
     "output_type": "stream",
     "text": [
      "\n",
      "Value Counts:\n"
     ]
    },
    {
     "data": {
      "text/plain": [
       "OverTime\n",
       "No     682\n",
       "Yes    256\n",
       "Name: count, dtype: int64"
      ]
     },
     "metadata": {},
     "output_type": "display_data"
    },
    {
     "name": "stdout",
     "output_type": "stream",
     "text": [
      "\n",
      "Most frequent value (mode):\n"
     ]
    },
    {
     "data": {
      "text/plain": [
       "'No'"
      ]
     },
     "metadata": {},
     "output_type": "display_data"
    },
    {
     "name": "stdout",
     "output_type": "stream",
     "text": [
      "\n",
      "Count of duplicates in the column:\n"
     ]
    },
    {
     "data": {
      "text/plain": [
       "np.int64(1611)"
      ]
     },
     "metadata": {},
     "output_type": "display_data"
    },
    {
     "name": "stdout",
     "output_type": "stream",
     "text": [
      "\n",
      "Exploration of the column: PercentSalaryHike\n",
      "\n",
      "Statistical description (numeric):\n"
     ]
    },
    {
     "data": {
      "text/plain": [
       "count    1614.000000\n",
       "mean       15.165428\n",
       "std         3.648610\n",
       "min        11.000000\n",
       "25%        12.000000\n",
       "50%        14.000000\n",
       "75%        18.000000\n",
       "max        25.000000\n",
       "Name: PercentSalaryHike, dtype: float64"
      ]
     },
     "metadata": {},
     "output_type": "display_data"
    },
    {
     "name": "stdout",
     "output_type": "stream",
     "text": [
      "\n",
      "Count of null values:\n"
     ]
    },
    {
     "data": {
      "text/plain": [
       "np.int64(0)"
      ]
     },
     "metadata": {},
     "output_type": "display_data"
    },
    {
     "name": "stdout",
     "output_type": "stream",
     "text": [
      "\n",
      "Count of unique values:\n"
     ]
    },
    {
     "data": {
      "text/plain": [
       "15"
      ]
     },
     "metadata": {},
     "output_type": "display_data"
    },
    {
     "name": "stdout",
     "output_type": "stream",
     "text": [
      "\n",
      "Unique values:\n"
     ]
    },
    {
     "data": {
      "text/plain": [
       "array([13, 14, 11, 19, 12, 25, 16, 17, 22, 23, 20, 15, 21, 24, 18])"
      ]
     },
     "metadata": {},
     "output_type": "display_data"
    },
    {
     "name": "stdout",
     "output_type": "stream",
     "text": [
      "\n",
      "Value Counts:\n"
     ]
    },
    {
     "data": {
      "text/plain": [
       "PercentSalaryHike\n",
       "11    232\n",
       "13    230\n",
       "12    225\n",
       "14    220\n",
       "15    110\n",
       "18     98\n",
       "17     88\n",
       "16     86\n",
       "19     82\n",
       "20     60\n",
       "22     59\n",
       "21     51\n",
       "23     29\n",
       "24     25\n",
       "25     19\n",
       "Name: count, dtype: int64"
      ]
     },
     "metadata": {},
     "output_type": "display_data"
    },
    {
     "name": "stdout",
     "output_type": "stream",
     "text": [
      "\n",
      "Most frequent value (mode):\n"
     ]
    },
    {
     "data": {
      "text/plain": [
       "np.int64(11)"
      ]
     },
     "metadata": {},
     "output_type": "display_data"
    },
    {
     "name": "stdout",
     "output_type": "stream",
     "text": [
      "\n",
      "Count of duplicates in the column:\n"
     ]
    },
    {
     "data": {
      "text/plain": [
       "np.int64(1599)"
      ]
     },
     "metadata": {},
     "output_type": "display_data"
    },
    {
     "name": "stdout",
     "output_type": "stream",
     "text": [
      "\n",
      "Exploration of the column: PerformanceRating\n",
      "\n",
      "Statistical description (categorical):\n"
     ]
    },
    {
     "data": {
      "text/plain": [
       "count     1419\n",
       "unique       2\n",
       "top        3,0\n",
       "freq      1205\n",
       "Name: PerformanceRating, dtype: object"
      ]
     },
     "metadata": {},
     "output_type": "display_data"
    },
    {
     "name": "stdout",
     "output_type": "stream",
     "text": [
      "\n",
      "Count of null values:\n"
     ]
    },
    {
     "data": {
      "text/plain": [
       "np.int64(195)"
      ]
     },
     "metadata": {},
     "output_type": "display_data"
    },
    {
     "name": "stdout",
     "output_type": "stream",
     "text": [
      "\n",
      "Count of unique values:\n"
     ]
    },
    {
     "data": {
      "text/plain": [
       "2"
      ]
     },
     "metadata": {},
     "output_type": "display_data"
    },
    {
     "name": "stdout",
     "output_type": "stream",
     "text": [
      "\n",
      "Unique values:\n"
     ]
    },
    {
     "data": {
      "text/plain": [
       "array(['3,0', '4,0', nan], dtype=object)"
      ]
     },
     "metadata": {},
     "output_type": "display_data"
    },
    {
     "name": "stdout",
     "output_type": "stream",
     "text": [
      "\n",
      "Value Counts:\n"
     ]
    },
    {
     "data": {
      "text/plain": [
       "PerformanceRating\n",
       "3,0    1205\n",
       "4,0     214\n",
       "Name: count, dtype: int64"
      ]
     },
     "metadata": {},
     "output_type": "display_data"
    },
    {
     "name": "stdout",
     "output_type": "stream",
     "text": [
      "\n",
      "Most frequent value (mode):\n"
     ]
    },
    {
     "data": {
      "text/plain": [
       "'3,0'"
      ]
     },
     "metadata": {},
     "output_type": "display_data"
    },
    {
     "name": "stdout",
     "output_type": "stream",
     "text": [
      "\n",
      "Count of duplicates in the column:\n"
     ]
    },
    {
     "data": {
      "text/plain": [
       "np.int64(1611)"
      ]
     },
     "metadata": {},
     "output_type": "display_data"
    },
    {
     "name": "stdout",
     "output_type": "stream",
     "text": [
      "\n",
      "Exploration of the column: RelationshipSatisfaction\n",
      "\n",
      "Statistical description (numeric):\n"
     ]
    },
    {
     "data": {
      "text/plain": [
       "count    1614.000000\n",
       "mean        2.704461\n",
       "std         1.079031\n",
       "min         1.000000\n",
       "25%         2.000000\n",
       "50%         3.000000\n",
       "75%         4.000000\n",
       "max         4.000000\n",
       "Name: RelationshipSatisfaction, dtype: float64"
      ]
     },
     "metadata": {},
     "output_type": "display_data"
    },
    {
     "name": "stdout",
     "output_type": "stream",
     "text": [
      "\n",
      "Count of null values:\n"
     ]
    },
    {
     "data": {
      "text/plain": [
       "np.int64(0)"
      ]
     },
     "metadata": {},
     "output_type": "display_data"
    },
    {
     "name": "stdout",
     "output_type": "stream",
     "text": [
      "\n",
      "Count of unique values:\n"
     ]
    },
    {
     "data": {
      "text/plain": [
       "4"
      ]
     },
     "metadata": {},
     "output_type": "display_data"
    },
    {
     "name": "stdout",
     "output_type": "stream",
     "text": [
      "\n",
      "Unique values:\n"
     ]
    },
    {
     "data": {
      "text/plain": [
       "array([3, 1, 4, 2])"
      ]
     },
     "metadata": {},
     "output_type": "display_data"
    },
    {
     "name": "stdout",
     "output_type": "stream",
     "text": [
      "\n",
      "Value Counts:\n"
     ]
    },
    {
     "data": {
      "text/plain": [
       "RelationshipSatisfaction\n",
       "3    504\n",
       "4    468\n",
       "2    339\n",
       "1    303\n",
       "Name: count, dtype: int64"
      ]
     },
     "metadata": {},
     "output_type": "display_data"
    },
    {
     "name": "stdout",
     "output_type": "stream",
     "text": [
      "\n",
      "Most frequent value (mode):\n"
     ]
    },
    {
     "data": {
      "text/plain": [
       "np.int64(3)"
      ]
     },
     "metadata": {},
     "output_type": "display_data"
    },
    {
     "name": "stdout",
     "output_type": "stream",
     "text": [
      "\n",
      "Count of duplicates in the column:\n"
     ]
    },
    {
     "data": {
      "text/plain": [
       "np.int64(1610)"
      ]
     },
     "metadata": {},
     "output_type": "display_data"
    },
    {
     "name": "stdout",
     "output_type": "stream",
     "text": [
      "\n",
      "Exploration of the column: StandardHours\n",
      "\n",
      "Statistical description (categorical):\n"
     ]
    },
    {
     "data": {
      "text/plain": [
       "count      419\n",
       "unique       1\n",
       "top       80,0\n",
       "freq       419\n",
       "Name: StandardHours, dtype: object"
      ]
     },
     "metadata": {},
     "output_type": "display_data"
    },
    {
     "name": "stdout",
     "output_type": "stream",
     "text": [
      "\n",
      "Count of null values:\n"
     ]
    },
    {
     "data": {
      "text/plain": [
       "np.int64(1195)"
      ]
     },
     "metadata": {},
     "output_type": "display_data"
    },
    {
     "name": "stdout",
     "output_type": "stream",
     "text": [
      "\n",
      "Count of unique values:\n"
     ]
    },
    {
     "data": {
      "text/plain": [
       "1"
      ]
     },
     "metadata": {},
     "output_type": "display_data"
    },
    {
     "name": "stdout",
     "output_type": "stream",
     "text": [
      "\n",
      "Unique values:\n"
     ]
    },
    {
     "data": {
      "text/plain": [
       "array([nan, '80,0'], dtype=object)"
      ]
     },
     "metadata": {},
     "output_type": "display_data"
    },
    {
     "name": "stdout",
     "output_type": "stream",
     "text": [
      "\n",
      "Value Counts:\n"
     ]
    },
    {
     "data": {
      "text/plain": [
       "StandardHours\n",
       "80,0    419\n",
       "Name: count, dtype: int64"
      ]
     },
     "metadata": {},
     "output_type": "display_data"
    },
    {
     "name": "stdout",
     "output_type": "stream",
     "text": [
      "\n",
      "Most frequent value (mode):\n"
     ]
    },
    {
     "data": {
      "text/plain": [
       "'80,0'"
      ]
     },
     "metadata": {},
     "output_type": "display_data"
    },
    {
     "name": "stdout",
     "output_type": "stream",
     "text": [
      "\n",
      "Count of duplicates in the column:\n"
     ]
    },
    {
     "data": {
      "text/plain": [
       "np.int64(1612)"
      ]
     },
     "metadata": {},
     "output_type": "display_data"
    },
    {
     "name": "stdout",
     "output_type": "stream",
     "text": [
      "\n",
      "Exploration of the column: StockOptionLevel\n",
      "\n",
      "Statistical description (numeric):\n"
     ]
    },
    {
     "data": {
      "text/plain": [
       "count    1614.000000\n",
       "mean        0.791202\n",
       "std         0.842396\n",
       "min         0.000000\n",
       "25%         0.000000\n",
       "50%         1.000000\n",
       "75%         1.000000\n",
       "max         3.000000\n",
       "Name: StockOptionLevel, dtype: float64"
      ]
     },
     "metadata": {},
     "output_type": "display_data"
    },
    {
     "name": "stdout",
     "output_type": "stream",
     "text": [
      "\n",
      "Count of null values:\n"
     ]
    },
    {
     "data": {
      "text/plain": [
       "np.int64(0)"
      ]
     },
     "metadata": {},
     "output_type": "display_data"
    },
    {
     "name": "stdout",
     "output_type": "stream",
     "text": [
      "\n",
      "Count of unique values:\n"
     ]
    },
    {
     "data": {
      "text/plain": [
       "4"
      ]
     },
     "metadata": {},
     "output_type": "display_data"
    },
    {
     "name": "stdout",
     "output_type": "stream",
     "text": [
      "\n",
      "Unique values:\n"
     ]
    },
    {
     "data": {
      "text/plain": [
       "array([0, 1, 2, 3])"
      ]
     },
     "metadata": {},
     "output_type": "display_data"
    },
    {
     "name": "stdout",
     "output_type": "stream",
     "text": [
      "\n",
      "Value Counts:\n"
     ]
    },
    {
     "data": {
      "text/plain": [
       "StockOptionLevel\n",
       "0    687\n",
       "1    666\n",
       "2    172\n",
       "3     89\n",
       "Name: count, dtype: int64"
      ]
     },
     "metadata": {},
     "output_type": "display_data"
    },
    {
     "name": "stdout",
     "output_type": "stream",
     "text": [
      "\n",
      "Most frequent value (mode):\n"
     ]
    },
    {
     "data": {
      "text/plain": [
       "np.int64(0)"
      ]
     },
     "metadata": {},
     "output_type": "display_data"
    },
    {
     "name": "stdout",
     "output_type": "stream",
     "text": [
      "\n",
      "Count of duplicates in the column:\n"
     ]
    },
    {
     "data": {
      "text/plain": [
       "np.int64(1610)"
      ]
     },
     "metadata": {},
     "output_type": "display_data"
    },
    {
     "name": "stdout",
     "output_type": "stream",
     "text": [
      "\n",
      "Exploration of the column: TOTALWORKINGYEARS\n",
      "\n",
      "Statistical description (categorical):\n"
     ]
    },
    {
     "data": {
      "text/plain": [
       "count     1088\n",
       "unique      40\n",
       "top       10,0\n",
       "freq       144\n",
       "Name: TOTALWORKINGYEARS, dtype: object"
      ]
     },
     "metadata": {},
     "output_type": "display_data"
    },
    {
     "name": "stdout",
     "output_type": "stream",
     "text": [
      "\n",
      "Count of null values:\n"
     ]
    },
    {
     "data": {
      "text/plain": [
       "np.int64(526)"
      ]
     },
     "metadata": {},
     "output_type": "display_data"
    },
    {
     "name": "stdout",
     "output_type": "stream",
     "text": [
      "\n",
      "Count of unique values:\n"
     ]
    },
    {
     "data": {
      "text/plain": [
       "40"
      ]
     },
     "metadata": {},
     "output_type": "display_data"
    },
    {
     "name": "stdout",
     "output_type": "stream",
     "text": [
      "\n",
      "Unique values:\n"
     ]
    },
    {
     "data": {
      "text/plain": [
       "array([nan, '34,0', '22,0', '28,0', '20,0', '21,0', '33,0', '40,0',\n",
       "       '18,0', '25,0', '15,0', '17,0', '26,0', '16,0', '24,0', '14,0',\n",
       "       '23,0', '27,0', '19,0', '11,0', '38,0', '37,0', '13,0', '12,0',\n",
       "       '29,0', '10,0', '36,0', '35,0', '9,0', '31,0', '32,0', '8,0',\n",
       "       '7,0', '30,0', '6,0', '5,0', '4,0', '3,0', '2,0', '1,0', '0,0'],\n",
       "      dtype=object)"
      ]
     },
     "metadata": {},
     "output_type": "display_data"
    },
    {
     "name": "stdout",
     "output_type": "stream",
     "text": [
      "\n",
      "Value Counts:\n"
     ]
    },
    {
     "data": {
      "text/plain": [
       "TOTALWORKINGYEARS\n",
       "10,0    144\n",
       "8,0      86\n",
       "6,0      84\n",
       "9,0      69\n",
       "5,0      66\n",
       "7,0      56\n",
       "4,0      54\n",
       "1,0      53\n",
       "12,0     34\n",
       "3,0      32\n",
       "13,0     30\n",
       "14,0     30\n",
       "11,0     29\n",
       "16,0     28\n",
       "15,0     28\n",
       "20,0     28\n",
       "18,0     27\n",
       "21,0     23\n",
       "17,0     22\n",
       "2,0      21\n",
       "22,0     18\n",
       "19,0     17\n",
       "24,0     14\n",
       "28,0     13\n",
       "23,0     13\n",
       "0,0       8\n",
       "26,0      8\n",
       "33,0      6\n",
       "36,0      6\n",
       "29,0      6\n",
       "25,0      6\n",
       "27,0      5\n",
       "37,0      5\n",
       "31,0      4\n",
       "32,0      3\n",
       "40,0      3\n",
       "30,0      3\n",
       "35,0      3\n",
       "34,0      2\n",
       "38,0      1\n",
       "Name: count, dtype: int64"
      ]
     },
     "metadata": {},
     "output_type": "display_data"
    },
    {
     "name": "stdout",
     "output_type": "stream",
     "text": [
      "\n",
      "Most frequent value (mode):\n"
     ]
    },
    {
     "data": {
      "text/plain": [
       "'10,0'"
      ]
     },
     "metadata": {},
     "output_type": "display_data"
    },
    {
     "name": "stdout",
     "output_type": "stream",
     "text": [
      "\n",
      "Count of duplicates in the column:\n"
     ]
    },
    {
     "data": {
      "text/plain": [
       "np.int64(1573)"
      ]
     },
     "metadata": {},
     "output_type": "display_data"
    },
    {
     "name": "stdout",
     "output_type": "stream",
     "text": [
      "\n",
      "Exploration of the column: TrainingTimesLastYear\n",
      "\n",
      "Statistical description (numeric):\n"
     ]
    },
    {
     "data": {
      "text/plain": [
       "count    1614.000000\n",
       "mean        2.809789\n",
       "std         1.297765\n",
       "min         0.000000\n",
       "25%         2.000000\n",
       "50%         3.000000\n",
       "75%         3.000000\n",
       "max         6.000000\n",
       "Name: TrainingTimesLastYear, dtype: float64"
      ]
     },
     "metadata": {},
     "output_type": "display_data"
    },
    {
     "name": "stdout",
     "output_type": "stream",
     "text": [
      "\n",
      "Count of null values:\n"
     ]
    },
    {
     "data": {
      "text/plain": [
       "np.int64(0)"
      ]
     },
     "metadata": {},
     "output_type": "display_data"
    },
    {
     "name": "stdout",
     "output_type": "stream",
     "text": [
      "\n",
      "Count of unique values:\n"
     ]
    },
    {
     "data": {
      "text/plain": [
       "7"
      ]
     },
     "metadata": {},
     "output_type": "display_data"
    },
    {
     "name": "stdout",
     "output_type": "stream",
     "text": [
      "\n",
      "Unique values:\n"
     ]
    },
    {
     "data": {
      "text/plain": [
       "array([5, 3, 2, 0, 1, 4, 6])"
      ]
     },
     "metadata": {},
     "output_type": "display_data"
    },
    {
     "name": "stdout",
     "output_type": "stream",
     "text": [
      "\n",
      "Value Counts:\n"
     ]
    },
    {
     "data": {
      "text/plain": [
       "TrainingTimesLastYear\n",
       "2    598\n",
       "3    534\n",
       "4    137\n",
       "5    136\n",
       "1     77\n",
       "6     72\n",
       "0     60\n",
       "Name: count, dtype: int64"
      ]
     },
     "metadata": {},
     "output_type": "display_data"
    },
    {
     "name": "stdout",
     "output_type": "stream",
     "text": [
      "\n",
      "Most frequent value (mode):\n"
     ]
    },
    {
     "data": {
      "text/plain": [
       "np.int64(2)"
      ]
     },
     "metadata": {},
     "output_type": "display_data"
    },
    {
     "name": "stdout",
     "output_type": "stream",
     "text": [
      "\n",
      "Count of duplicates in the column:\n"
     ]
    },
    {
     "data": {
      "text/plain": [
       "np.int64(1607)"
      ]
     },
     "metadata": {},
     "output_type": "display_data"
    },
    {
     "name": "stdout",
     "output_type": "stream",
     "text": [
      "\n",
      "Exploration of the column: WORKLIFEBALANCE\n",
      "\n",
      "Statistical description (categorical):\n"
     ]
    },
    {
     "data": {
      "text/plain": [
       "count     1506\n",
       "unique       4\n",
       "top        3,0\n",
       "freq       913\n",
       "Name: WORKLIFEBALANCE, dtype: object"
      ]
     },
     "metadata": {},
     "output_type": "display_data"
    },
    {
     "name": "stdout",
     "output_type": "stream",
     "text": [
      "\n",
      "Count of null values:\n"
     ]
    },
    {
     "data": {
      "text/plain": [
       "np.int64(108)"
      ]
     },
     "metadata": {},
     "output_type": "display_data"
    },
    {
     "name": "stdout",
     "output_type": "stream",
     "text": [
      "\n",
      "Count of unique values:\n"
     ]
    },
    {
     "data": {
      "text/plain": [
       "4"
      ]
     },
     "metadata": {},
     "output_type": "display_data"
    },
    {
     "name": "stdout",
     "output_type": "stream",
     "text": [
      "\n",
      "Unique values:\n"
     ]
    },
    {
     "data": {
      "text/plain": [
       "array(['3,0', nan, '2,0', '4,0', '1,0'], dtype=object)"
      ]
     },
     "metadata": {},
     "output_type": "display_data"
    },
    {
     "name": "stdout",
     "output_type": "stream",
     "text": [
      "\n",
      "Value Counts:\n"
     ]
    },
    {
     "data": {
      "text/plain": [
       "WORKLIFEBALANCE\n",
       "3,0    913\n",
       "2,0    359\n",
       "4,0    155\n",
       "1,0     79\n",
       "Name: count, dtype: int64"
      ]
     },
     "metadata": {},
     "output_type": "display_data"
    },
    {
     "name": "stdout",
     "output_type": "stream",
     "text": [
      "\n",
      "Most frequent value (mode):\n"
     ]
    },
    {
     "data": {
      "text/plain": [
       "'3,0'"
      ]
     },
     "metadata": {},
     "output_type": "display_data"
    },
    {
     "name": "stdout",
     "output_type": "stream",
     "text": [
      "\n",
      "Count of duplicates in the column:\n"
     ]
    },
    {
     "data": {
      "text/plain": [
       "np.int64(1609)"
      ]
     },
     "metadata": {},
     "output_type": "display_data"
    },
    {
     "name": "stdout",
     "output_type": "stream",
     "text": [
      "\n",
      "Exploration of the column: YearsAtCompany\n",
      "\n",
      "Statistical description (numeric):\n"
     ]
    },
    {
     "data": {
      "text/plain": [
       "count    1614.000000\n",
       "mean        7.132590\n",
       "std         6.124237\n",
       "min         0.000000\n",
       "25%         3.000000\n",
       "50%         5.000000\n",
       "75%         9.000000\n",
       "max        40.000000\n",
       "Name: YearsAtCompany, dtype: float64"
      ]
     },
     "metadata": {},
     "output_type": "display_data"
    },
    {
     "name": "stdout",
     "output_type": "stream",
     "text": [
      "\n",
      "Count of null values:\n"
     ]
    },
    {
     "data": {
      "text/plain": [
       "np.int64(0)"
      ]
     },
     "metadata": {},
     "output_type": "display_data"
    },
    {
     "name": "stdout",
     "output_type": "stream",
     "text": [
      "\n",
      "Count of unique values:\n"
     ]
    },
    {
     "data": {
      "text/plain": [
       "37"
      ]
     },
     "metadata": {},
     "output_type": "display_data"
    },
    {
     "name": "stdout",
     "output_type": "stream",
     "text": [
      "\n",
      "Unique values:\n"
     ]
    },
    {
     "data": {
      "text/plain": [
       "array([20, 33, 22, 19, 21, 18, 24, 31, 26, 16, 23, 15, 17, 32, 14, 13, 25,\n",
       "       12, 11, 37, 40, 36, 27, 29, 10,  9, 30,  8,  7, 34,  6,  5,  4,  2,\n",
       "        3,  1,  0])"
      ]
     },
     "metadata": {},
     "output_type": "display_data"
    },
    {
     "name": "stdout",
     "output_type": "stream",
     "text": [
      "\n",
      "Value Counts:\n"
     ]
    },
    {
     "data": {
      "text/plain": [
       "YearsAtCompany\n",
       "5     208\n",
       "1     171\n",
       "2     141\n",
       "3     141\n",
       "10    133\n",
       "7     115\n",
       "4     114\n",
       "8     106\n",
       "9      94\n",
       "6      78\n",
       "0      44\n",
       "11     36\n",
       "20     29\n",
       "13     26\n",
       "15     21\n",
       "14     19\n",
       "22     17\n",
       "18     15\n",
       "12     15\n",
       "21     14\n",
       "16     14\n",
       "19     12\n",
       "17      9\n",
       "24      7\n",
       "33      5\n",
       "25      5\n",
       "26      4\n",
       "31      3\n",
       "32      3\n",
       "27      3\n",
       "36      3\n",
       "23      2\n",
       "40      2\n",
       "29      2\n",
       "37      1\n",
       "30      1\n",
       "34      1\n",
       "Name: count, dtype: int64"
      ]
     },
     "metadata": {},
     "output_type": "display_data"
    },
    {
     "name": "stdout",
     "output_type": "stream",
     "text": [
      "\n",
      "Most frequent value (mode):\n"
     ]
    },
    {
     "data": {
      "text/plain": [
       "np.int64(5)"
      ]
     },
     "metadata": {},
     "output_type": "display_data"
    },
    {
     "name": "stdout",
     "output_type": "stream",
     "text": [
      "\n",
      "Count of duplicates in the column:\n"
     ]
    },
    {
     "data": {
      "text/plain": [
       "np.int64(1577)"
      ]
     },
     "metadata": {},
     "output_type": "display_data"
    },
    {
     "name": "stdout",
     "output_type": "stream",
     "text": [
      "\n",
      "Exploration of the column: YearsInCurrentRole\n",
      "\n",
      "Statistical description (categorical):\n"
     ]
    },
    {
     "data": {
      "text/plain": [
       "count      34\n",
       "unique     10\n",
       "top       2,0\n",
       "freq       11\n",
       "Name: YearsInCurrentRole, dtype: object"
      ]
     },
     "metadata": {},
     "output_type": "display_data"
    },
    {
     "name": "stdout",
     "output_type": "stream",
     "text": [
      "\n",
      "Count of null values:\n"
     ]
    },
    {
     "data": {
      "text/plain": [
       "np.int64(1580)"
      ]
     },
     "metadata": {},
     "output_type": "display_data"
    },
    {
     "name": "stdout",
     "output_type": "stream",
     "text": [
      "\n",
      "Count of unique values:\n"
     ]
    },
    {
     "data": {
      "text/plain": [
       "10"
      ]
     },
     "metadata": {},
     "output_type": "display_data"
    },
    {
     "name": "stdout",
     "output_type": "stream",
     "text": [
      "\n",
      "Unique values:\n"
     ]
    },
    {
     "data": {
      "text/plain": [
       "array([nan, '13,0', '12,0', '11,0', '7,0', '6,0', '4,0', '3,0', '2,0',\n",
       "       '1,0', '0,0'], dtype=object)"
      ]
     },
     "metadata": {},
     "output_type": "display_data"
    },
    {
     "name": "stdout",
     "output_type": "stream",
     "text": [
      "\n",
      "Value Counts:\n"
     ]
    },
    {
     "data": {
      "text/plain": [
       "YearsInCurrentRole\n",
       "2,0     11\n",
       "7,0      5\n",
       "0,0      4\n",
       "4,0      3\n",
       "1,0      3\n",
       "11,0     2\n",
       "6,0      2\n",
       "3,0      2\n",
       "12,0     1\n",
       "13,0     1\n",
       "Name: count, dtype: int64"
      ]
     },
     "metadata": {},
     "output_type": "display_data"
    },
    {
     "name": "stdout",
     "output_type": "stream",
     "text": [
      "\n",
      "Most frequent value (mode):\n"
     ]
    },
    {
     "data": {
      "text/plain": [
       "'2,0'"
      ]
     },
     "metadata": {},
     "output_type": "display_data"
    },
    {
     "name": "stdout",
     "output_type": "stream",
     "text": [
      "\n",
      "Count of duplicates in the column:\n"
     ]
    },
    {
     "data": {
      "text/plain": [
       "np.int64(1603)"
      ]
     },
     "metadata": {},
     "output_type": "display_data"
    },
    {
     "name": "stdout",
     "output_type": "stream",
     "text": [
      "\n",
      "Exploration of the column: YearsSinceLastPromotion\n",
      "\n",
      "Statistical description (numeric):\n"
     ]
    },
    {
     "data": {
      "text/plain": [
       "count    1614.000000\n",
       "mean        2.245973\n",
       "std         3.235665\n",
       "min         0.000000\n",
       "25%         0.000000\n",
       "50%         1.000000\n",
       "75%         3.000000\n",
       "max        15.000000\n",
       "Name: YearsSinceLastPromotion, dtype: float64"
      ]
     },
     "metadata": {},
     "output_type": "display_data"
    },
    {
     "name": "stdout",
     "output_type": "stream",
     "text": [
      "\n",
      "Count of null values:\n"
     ]
    },
    {
     "data": {
      "text/plain": [
       "np.int64(0)"
      ]
     },
     "metadata": {},
     "output_type": "display_data"
    },
    {
     "name": "stdout",
     "output_type": "stream",
     "text": [
      "\n",
      "Count of unique values:\n"
     ]
    },
    {
     "data": {
      "text/plain": [
       "16"
      ]
     },
     "metadata": {},
     "output_type": "display_data"
    },
    {
     "name": "stdout",
     "output_type": "stream",
     "text": [
      "\n",
      "Unique values:\n"
     ]
    },
    {
     "data": {
      "text/plain": [
       "array([15, 11,  5,  2,  4,  7,  0,  1, 13, 14,  8, 12,  3,  6, 10,  9])"
      ]
     },
     "metadata": {},
     "output_type": "display_data"
    },
    {
     "name": "stdout",
     "output_type": "stream",
     "text": [
      "\n",
      "Value Counts:\n"
     ]
    },
    {
     "data": {
      "text/plain": [
       "YearsSinceLastPromotion\n",
       "0     625\n",
       "1     384\n",
       "2     177\n",
       "7      93\n",
       "4      67\n",
       "3      62\n",
       "5      53\n",
       "6      37\n",
       "11     26\n",
       "8      20\n",
       "9      18\n",
       "15     15\n",
       "12     11\n",
       "14     10\n",
       "13     10\n",
       "10      6\n",
       "Name: count, dtype: int64"
      ]
     },
     "metadata": {},
     "output_type": "display_data"
    },
    {
     "name": "stdout",
     "output_type": "stream",
     "text": [
      "\n",
      "Most frequent value (mode):\n"
     ]
    },
    {
     "data": {
      "text/plain": [
       "np.int64(0)"
      ]
     },
     "metadata": {},
     "output_type": "display_data"
    },
    {
     "name": "stdout",
     "output_type": "stream",
     "text": [
      "\n",
      "Count of duplicates in the column:\n"
     ]
    },
    {
     "data": {
      "text/plain": [
       "np.int64(1598)"
      ]
     },
     "metadata": {},
     "output_type": "display_data"
    },
    {
     "name": "stdout",
     "output_type": "stream",
     "text": [
      "\n",
      "Exploration of the column: YEARSWITHCURRMANAGER\n",
      "\n",
      "Statistical description (numeric):\n"
     ]
    },
    {
     "data": {
      "text/plain": [
       "count    1614.000000\n",
       "mean        4.220570\n",
       "std         3.562695\n",
       "min         0.000000\n",
       "25%         2.000000\n",
       "50%         3.000000\n",
       "75%         7.000000\n",
       "max        17.000000\n",
       "Name: YEARSWITHCURRMANAGER, dtype: float64"
      ]
     },
     "metadata": {},
     "output_type": "display_data"
    },
    {
     "name": "stdout",
     "output_type": "stream",
     "text": [
      "\n",
      "Count of null values:\n"
     ]
    },
    {
     "data": {
      "text/plain": [
       "np.int64(0)"
      ]
     },
     "metadata": {},
     "output_type": "display_data"
    },
    {
     "name": "stdout",
     "output_type": "stream",
     "text": [
      "\n",
      "Count of unique values:\n"
     ]
    },
    {
     "data": {
      "text/plain": [
       "18"
      ]
     },
     "metadata": {},
     "output_type": "display_data"
    },
    {
     "name": "stdout",
     "output_type": "stream",
     "text": [
      "\n",
      "Unique values:\n"
     ]
    },
    {
     "data": {
      "text/plain": [
       "array([15,  9,  6,  8,  7, 11, 10, 12,  4,  0,  5, 17,  2, 14,  1, 13,  3,\n",
       "       16])"
      ]
     },
     "metadata": {},
     "output_type": "display_data"
    },
    {
     "name": "stdout",
     "output_type": "stream",
     "text": [
      "\n",
      "Value Counts:\n"
     ]
    },
    {
     "data": {
      "text/plain": [
       "YEARSWITHCURRMANAGER\n",
       "2     380\n",
       "0     270\n",
       "7     267\n",
       "3     148\n",
       "8     115\n",
       "4     104\n",
       "1      84\n",
       "9      70\n",
       "5      36\n",
       "10     31\n",
       "6      30\n",
       "11     22\n",
       "12     20\n",
       "13     16\n",
       "17      8\n",
       "15      5\n",
       "14      5\n",
       "16      3\n",
       "Name: count, dtype: int64"
      ]
     },
     "metadata": {},
     "output_type": "display_data"
    },
    {
     "name": "stdout",
     "output_type": "stream",
     "text": [
      "\n",
      "Most frequent value (mode):\n"
     ]
    },
    {
     "data": {
      "text/plain": [
       "np.int64(2)"
      ]
     },
     "metadata": {},
     "output_type": "display_data"
    },
    {
     "name": "stdout",
     "output_type": "stream",
     "text": [
      "\n",
      "Count of duplicates in the column:\n"
     ]
    },
    {
     "data": {
      "text/plain": [
       "np.int64(1596)"
      ]
     },
     "metadata": {},
     "output_type": "display_data"
    },
    {
     "name": "stdout",
     "output_type": "stream",
     "text": [
      "\n",
      "Exploration of the column: SameAsMonthlyIncome\n",
      "\n",
      "Statistical description (categorical):\n"
     ]
    },
    {
     "data": {
      "text/plain": [
       "count        771\n",
       "unique       668\n",
       "top       5304,0\n",
       "freq           4\n",
       "Name: SameAsMonthlyIncome, dtype: object"
      ]
     },
     "metadata": {},
     "output_type": "display_data"
    },
    {
     "name": "stdout",
     "output_type": "stream",
     "text": [
      "\n",
      "Count of null values:\n"
     ]
    },
    {
     "data": {
      "text/plain": [
       "np.int64(843)"
      ]
     },
     "metadata": {},
     "output_type": "display_data"
    },
    {
     "name": "stdout",
     "output_type": "stream",
     "text": [
      "\n",
      "Count of unique values:\n"
     ]
    },
    {
     "data": {
      "text/plain": [
       "668"
      ]
     },
     "metadata": {},
     "output_type": "display_data"
    },
    {
     "name": "stdout",
     "output_type": "stream",
     "text": [
      "\n",
      "Unique values:\n"
     ]
    },
    {
     "data": {
      "text/plain": [
       "array(['19537,0', '19999,0', '19232,0', '17169,0', nan, '17174,0',\n",
       "       '16595,0', '19973,0', '13402,0', '13206,0', '19545,0', '18041,0',\n",
       "       '19246,0', '10748,0', '16752,0', '6201,0', '19845,0', '4001,0',\n",
       "       '10447,0', '16064,0', '3210,0', '10266,0', '10475,0', '6162,0',\n",
       "       '4721,0', '4615,0', '16959,0', '10306,0', '5406,0', '5902,0',\n",
       "       '10855,0', '5914,0', '6646,0', '13973,0', '13320,0', '6687,0',\n",
       "       '4735,0', '13872,0', '19045,0', '16015,0', '9613,0', '11510,0',\n",
       "       '4306,0', '17046,0', '5067,0', '3692,0', '19847,0', '2308,0',\n",
       "       '5747,0', '10422,0', '6347,0', '2348,0', '3072,0', '12490,0',\n",
       "       '8020,0', '17068,0', '8943,0', '19272,0', '5577,0', '2691,0',\n",
       "       '7403,0', '8823,0', '3579,0', '17779,0', '18213,0', '13577,0',\n",
       "       '19190,0', '17123,0', '19187,0', '10008,0', '7988,0', '7083,0',\n",
       "       '4723,0', '3407,0', '2929,0', '12031,0', '15427,0', '5126,0',\n",
       "       '9619,0', '5010,0', '19033,0', '10400,0', '2793,0', '5674,0',\n",
       "       '19197,0', '8412,0', '3348,0', '5309,0', '7654,0', '12808,0',\n",
       "       '6586,0', '2519,0', '17099,0', '13120,0', '3131,0', '4444,0',\n",
       "       '6674,0', '9852,0', '17861,0', '7446,0', '13757,0', '16598,0',\n",
       "       '4285,0', '10124,0', '9714,0', '9924,0', '11245,0', '3069,0',\n",
       "       '9241,0', '6472,0', '3055,0', '8321,0', '3143,0', '8578,0',\n",
       "       '4197,0', '9888,0', '13341,0', '5677,0', '2909,0', '9526,0',\n",
       "       '6825,0', '4424,0', '5441,0', '6074,0', '6146,0', '6172,0',\n",
       "       '4668,0', '5605,0', '4319,0', '3564,0', '6261,0', '6804,0',\n",
       "       '19436,0', '5828,0', '2455,0', '5055,0', '4682,0', '5257,0',\n",
       "       '2119,0', '5974,0', '3034,0', '13212,0', '8392,0', '4051,0',\n",
       "       '4805,0', '2741,0', '5337,0', '9434,0', '5396,0', '11159,0',\n",
       "       '4960,0', '8793,0', '19189,0', '2216,0', '11713,0', '5304,0',\n",
       "       '11103,0', '6632,0', '7587,0', '4335,0', '5980,0', '4244,0',\n",
       "       '5228,0', '2700,0', '2366,0', '2329,0', '4294,0', '6725,0',\n",
       "       '10325,0', '4447,0', '10845,0', '5472,0', '6385,0', '7525,0',\n",
       "       '3660,0', '8740,0', '13499,0', '3491,0', '5220,0', '10252,0',\n",
       "       '19740,0', '6209,0', '7094,0', '4534,0', '8500,0', '4639,0',\n",
       "       '5363,0', '4081,0', '3578,0', '17328,0', '10793,0', '10851,0',\n",
       "       '10466,0', '2362,0', '6439,0', '5769,0', '4385,0', '4066,0',\n",
       "       '5206,0', '2655,0', '2570,0', '4502,0', '4968,0', '5147,0',\n",
       "       '2718,0', '3539,0', '5468,0', '5813,0', '9667,0', '5154,0',\n",
       "       '5675,0', '7314,0', '5098,0', '13570,0', '6712,0', '9991,0',\n",
       "       '10248,0', '10938,0', '2593,0', '11878,0', '8095,0', '16856,0',\n",
       "       '4537,0', '17924,0', '4014,0', '12742,0', '3376,0', '10482,0',\n",
       "       '4249,0', '6549,0', '14411,0', '19586,0', '8237,0', '3211,0',\n",
       "       '16704,0', '4774,0', '4568,0', '5993,0', '6499,0', '3452,0',\n",
       "       '6397,0', '2725,0', '3622,0', '6180,0', '6274,0', '4381,0',\n",
       "       '2559,0', '5488,0', '2514,0', '3196,0', '3420,0', '4087,0',\n",
       "       '5368,0', '12936,0', '4221,0', '4963,0', '4200,0', '5006,0',\n",
       "       '7639,0', '6502,0', '13525,0', '6349,0', '6380,0', '3102,0',\n",
       "       '4556,0', '4230,0', '4859,0', '6322,0', '10761,0', '2973,0',\n",
       "       '5204,0', '17399,0', '16885,0', '4323,0', '5155,0', '2936,0',\n",
       "       '18789,0', '4883,0', '2029,0', '2996,0', '9278,0', '4162,0',\n",
       "       '8853,0', '4876,0', '2141,0', '7756,0', '3936,0', '6842,0',\n",
       "       '3989,0', '4930,0', '3702,0', '2705,0', '4448,0', '2379,0',\n",
       "       '5487,0', '2810,0', '8938,0', '9936,0', '5454,0', '18740,0',\n",
       "       '5473,0', '13503,0', '13549,0', '18172,0', '2774,0', '9439,0',\n",
       "       '5265,0', '3815,0', '2389,0', '4000,0', '17584,0', '5661,0',\n",
       "       '4869,0', '4649,0', '10496,0', '2768,0', '3408,0', '3755,0',\n",
       "       '2187,0', '4258,0', '5326,0', '5485,0', '2782,0', '17639,0',\n",
       "       '6062,0', '6288,0', '3424,0', '4194,0', '2532,0', '5666,0',\n",
       "       '13726,0', '4107,0', '3597,0', '4115,0', '6272,0', '2517,0',\n",
       "       '3904,0', '9204,0', '4373,0', '2064,0', '2430,0', '4877,0',\n",
       "       '3760,0', '2013,0', '2974,0', '2766,0', '3377,0', '4213,0',\n",
       "       '6513,0', '4284,0', '2226,0', '5561,0', '2144,0', '5373,0',\n",
       "       '2897,0', '5321,0', '5410,0', '4850,0', '2001,0', '4404,0',\n",
       "       '3944,0', '2960,0', '18947,0', '6465,0', '2683,0', '2014,0',\n",
       "       '3441,0', '13664,0', '5021,0', '18844,0', '4739,0', '10650,0',\n",
       "       '4317,0', '2024,0', '3058,0', '3929,0', '4425,0', '2328,0',\n",
       "       '2657,0', '5940,0', '2622,0', '3212,0', '2911,0', '6931,0',\n",
       "       '2176,0', '3230,0', '18665,0', '2789,0', '6410,0', '4941,0',\n",
       "       '3983,0', '2904,0', '2696,0', '2174,0', '6755,0', '10965,0',\n",
       "       '2543,0', '19406,0', '6538,0', '2258,0', '2218,0', '2654,0',\n",
       "       '11935,0', '2546,0', '3894,0', '4262,0', '10527,0', '2400,0',\n",
       "       '3681,0', '3447,0', '19513,0', '2659,0', '8847,0', '2045,0',\n",
       "       '4851,0', '8120,0', '4577,0', '5405,0', '3708,0', '13770,0',\n",
       "       '2297,0', '2450,0', '4342,0', '2572,0', '6500,0', '3149,0',\n",
       "       '5324,0', '4382,0', '2553,0', '5933,0', '4403,0', '10934,0',\n",
       "       '2022,0', '4256,0', '3580,0', '2899,0', '5562,0', '2377,0',\n",
       "       '2404,0', '2799,0', '2811,0', '4377,0', '4240,0', '4227,0',\n",
       "       '3917,0', '4969,0', '2042,0', '2821,0', '9957,0', '2207,0',\n",
       "       '2070,0', '2791,0', '8224,0', '2610,0', '5731,0', '2539,0',\n",
       "       '2376,0', '19081,0', '2743,0', '4538,0', '3867,0', '2080,0',\n",
       "       '2096,0', '4627,0', '2302,0', '5071,0', '10596,0', '5467,0',\n",
       "       '2394,0', '3629,0', '9362,0', '3229,0', '16422,0', '5647,0',\n",
       "       '4400,0', '2066,0', '5486,0', '3162,0', '6651,0', '4898,0',\n",
       "       '3180,0', '11244,0', '4069,0', '6392,0', '4855,0', '3312,0',\n",
       "       '3117,0', '15202,0', '2580,0', '2166,0', '4374,0', '5505,0',\n",
       "       '2587,0', '15972,0', '2305,0', '3433,0', '3477,0', '3907,0',\n",
       "       '3445,0', '2760,0', '6294,0', '13116,0', '3591,0', '2105,0',\n",
       "       '3902,0', '2662,0', '2062,0', '5507,0', '8103,0', '3978,0',\n",
       "       '5399,0', '10448,0', '4440,0', '2660,0', '3375,0', '2269,0',\n",
       "       '4787,0', '2809,0', '10854,0', '2571,0', '6142,0', '2496,0',\n",
       "       '3419,0', '2501,0', '2566,0', '3920,0', '13964,0', '6540,0',\n",
       "       '2244,0', '16184,0', '4233,0', '14814,0', '17159,0', '2318,0',\n",
       "       '3617,0', '2684,0', '19237,0', '4422,0', '2552,0', '2678,0',\n",
       "       '5171,0', '11916,0', '9380,0', '5878,0', '2468,0', '4127,0',\n",
       "       '2148,0', '3886,0', '6667,0', '2090,0', '2086,0', '1951,0',\n",
       "       '3022,0', '9724,0', '3388,0', '3038,0', '2322,0', '2926,0',\n",
       "       '4505,0', '2835,0', '6553,0', '6673,0', '13591,0', '2177,0',\n",
       "       '19517,0', '19202,0', '10048,0', '2723,0', '6644,0', '3161,0',\n",
       "       '1420,0', '1200,0', '5238,0', '9985,0', '15992,0', '2370,0',\n",
       "       '6781,0', '6653,0', '2851,0', '5258,0', '2476,0', '2285,0',\n",
       "       '3448,0', '4558,0', '1702,0', '2564,0', '5070,0', '3780,0',\n",
       "       '9824,0', '1878,0', '2340,0', '2127,0', '2033,0', '9602,0',\n",
       "       '16627,0', '2083,0', '1009,0', '7861,0', '2642,0', '5121,0',\n",
       "       '2694,0', '5094,0', '2274,0', '2314,0', '2380,0', '2008,0',\n",
       "       '10552,0', '2259,0', '2413,0', '2121,0', '2479,0', '13194,0',\n",
       "       '4163,0', '2600,0', '18303,0', '4777,0', '1052,0', '2461,0',\n",
       "       '2596,0', '4728,0', '7351,0', '4766,0', '2827,0', '2853,0',\n",
       "       '2290,0', '2107,0', '2210,0', '13191,0', '18265,0', '1118,0',\n",
       "       '2372,0', '2838,0', '18061,0', '1611,0', '4768,0', '1274,0',\n",
       "       '2561,0', '1563,0', '6388,0', '8376,0', '4841,0', '2074,0',\n",
       "       '2972,0', '6815,0', '2690,0', '17567,0', '1569,0', '4187,0',\n",
       "       '3306,0', '1393,0', '10883,0', '2862,0', '6735,0', '9756,0',\n",
       "       '5294,0', '2437,0', '4071,0', '2956,0', '4648,0', '2804,0',\n",
       "       '2439,0', '2856,0', '2933,0', '1091,0', '5151,0', '2863,0',\n",
       "       '2858,0', '1129,0', '19431,0'], dtype=object)"
      ]
     },
     "metadata": {},
     "output_type": "display_data"
    },
    {
     "name": "stdout",
     "output_type": "stream",
     "text": [
      "\n",
      "Value Counts:\n"
     ]
    },
    {
     "data": {
      "text/plain": [
       "SameAsMonthlyIncome\n",
       "5304,0     4\n",
       "6347,0     4\n",
       "2657,0     3\n",
       "2258,0     3\n",
       "2539,0     2\n",
       "          ..\n",
       "5151,0     1\n",
       "2863,0     1\n",
       "2858,0     1\n",
       "1129,0     1\n",
       "19845,0    1\n",
       "Name: count, Length: 668, dtype: int64"
      ]
     },
     "metadata": {},
     "output_type": "display_data"
    },
    {
     "name": "stdout",
     "output_type": "stream",
     "text": [
      "\n",
      "Most frequent value (mode):\n"
     ]
    },
    {
     "data": {
      "text/plain": [
       "'5304,0'"
      ]
     },
     "metadata": {},
     "output_type": "display_data"
    },
    {
     "name": "stdout",
     "output_type": "stream",
     "text": [
      "\n",
      "Count of duplicates in the column:\n"
     ]
    },
    {
     "data": {
      "text/plain": [
       "np.int64(945)"
      ]
     },
     "metadata": {},
     "output_type": "display_data"
    },
    {
     "name": "stdout",
     "output_type": "stream",
     "text": [
      "\n",
      "Exploration of the column: DateBirth\n",
      "\n",
      "Statistical description (numeric):\n"
     ]
    },
    {
     "data": {
      "text/plain": [
       "count    1614.000000\n",
       "mean     1986.076208\n",
       "std         9.101332\n",
       "min      1963.000000\n",
       "25%      1980.000000\n",
       "50%      1987.000000\n",
       "75%      1993.000000\n",
       "max      2005.000000\n",
       "Name: DateBirth, dtype: float64"
      ]
     },
     "metadata": {},
     "output_type": "display_data"
    },
    {
     "name": "stdout",
     "output_type": "stream",
     "text": [
      "\n",
      "Count of null values:\n"
     ]
    },
    {
     "data": {
      "text/plain": [
       "np.int64(0)"
      ]
     },
     "metadata": {},
     "output_type": "display_data"
    },
    {
     "name": "stdout",
     "output_type": "stream",
     "text": [
      "\n",
      "Count of unique values:\n"
     ]
    },
    {
     "data": {
      "text/plain": [
       "43"
      ]
     },
     "metadata": {},
     "output_type": "display_data"
    },
    {
     "name": "stdout",
     "output_type": "stream",
     "text": [
      "\n",
      "Unique values:\n"
     ]
    },
    {
     "data": {
      "text/plain": [
       "array([1972, 1971, 1981, 1976, 1977, 1975, 1964, 1982, 1967, 1985, 1968,\n",
       "       1983, 1965, 1988, 1978, 1990, 1987, 1989, 1970, 1980, 1963, 1991,\n",
       "       1986, 1974, 1984, 1973, 1979, 1993, 1994, 1992, 1969, 1966, 1996,\n",
       "       1995, 1997, 1998, 1999, 2000, 2001, 2002, 2003, 2004, 2005])"
      ]
     },
     "metadata": {},
     "output_type": "display_data"
    },
    {
     "name": "stdout",
     "output_type": "stream",
     "text": [
      "\n",
      "Value Counts:\n"
     ]
    },
    {
     "data": {
      "text/plain": [
       "DateBirth\n",
       "1988    84\n",
       "1989    83\n",
       "1992    83\n",
       "1994    78\n",
       "1987    75\n",
       "1991    65\n",
       "1993    64\n",
       "1985    64\n",
       "1990    61\n",
       "1983    60\n",
       "1986    55\n",
       "1996    54\n",
       "1995    53\n",
       "1981    50\n",
       "1978    48\n",
       "1982    46\n",
       "1997    46\n",
       "1984    45\n",
       "1980    40\n",
       "1977    38\n",
       "1979    34\n",
       "1973    31\n",
       "1999    27\n",
       "1976    27\n",
       "1998    27\n",
       "1974    25\n",
       "1968    25\n",
       "1972    20\n",
       "1969    20\n",
       "1970    20\n",
       "1975    20\n",
       "1971    19\n",
       "1967    17\n",
       "2002    16\n",
       "2001    16\n",
       "2000    15\n",
       "1965    15\n",
       "2003    11\n",
       "1964    10\n",
       "2004     9\n",
       "2005     8\n",
       "1963     5\n",
       "1966     5\n",
       "Name: count, dtype: int64"
      ]
     },
     "metadata": {},
     "output_type": "display_data"
    },
    {
     "name": "stdout",
     "output_type": "stream",
     "text": [
      "\n",
      "Most frequent value (mode):\n"
     ]
    },
    {
     "data": {
      "text/plain": [
       "np.int64(1988)"
      ]
     },
     "metadata": {},
     "output_type": "display_data"
    },
    {
     "name": "stdout",
     "output_type": "stream",
     "text": [
      "\n",
      "Count of duplicates in the column:\n"
     ]
    },
    {
     "data": {
      "text/plain": [
       "np.int64(1571)"
      ]
     },
     "metadata": {},
     "output_type": "display_data"
    },
    {
     "name": "stdout",
     "output_type": "stream",
     "text": [
      "\n",
      "Exploration of the column: Salary\n",
      "\n",
      "Statistical description (categorical):\n"
     ]
    },
    {
     "data": {
      "text/plain": [
       "count            1614\n",
       "unique              1\n",
       "top       1000000000$\n",
       "freq             1614\n",
       "Name: Salary, dtype: object"
      ]
     },
     "metadata": {},
     "output_type": "display_data"
    },
    {
     "name": "stdout",
     "output_type": "stream",
     "text": [
      "\n",
      "Count of null values:\n"
     ]
    },
    {
     "data": {
      "text/plain": [
       "np.int64(0)"
      ]
     },
     "metadata": {},
     "output_type": "display_data"
    },
    {
     "name": "stdout",
     "output_type": "stream",
     "text": [
      "\n",
      "Count of unique values:\n"
     ]
    },
    {
     "data": {
      "text/plain": [
       "1"
      ]
     },
     "metadata": {},
     "output_type": "display_data"
    },
    {
     "name": "stdout",
     "output_type": "stream",
     "text": [
      "\n",
      "Unique values:\n"
     ]
    },
    {
     "data": {
      "text/plain": [
       "array(['1000000000$'], dtype=object)"
      ]
     },
     "metadata": {},
     "output_type": "display_data"
    },
    {
     "name": "stdout",
     "output_type": "stream",
     "text": [
      "\n",
      "Value Counts:\n"
     ]
    },
    {
     "data": {
      "text/plain": [
       "Salary\n",
       "1000000000$    1614\n",
       "Name: count, dtype: int64"
      ]
     },
     "metadata": {},
     "output_type": "display_data"
    },
    {
     "name": "stdout",
     "output_type": "stream",
     "text": [
      "\n",
      "Most frequent value (mode):\n"
     ]
    },
    {
     "data": {
      "text/plain": [
       "'1000000000$'"
      ]
     },
     "metadata": {},
     "output_type": "display_data"
    },
    {
     "name": "stdout",
     "output_type": "stream",
     "text": [
      "\n",
      "Count of duplicates in the column:\n"
     ]
    },
    {
     "data": {
      "text/plain": [
       "np.int64(1613)"
      ]
     },
     "metadata": {},
     "output_type": "display_data"
    },
    {
     "name": "stdout",
     "output_type": "stream",
     "text": [
      "\n",
      "Exploration of the column: RoleDepartament\n",
      "\n",
      "Statistical description (categorical):\n"
     ]
    },
    {
     "data": {
      "text/plain": [
       "count                     302\n",
       "unique                    301\n",
       "top        MaNAgeR  -  Sales \n",
       "freq                        2\n",
       "Name: RoleDepartament, dtype: object"
      ]
     },
     "metadata": {},
     "output_type": "display_data"
    },
    {
     "name": "stdout",
     "output_type": "stream",
     "text": [
      "\n",
      "Count of null values:\n"
     ]
    },
    {
     "data": {
      "text/plain": [
       "np.int64(1312)"
      ]
     },
     "metadata": {},
     "output_type": "display_data"
    },
    {
     "name": "stdout",
     "output_type": "stream",
     "text": [
      "\n",
      "Count of unique values:\n"
     ]
    },
    {
     "data": {
      "text/plain": [
       "301"
      ]
     },
     "metadata": {},
     "output_type": "display_data"
    },
    {
     "name": "stdout",
     "output_type": "stream",
     "text": [
      "\n",
      "Unique values:\n"
     ]
    },
    {
     "data": {
      "text/plain": [
       "array([nan, ' ManaGER  -  Research & Development ',\n",
       "       ' MANAger  -  Research & Development ',\n",
       "       ' heaLtHcArE repResENtATiVe  -  Research & Development ',\n",
       "       ' saLEs exEcutIVe  -  Sales ', ' Sales ExECuTIVe  -  Sales ',\n",
       "       ' heALthCArE RePResEntaTIVe  -  Research & Development ',\n",
       "       ' lABORAtOry tECHnIcIan  -  Research & Development ',\n",
       "       ' ManufactUrINg DiReCTOr  -  Research & Development ',\n",
       "       ' SaleS eXEcUtIVE  -  Sales ',\n",
       "       ' HEaLthcaRe rEprEsEnTAtiVe  -  Research & Development ',\n",
       "       ' rESeArCH sCientIST  -  Research & Development ',\n",
       "       ' healTHCAre rePREseNtATiVE  -  Research & Development ',\n",
       "       ' mANaGer  -  Research & Development ',\n",
       "       ' HEAltHCaRe REPreseNTatIve  -  Research & Development ',\n",
       "       ' SaLeS eXECUTivE  -  Sales ',\n",
       "       ' reSeARCH SCIEnTiST  -  Research & Development ',\n",
       "       ' ReSearch DiRecTOR  -  Research & Development ',\n",
       "       ' resEaRCh SciEnTist  -  Research & Development ',\n",
       "       ' hUmaN REsoUrCes  -  Human Resources ',\n",
       "       ' manAgER  -  Research & Development ',\n",
       "       ' SaLES eXeCUtIVE  -  Sales ',\n",
       "       ' reSEarCH scIentISt  -  Research & Development ',\n",
       "       ' ReSeARCh DiRECtor  -  Research & Development ',\n",
       "       ' MaNAgeR  -  Sales ',\n",
       "       ' RESEArCH sCIenTIst  -  Research & Development ',\n",
       "       ' hUMAn reSoUrCES  -  Human Resources ',\n",
       "       ' HUmAN rESOuRceS  -  Human Resources ',\n",
       "       ' SaleS EXeCuTivE  -  Sales ',\n",
       "       ' ReSeARch scIENTISt  -  Research & Development ',\n",
       "       ' LaBoRaTorY TeChNicIAn  -  Research & Development ',\n",
       "       ' ManUfaCTUriNg dIReCtor  -  Research & Development ',\n",
       "       ' saLES ExECuTIVe  -  Sales ',\n",
       "       ' RESEaRch SCIEntISt  -  Research & Development ',\n",
       "       ' mAnUFaCtUrinG diReCtor  -  Research & Development ',\n",
       "       ' maNUFAcTURING direCTOr  -  Research & Development ',\n",
       "       ' labOraTORy techNicIan  -  Research & Development ',\n",
       "       ' SAlEs ExeCUtive  -  Sales ',\n",
       "       ' MANUFACturING DIRecToR  -  Research & Development ',\n",
       "       ' Sales eXECuTIvE  -  Sales ',\n",
       "       ' mANUfaCTuRiNG DiRECtOr  -  Research & Development ',\n",
       "       ' ManUFACtURiNg DiRECTOr  -  Research & Development ',\n",
       "       ' ResEARcH DiReCToR  -  Research & Development ',\n",
       "       ' MANAgER  -  Research & Development ',\n",
       "       ' labORATORY TechnIcIaN  -  Research & Development ',\n",
       "       ' MaNUfacTurINg DiReCTor  -  Research & Development ',\n",
       "       ' ReSEaRcH sciENTIST  -  Research & Development ',\n",
       "       ' rESEARCh dIrEcTOr  -  Research & Development ',\n",
       "       ' MANUfACTuRinG diRecTOR  -  Research & Development ',\n",
       "       ' HeaLThCArE REpRESENTAtIVe  -  Research & Development ',\n",
       "       ' LABOraTory TecHnIciaN  -  Research & Development ',\n",
       "       ' sales rEprESEntAtIvE  -  Sales ',\n",
       "       ' mANuFacTurinG DirECtoR  -  Research & Development ',\n",
       "       ' lABorATOrY TeChnICIan  -  Research & Development ',\n",
       "       ' RESEarCh SCIEnTiST  -  Research & Development ',\n",
       "       ' SALes exEcuTIVe  -  Sales ',\n",
       "       ' REseARCH DirectOr  -  Research & Development ',\n",
       "       ' sAlES EXEcUtIVe  -  Sales ',\n",
       "       ' lABoraToRY teCHnIcIaN  -  Research & Development ',\n",
       "       ' LaBorATORy tEChnICiaN  -  Research & Development ',\n",
       "       ' sales ExecutIvE  -  Sales ', ' sAles exECUtiVe  -  Sales ',\n",
       "       ' SALEs eXecuTiVE  -  Sales ', ' SaleS executIVE  -  Sales ',\n",
       "       ' rEsEArCH sCIeNTIST  -  Research & Development ',\n",
       "       ' reSEArch SCIEntIsT  -  Research & Development ',\n",
       "       ' rESeArCh DIrEctor  -  Research & Development ',\n",
       "       ' saLES ExECUtiVe  -  Sales ',\n",
       "       ' LaboRATory tEchNICIAn  -  Research & Development ',\n",
       "       ' SAlEs exECUtIVe  -  Sales ', ' salEs eXECuTivE  -  Sales ',\n",
       "       ' ReseaRch scIenTisT  -  Research & Development ',\n",
       "       ' LaBoraTORY teCHNiCIaN  -  Research & Development ',\n",
       "       ' sALEs ExeCuTive  -  Sales ',\n",
       "       ' heALtHCARE rePResENtAtivE  -  Research & Development ',\n",
       "       ' ManAgEr  -  Research & Development ',\n",
       "       ' laboRAtORy TecHnICiAN  -  Research & Development ',\n",
       "       ' ReSeARCH diRECtoR  -  Research & Development ',\n",
       "       ' LAborAtOry TEchniCIAn  -  Research & Development ',\n",
       "       ' SaLeS eXECutiVE  -  Sales ', ' SalEs eXECuTive  -  Sales ',\n",
       "       ' rESeaRCH DIReCToR  -  Research & Development ',\n",
       "       ' mANAGeR  -  Human Resources ', ' saLeS exECUtive  -  Sales ',\n",
       "       ' maNuFAcTURInG DIReCtoR  -  Research & Development ',\n",
       "       ' LABORaTorY TEChNIcIAN  -  Research & Development ',\n",
       "       ' hEalTHcARe RePrEseNTATive  -  Research & Development ',\n",
       "       ' mANuFActuring DireCtOR  -  Research & Development ',\n",
       "       ' MaNagEr  -  Research & Development ',\n",
       "       ' SaLeS exeCuTIVe  -  Sales ',\n",
       "       ' lAboRaTory tECHNIciAN  -  Research & Development ',\n",
       "       ' saLes eXECUTIVe  -  Sales ', ' saLes EXEcuTiVe  -  Sales ',\n",
       "       ' mAnaGeR  -  Research & Development ',\n",
       "       ' HEALThCaRe rePResEnTaTivE  -  Research & Development ',\n",
       "       ' mAnAgEr  -  Research & Development ',\n",
       "       ' MaNageR  -  Research & Development ',\n",
       "       ' HeAlThCarE rEpreSentatiVe  -  Research & Development ',\n",
       "       ' HUMAN ResoURCeS  -  Human Resources ',\n",
       "       ' huMAn ResOurces  -  Human Resources ',\n",
       "       ' mANUfacTURiNG dIRectOR  -  Research & Development ',\n",
       "       ' saLES eXEcUTiVE  -  Sales ',\n",
       "       ' labORaTORY teChNIcIaN  -  Research & Development ',\n",
       "       ' saLes eXeCUTivE  -  Sales ', ' Sales exECutIVE  -  Sales ',\n",
       "       ' saleS eXEcuTIvE  -  Sales ', ' SALes ExeCUtive  -  Sales ',\n",
       "       ' reSearCH SCieNtIst  -  Research & Development ',\n",
       "       ' HEALThcaRe RePresENtaTiVE  -  Research & Development ',\n",
       "       ' rEsEARch sCientIST  -  Research & Development ',\n",
       "       ' HealthcARE RePreSENtAtiVe  -  Research & Development ',\n",
       "       ' ResEArch ScieNTiST  -  Research & Development ',\n",
       "       ' labORaTORy TecHniciAN  -  Research & Development ',\n",
       "       ' SalEs exECUTIvE  -  Sales ',\n",
       "       ' LabOrATory TEChNICiaN  -  Research & Development ',\n",
       "       ' reSeArcH scieNtist  -  Research & Development ',\n",
       "       ' maNuFAcTUring DIrecToR  -  Research & Development ',\n",
       "       ' ResEARCh DIRECtoR  -  Research & Development ',\n",
       "       ' SaLes exECutIVe  -  Sales ', ' SAleS eXecuTIVe  -  Sales ',\n",
       "       ' manAGER  -  Sales ',\n",
       "       ' LaBOrATORy teCHnIciaN  -  Research & Development ',\n",
       "       ' SAlES ExecuTIVe  -  Sales ', ' salES exEcUtiVE  -  Sales ',\n",
       "       ' SAlEs ExECUTIVe  -  Sales ',\n",
       "       ' HEaLTHcaRE rePReseNtaTIvE  -  Research & Development ',\n",
       "       ' sAles eXEcUtIve  -  Sales ',\n",
       "       ' laBoraTorY tEChnICiaN  -  Research & Development ',\n",
       "       ' MANufacTURIng diREcTOr  -  Research & Development ',\n",
       "       ' REsearch scIENtist  -  Research & Development ',\n",
       "       ' heaLtHcARe RePReSENtaTIve  -  Research & Development ',\n",
       "       ' lAbOrAtorY techNiCiaN  -  Research & Development ',\n",
       "       ' laboRaTOrY TEchniCIaN  -  Research & Development ',\n",
       "       ' SAles ExECutIvE  -  Sales ',\n",
       "       ' HeALtHCarE represEntAtIVe  -  Research & Development ',\n",
       "       ' HEalThCaRe rEpReSENtatIVe  -  Research & Development ',\n",
       "       ' HEalTHCare REPrEsEntATiVE  -  Research & Development ',\n",
       "       ' LaBoRaToRY TEcHnIcian  -  Research & Development ',\n",
       "       ' SAlES ExecutIve  -  Sales ',\n",
       "       ' LaBOrAtory TECHNIciAN  -  Research & Development ',\n",
       "       ' ReSeArch scIenTIsT  -  Research & Development ',\n",
       "       ' SaLEs EXECutIVe  -  Sales ',\n",
       "       ' rESEARch DiRector  -  Research & Development ',\n",
       "       ' HEaltHcare rEPrEsEnTatIVe  -  Research & Development ',\n",
       "       ' lABORatORY TeChNiCiAN  -  Research & Development ',\n",
       "       ' LaBOratory TeChnICiAn  -  Research & Development ',\n",
       "       ' maNAGer  -  Sales ', ' hUMAn rEsOuRCES  -  Human Resources ',\n",
       "       ' sales ExeCUTiVE  -  Sales ', ' saLEs exeCUtiVe  -  Sales ',\n",
       "       ' laBorAtORy TECHnicIaN  -  Research & Development ',\n",
       "       ' ReSeaRch SCIEnTiSt  -  Research & Development ',\n",
       "       ' rEsEArcH scIenTIst  -  Research & Development ',\n",
       "       ' RESeArch dIREcToR  -  Research & Development ',\n",
       "       ' saLes ExECutIVE  -  Sales ',\n",
       "       ' REseARCh SCIenTIst  -  Research & Development ',\n",
       "       ' sALEs exECuTiVe  -  Sales ',\n",
       "       ' rEseArCh SCieNtiST  -  Research & Development ',\n",
       "       ' lABoRAtoRY TecHnIcian  -  Research & Development ',\n",
       "       ' researcH SciEntIST  -  Research & Development ',\n",
       "       ' REseARCH ScIeNTIST  -  Research & Development ',\n",
       "       ' sAles ExecUtive  -  Sales ',\n",
       "       ' mAnUfaCTuRing DiRecTor  -  Research & Development ',\n",
       "       ' SaLes exEcUtIvE  -  Sales ',\n",
       "       ' ReseArCH scIenTIst  -  Research & Development ',\n",
       "       ' ReseArch sCienTiST  -  Research & Development ',\n",
       "       ' ReSEarcH SCiEnTISt  -  Research & Development ',\n",
       "       ' laBORATORY tECHNiciAN  -  Research & Development ',\n",
       "       ' rESeArCH sCIeNtISt  -  Research & Development ',\n",
       "       ' humAN resoURCEs  -  Human Resources ',\n",
       "       ' REseARCh scieNTIsT  -  Research & Development ',\n",
       "       ' SaLeS REPRESENtATIvE  -  Sales ',\n",
       "       ' ResEArch SciEntiST  -  Research & Development ',\n",
       "       ' ReSEaRCh SCIEnTist  -  Research & Development ',\n",
       "       ' hUmAn REsOurCES  -  Human Resources ',\n",
       "       ' sALeS EXecuTIVe  -  Sales ',\n",
       "       ' ReseArCh SciENTIsT  -  Research & Development ',\n",
       "       ' sALes rEprESentAtIvE  -  Sales ',\n",
       "       ' humaN reSOUrcEs  -  Human Resources ',\n",
       "       ' lAboRatOrY TechNiCiAn  -  Research & Development ',\n",
       "       ' HeAlthcaRE rEPrEseNTaTIVE  -  Research & Development ',\n",
       "       ' sALeS eXecuTIvE  -  Sales ', ' SALeS RepREsEnTatiVe  -  Sales ',\n",
       "       ' SaLes rePrESENTaTivE  -  Sales ',\n",
       "       ' rESEaRch sCientISt  -  Research & Development ',\n",
       "       ' laBORatoRy TEcHnician  -  Research & Development ',\n",
       "       ' ReSeaRch SCIentiST  -  Research & Development ',\n",
       "       ' RESEarch ScieNtIst  -  Research & Development ',\n",
       "       ' sALeS RePresenTAtivE  -  Sales ',\n",
       "       ' LABORAToRy tEchNICiAn  -  Research & Development ',\n",
       "       ' ResEArch sCIEnTiST  -  Research & Development ',\n",
       "       ' ReSEArcH sCIeNtist  -  Research & Development ',\n",
       "       ' LaBoRaTory techNICIAN  -  Research & Development ',\n",
       "       ' hEaLThcARE rEpresEntATiVE  -  Research & Development ',\n",
       "       ' mANufActuRIng DirECTOR  -  Research & Development ',\n",
       "       ' laBOraTOrY TecHNIcIan  -  Research & Development ',\n",
       "       ' sALES ReprEsentatiVE  -  Sales ',\n",
       "       ' laBoRatoRy TEChNICiAN  -  Research & Development ',\n",
       "       ' ReSEarch scIeNTIsT  -  Research & Development ',\n",
       "       ' researCh SCientIsT  -  Research & Development ',\n",
       "       ' ReseaRch scIENTisT  -  Research & Development ',\n",
       "       ' lAboRaToRY teChNICIan  -  Research & Development ',\n",
       "       ' rEsEaRCh diReCtOR  -  Research & Development ',\n",
       "       ' labORAtoRy tEcHNICIAN  -  Research & Development ',\n",
       "       ' SAlES exeCutive  -  Sales ',\n",
       "       ' hEalthCaRe reprEseNTaTiVe  -  Research & Development ',\n",
       "       ' ManufacTURInG DIRECtOR  -  Research & Development ',\n",
       "       ' sAles exEcUtIve  -  Sales ',\n",
       "       ' reseARCh SCieNTisT  -  Research & Development ',\n",
       "       ' reSEarcH scIENtISt  -  Research & Development ',\n",
       "       ' reseArCH scIentISt  -  Research & Development ',\n",
       "       ' MANuFaCturiNG dIRECTOR  -  Research & Development ',\n",
       "       ' HuMan resoUrCes  -  Human Resources ',\n",
       "       ' huMAn Resources  -  Human Resources ',\n",
       "       ' Sales EXEcUTiVe  -  Sales ',\n",
       "       ' reSEaRCH scIenTisT  -  Research & Development ',\n",
       "       ' sales rEpRESEnTatIve  -  Sales ',\n",
       "       ' reseaRch DIrecTOr  -  Research & Development ',\n",
       "       ' sALeS eXECutivE  -  Sales ',\n",
       "       ' Human REsouRCeS  -  Human Resources ',\n",
       "       ' rESeArcH sCientIST  -  Research & Development ',\n",
       "       ' SAlES RepreSENtATiVe  -  Sales ', ' SAles execUTIve  -  Sales ',\n",
       "       ' RESEArch SCIEnTISt  -  Research & Development ',\n",
       "       ' labOrATOry TEchnIcIaN  -  Research & Development ',\n",
       "       ' sALes ExEcUTIVe  -  Sales ',\n",
       "       ' REsEARch sCIenTIsT  -  Research & Development ',\n",
       "       ' RESeARch ScIeNtisT  -  Research & Development ',\n",
       "       ' rEseARCH ScIeNtIST  -  Research & Development ',\n",
       "       ' ManAGEr  -  Research & Development ',\n",
       "       ' LaBoratory TECHnICIAn  -  Research & Development ',\n",
       "       ' saLES exEcutivE  -  Sales ',\n",
       "       ' LABorATory TecHnIcIaN  -  Research & Development ',\n",
       "       ' HumAN REsourceS  -  Human Resources ',\n",
       "       ' reseaRCh SCIentIst  -  Research & Development ',\n",
       "       ' LaBOrAToRy teChNiciAn  -  Research & Development ',\n",
       "       ' LaborAtorY Technician  -  Research & Development ',\n",
       "       ' rEseaRCH sCIeNtiSt  -  Research & Development ',\n",
       "       ' LABOrATOrY TEchnIcIAn  -  Research & Development ',\n",
       "       ' ReSeARCh DireCtOr  -  Research & Development ',\n",
       "       ' LaBORatORy tEchNiCian  -  Research & Development ',\n",
       "       ' laBorATOrY TeChNIcIAn  -  Research & Development ',\n",
       "       ' sALEs RePREsentaTive  -  Sales ', ' mAnageR  -  Sales ',\n",
       "       ' rESEArcH SCiEntIst  -  Research & Development ',\n",
       "       ' heAlThcaRe REprESeNTATive  -  Research & Development ',\n",
       "       ' LABoratOry TeCHnIcIan  -  Research & Development ',\n",
       "       ' hEAlthCarE rEpresenTATiVe  -  Research & Development ',\n",
       "       ' HealTHcaRE rEPreSEntATive  -  Research & Development ',\n",
       "       ' MaNUfActuRInG diREctOr  -  Research & Development ',\n",
       "       ' saLes REPrEsentAtiVE  -  Sales ',\n",
       "       ' LABorAtORy TEchnIciAn  -  Research & Development ',\n",
       "       ' rEsEARcH ScieNTisT  -  Research & Development ',\n",
       "       ' SalEs eXecuTive  -  Sales ', ' SaLeS EXEcUTiVe  -  Sales ',\n",
       "       ' MaNufacTuRINg DirEcTor  -  Research & Development ',\n",
       "       ' resEaRcH scIENTiSt  -  Research & Development ',\n",
       "       ' SALes eXECuTIvE  -  Sales ',\n",
       "       ' LabORatORy tEChnIcIAn  -  Research & Development ',\n",
       "       ' LaBorAtOrY teCHNICIAn  -  Research & Development ',\n",
       "       ' saLEs RePREsentAtiVE  -  Sales ',\n",
       "       ' laBOrATORY TechNiCiAn  -  Research & Development ',\n",
       "       ' sALes exECutIVe  -  Sales ',\n",
       "       ' LabOraToRy technICiAN  -  Research & Development ',\n",
       "       ' lAborAtORY TeCHNIciAN  -  Research & Development ',\n",
       "       ' SAlES rePrESentaTIVe  -  Sales ',\n",
       "       ' mANager  -  Research & Development ',\n",
       "       ' HEAlThcARe rEPREseNtATIVe  -  Research & Development ',\n",
       "       ' REsEArCH dIrECTOr  -  Research & Development ',\n",
       "       ' rESeaRch SCIeNTIST  -  Research & Development ',\n",
       "       ' SALEs REpRESentatIve  -  Sales ', ' SalES eXecUTiVE  -  Sales ',\n",
       "       ' SaLes REPREseNtATive  -  Sales ',\n",
       "       ' ReSeArch sCIEnTiSt  -  Research & Development ',\n",
       "       ' sales REPReSeNtAtIVe  -  Sales ', ' sAles execUtIve  -  Sales ',\n",
       "       ' LABOrATORy tEChNiCIaN  -  Research & Development ',\n",
       "       ' hEalthCarE REPResEnTaTive  -  Research & Development ',\n",
       "       ' mANagER  -  Research & Development ',\n",
       "       ' sales repResENTaTiVE  -  Sales ',\n",
       "       ' laboRAToRY tEChniCIAN  -  Research & Development ',\n",
       "       ' resEaRcH sCIeNTisT  -  Research & Development ',\n",
       "       ' maNuFAcTurING diREctOr  -  Research & Development ',\n",
       "       ' mAnAger  -  Research & Development ',\n",
       "       ' SALes eXEcUtiVe  -  Sales ',\n",
       "       ' reSearCh SCiEnTist  -  Research & Development ',\n",
       "       ' rESEARch SciENtiSt  -  Research & Development ',\n",
       "       ' hUman ResourCeS  -  Human Resources ',\n",
       "       ' SALES exeCUtIve  -  Sales ',\n",
       "       ' ReseaRcH sCientiSt  -  Research & Development ',\n",
       "       ' LAbORaTory tEcHnIciAN  -  Research & Development ',\n",
       "       ' lABOraTOrY tecHniciaN  -  Research & Development ',\n",
       "       ' sALeS exEcUtiVe  -  Sales ', ' salEs eXEcuTIvE  -  Sales ',\n",
       "       ' SAleS ExEcuTiVE  -  Sales ', ' SaLeS exEcUTiVE  -  Sales ',\n",
       "       ' ReSEArch scieNTiST  -  Research & Development ',\n",
       "       ' reSEArCh sCieNtiST  -  Research & Development ',\n",
       "       ' ReseaRCh dIRecTor  -  Research & Development ',\n",
       "       ' SaLEs ExECUtiVE  -  Sales ',\n",
       "       ' LAbORAToRy tEcHNICian  -  Research & Development ',\n",
       "       ' sAleS EXECUtIvE  -  Sales '], dtype=object)"
      ]
     },
     "metadata": {},
     "output_type": "display_data"
    },
    {
     "name": "stdout",
     "output_type": "stream",
     "text": [
      "\n",
      "Value Counts:\n"
     ]
    },
    {
     "data": {
      "text/plain": [
       "RoleDepartament\n",
       "MaNAgeR  -  Sales                                        2\n",
       "Sales ExECuTIVe  -  Sales                                1\n",
       "heALthCArE RePResEntaTIVe  -  Research & Development     1\n",
       "lABORAtOry tECHnIcIan  -  Research & Development         1\n",
       "ManufactUrINg DiReCTOr  -  Research & Development        1\n",
       "                                                        ..\n",
       "ManUFACtURiNg DiRECTOr  -  Research & Development        1\n",
       "ResEARcH DiReCToR  -  Research & Development             1\n",
       "MANAgER  -  Research & Development                       1\n",
       "labORATORY TechnIcIaN  -  Research & Development         1\n",
       "heaLtHcArE repResENtATiVe  -  Research & Development     1\n",
       "Name: count, Length: 301, dtype: int64"
      ]
     },
     "metadata": {},
     "output_type": "display_data"
    },
    {
     "name": "stdout",
     "output_type": "stream",
     "text": [
      "\n",
      "Most frequent value (mode):\n"
     ]
    },
    {
     "data": {
      "text/plain": [
       "' MaNAgeR  -  Sales '"
      ]
     },
     "metadata": {},
     "output_type": "display_data"
    },
    {
     "name": "stdout",
     "output_type": "stream",
     "text": [
      "\n",
      "Count of duplicates in the column:\n"
     ]
    },
    {
     "data": {
      "text/plain": [
       "np.int64(1312)"
      ]
     },
     "metadata": {},
     "output_type": "display_data"
    },
    {
     "name": "stdout",
     "output_type": "stream",
     "text": [
      "\n",
      "Exploration of the column: NUMBERCHILDREN\n",
      "\n",
      "Statistical description (numeric):\n"
     ]
    },
    {
     "data": {
      "text/plain": [
       "count    0.0\n",
       "mean     NaN\n",
       "std      NaN\n",
       "min      NaN\n",
       "25%      NaN\n",
       "50%      NaN\n",
       "75%      NaN\n",
       "max      NaN\n",
       "Name: NUMBERCHILDREN, dtype: float64"
      ]
     },
     "metadata": {},
     "output_type": "display_data"
    },
    {
     "name": "stdout",
     "output_type": "stream",
     "text": [
      "\n",
      "Count of null values:\n"
     ]
    },
    {
     "data": {
      "text/plain": [
       "np.int64(1614)"
      ]
     },
     "metadata": {},
     "output_type": "display_data"
    },
    {
     "name": "stdout",
     "output_type": "stream",
     "text": [
      "\n",
      "Count of unique values:\n"
     ]
    },
    {
     "data": {
      "text/plain": [
       "0"
      ]
     },
     "metadata": {},
     "output_type": "display_data"
    },
    {
     "name": "stdout",
     "output_type": "stream",
     "text": [
      "\n",
      "Unique values:\n"
     ]
    },
    {
     "data": {
      "text/plain": [
       "array([nan])"
      ]
     },
     "metadata": {},
     "output_type": "display_data"
    },
    {
     "name": "stdout",
     "output_type": "stream",
     "text": [
      "\n",
      "Value Counts:\n"
     ]
    },
    {
     "data": {
      "text/plain": [
       "Series([], Name: count, dtype: int64)"
      ]
     },
     "metadata": {},
     "output_type": "display_data"
    },
    {
     "name": "stdout",
     "output_type": "stream",
     "text": [
      "\n",
      "Most frequent value (mode):\n"
     ]
    },
    {
     "ename": "IndexError",
     "evalue": "single positional indexer is out-of-bounds",
     "output_type": "error",
     "traceback": [
      "\u001b[0;31m---------------------------------------------------------------------------\u001b[0m",
      "\u001b[0;31mIndexError\u001b[0m                                Traceback (most recent call last)",
      "Cell \u001b[0;32mIn[4], line 2\u001b[0m\n\u001b[1;32m      1\u001b[0m \u001b[38;5;28;01mfor\u001b[39;00m col \u001b[38;5;129;01min\u001b[39;00m df\u001b[38;5;241m.\u001b[39mcolumns:\n\u001b[0;32m----> 2\u001b[0m     \u001b[43meda\u001b[49m\u001b[38;5;241;43m.\u001b[39;49m\u001b[43mexplo_df\u001b[49m\u001b[43m(\u001b[49m\u001b[43mdf\u001b[49m\u001b[43m,\u001b[49m\u001b[43m \u001b[49m\u001b[43mcolumn\u001b[49m\u001b[38;5;241;43m=\u001b[39;49m\u001b[43mcol\u001b[49m\u001b[43m)\u001b[49m \n",
      "File \u001b[0;32m~/Desktop/ADALAB/Modulo3/TeamProject/People-Analytics/Exploratory_Data_Analysis/auto_eda.py:91\u001b[0m, in \u001b[0;36mAutoEDA.explo_df\u001b[0;34m(self, df, column)\u001b[0m\n\u001b[1;32m     89\u001b[0m display(df[col]\u001b[38;5;241m.\u001b[39mvalue_counts())\n\u001b[1;32m     90\u001b[0m \u001b[38;5;28mprint\u001b[39m(\u001b[38;5;124m\"\u001b[39m\u001b[38;5;130;01m\\n\u001b[39;00m\u001b[38;5;124mMost frequent value (mode):\u001b[39m\u001b[38;5;124m\"\u001b[39m)\n\u001b[0;32m---> 91\u001b[0m display(\u001b[43mdf\u001b[49m\u001b[43m[\u001b[49m\u001b[43mcol\u001b[49m\u001b[43m]\u001b[49m\u001b[38;5;241;43m.\u001b[39;49m\u001b[43mmode\u001b[49m\u001b[43m(\u001b[49m\u001b[43m)\u001b[49m\u001b[38;5;241;43m.\u001b[39;49m\u001b[43miloc\u001b[49m\u001b[43m[\u001b[49m\u001b[38;5;241;43m0\u001b[39;49m\u001b[43m]\u001b[49m)\n\u001b[1;32m     92\u001b[0m \u001b[38;5;28mprint\u001b[39m(\u001b[38;5;124m\"\u001b[39m\u001b[38;5;130;01m\\n\u001b[39;00m\u001b[38;5;124mCount of duplicates in the column:\u001b[39m\u001b[38;5;124m\"\u001b[39m)\n\u001b[1;32m     93\u001b[0m display(df\u001b[38;5;241m.\u001b[39mduplicated(subset\u001b[38;5;241m=\u001b[39m[col])\u001b[38;5;241m.\u001b[39msum())\n",
      "File \u001b[0;32m~/Library/Python/3.9/lib/python/site-packages/pandas/core/indexing.py:1191\u001b[0m, in \u001b[0;36m_LocationIndexer.__getitem__\u001b[0;34m(self, key)\u001b[0m\n\u001b[1;32m   1189\u001b[0m maybe_callable \u001b[38;5;241m=\u001b[39m com\u001b[38;5;241m.\u001b[39mapply_if_callable(key, \u001b[38;5;28mself\u001b[39m\u001b[38;5;241m.\u001b[39mobj)\n\u001b[1;32m   1190\u001b[0m maybe_callable \u001b[38;5;241m=\u001b[39m \u001b[38;5;28mself\u001b[39m\u001b[38;5;241m.\u001b[39m_check_deprecated_callable_usage(key, maybe_callable)\n\u001b[0;32m-> 1191\u001b[0m \u001b[38;5;28;01mreturn\u001b[39;00m \u001b[38;5;28;43mself\u001b[39;49m\u001b[38;5;241;43m.\u001b[39;49m\u001b[43m_getitem_axis\u001b[49m\u001b[43m(\u001b[49m\u001b[43mmaybe_callable\u001b[49m\u001b[43m,\u001b[49m\u001b[43m \u001b[49m\u001b[43maxis\u001b[49m\u001b[38;5;241;43m=\u001b[39;49m\u001b[43maxis\u001b[49m\u001b[43m)\u001b[49m\n",
      "File \u001b[0;32m~/Library/Python/3.9/lib/python/site-packages/pandas/core/indexing.py:1752\u001b[0m, in \u001b[0;36m_iLocIndexer._getitem_axis\u001b[0;34m(self, key, axis)\u001b[0m\n\u001b[1;32m   1749\u001b[0m     \u001b[38;5;28;01mraise\u001b[39;00m \u001b[38;5;167;01mTypeError\u001b[39;00m(\u001b[38;5;124m\"\u001b[39m\u001b[38;5;124mCannot index by location index with a non-integer key\u001b[39m\u001b[38;5;124m\"\u001b[39m)\n\u001b[1;32m   1751\u001b[0m \u001b[38;5;66;03m# validate the location\u001b[39;00m\n\u001b[0;32m-> 1752\u001b[0m \u001b[38;5;28;43mself\u001b[39;49m\u001b[38;5;241;43m.\u001b[39;49m\u001b[43m_validate_integer\u001b[49m\u001b[43m(\u001b[49m\u001b[43mkey\u001b[49m\u001b[43m,\u001b[49m\u001b[43m \u001b[49m\u001b[43maxis\u001b[49m\u001b[43m)\u001b[49m\n\u001b[1;32m   1754\u001b[0m \u001b[38;5;28;01mreturn\u001b[39;00m \u001b[38;5;28mself\u001b[39m\u001b[38;5;241m.\u001b[39mobj\u001b[38;5;241m.\u001b[39m_ixs(key, axis\u001b[38;5;241m=\u001b[39maxis)\n",
      "File \u001b[0;32m~/Library/Python/3.9/lib/python/site-packages/pandas/core/indexing.py:1685\u001b[0m, in \u001b[0;36m_iLocIndexer._validate_integer\u001b[0;34m(self, key, axis)\u001b[0m\n\u001b[1;32m   1683\u001b[0m len_axis \u001b[38;5;241m=\u001b[39m \u001b[38;5;28mlen\u001b[39m(\u001b[38;5;28mself\u001b[39m\u001b[38;5;241m.\u001b[39mobj\u001b[38;5;241m.\u001b[39m_get_axis(axis))\n\u001b[1;32m   1684\u001b[0m \u001b[38;5;28;01mif\u001b[39;00m key \u001b[38;5;241m>\u001b[39m\u001b[38;5;241m=\u001b[39m len_axis \u001b[38;5;129;01mor\u001b[39;00m key \u001b[38;5;241m<\u001b[39m \u001b[38;5;241m-\u001b[39mlen_axis:\n\u001b[0;32m-> 1685\u001b[0m     \u001b[38;5;28;01mraise\u001b[39;00m \u001b[38;5;167;01mIndexError\u001b[39;00m(\u001b[38;5;124m\"\u001b[39m\u001b[38;5;124msingle positional indexer is out-of-bounds\u001b[39m\u001b[38;5;124m\"\u001b[39m)\n",
      "\u001b[0;31mIndexError\u001b[0m: single positional indexer is out-of-bounds"
     ]
    }
   ],
   "source": [
    "for col in df.columns:\n",
    "    eda.explo_df(df, column=col) "
   ]
  },
  {
   "cell_type": "markdown",
   "metadata": {},
   "source": [
    "# NOTES / PREVIOUS CODES"
   ]
  },
  {
   "cell_type": "code",
   "execution_count": 8,
   "metadata": {},
   "outputs": [],
   "source": [
    "def eda_summary(data):\n",
    "    indexes = list(data.columns)\n",
    "    cols = ['dtype', 'not_null_count', 'null_count', 'null_percent', 'duplicates', 'unique', 'top', 'freq', 'mean', 'std', 'min', 'max', '25%', '50%', '75%', 'description']\n",
    "\n",
    "    data_eda = pd.DataFrame(index=indexes, columns=cols)\n",
    "\n",
    "    descriptions = {\n",
    "        'Age': 'La edad del empleado.',\n",
    "        'Attrition': 'Indica si el empleado ha dejado la empresa (\"No\" significa que no ha dejado la empresa y \"Yes\" significa que ha dejado la empresa).',\n",
    "        'BusinessTravel': 'Describe la frecuencia de los viajes relacionados con el trabajo del empleado (por ejemplo, \"Travel_Rarely\" para raramente).',\n",
    "        'DailyRate': 'La tarifa diaria del empleado.',\n",
    "        'Department': 'El departamento en el que trabaja el empleado (por ejemplo, \"Research & Development\", \"Sales\", etc.).',\n",
    "        'DistanceFromHome': 'La distancia desde el hogar del empleado hasta su lugar de trabajo.',\n",
    "        'Education': 'Nivel de educación del empleado (generalmente en una escala del 1 al 5).',\n",
    "        'EducationField': 'El campo de educación del empleado.',\n",
    "        'employeecount': 'Un contador que generalmente es 1 y se usa para contar empleados.',\n",
    "        'employeenumber': 'Un número de identificación único para el empleado.',\n",
    "        'EnvironmentSatisfaction': 'Nivel de satisfacción del empleado en relación con su entorno de trabajo. Con valores que estan comprendidos entre el 1 y el 4, siendo el 4 el nivel de máxima satisfacción.',\n",
    "        'Gender': 'El género del empleado. Donde 0 corresponde con \"hombre\" y 1 con \"mujer\".',\n",
    "        'HourlyRate': 'La tarifa por hora del empleado.',\n",
    "        'JobInvolvement': 'Nivel de implicación del empleado en su trabajo.',\n",
    "        'JobLevel': 'Nivel jerárquico del empleado en la empresa.',\n",
    "        'JobRole': 'El rol o puesto de trabajo del empleado.',\n",
    "        'JobSatisfaction': 'Nivel de satisfacción del empleado con su trabajo.',\n",
    "        'MaritalStatus': 'El estado civil del empleado (por ejemplo, \"Single\", \"Married\", etc.).',\n",
    "        'MonthlyIncome': 'Ingresos mensuales del empleado.',\n",
    "        'MonthlyRate': 'Tasa mensual del empleado.',\n",
    "        'NUMCOMPANIESWORKED': 'Número de compañías en las que el empleado ha trabajado.',\n",
    "        'Over18': 'Indica si el empleado es mayor de 18 años.',\n",
    "        'OverTime': 'Indica si el empleado trabaja horas extras (\"Yes\" para sí o \"No\" para no).',\n",
    "        'PercentSalaryHike': 'El porcentaje de aumento salarial del empleado.',\n",
    "        'PerformanceRating': 'Calificación de rendimiento del empleado.',\n",
    "        'RelationshipSatisfaction': 'Nivel de satisfacción en las relaciones interpersonales del empleado.',\n",
    "        'StandardHours': 'Las horas estándar de trabajo.',\n",
    "        'StockOptionLevel': 'Nivel de opciones de compra de acciones del empleado.',\n",
    "        'TOTALWORKINGYEARS': 'Total de años de experiencia laboral del empleado.',\n",
    "        'TrainingTimesLastYear': 'Número de veces que el empleado recibió capacitación el año pasado.',\n",
    "        'WORKLIFEBALANCE': 'Equilibrio entre trabajo y vida personal del empleado.',\n",
    "        'YearsAtCompany': 'Años que el empleado ha trabajado en la empresa actual.',\n",
    "        'YearsInCurrentRole': 'Años que el empleado ha estado en su puesto actual.',\n",
    "        'YearsSinceLastPromotion': 'Años desde la última promoción del empleado.',\n",
    "        'YEARSWITHCURRMANAGER': 'Años que el empleado ha estado bajo la supervisión del actual gerente.',\n",
    "        'SameAsMonthlyIncome': 'Ingresos mensuales del empleado.',\n",
    "        'DateBirth': 'Año de nacimiento del empleado (teniendo en cuenta que los datos fueron recogidos en el 2023).',\n",
    "        'Salary': 'Salario de los empleados.',\n",
    "        'RoleDepartament': 'El departamento y el rol del empleado.',\n",
    "        'NUMBERCHILDREN': 'Número de hijos de los empleados.',\n",
    "        'RemoteWork': 'Si el empleado puede teletrabajar o no.'\n",
    "    }\n",
    "\n",
    "    for var in indexes:\n",
    "        data_eda.loc[var, 'dtype'] = data[var].dtype\n",
    "        data_eda.loc[var, 'not_null_count'] = data[var].notnull().sum()\n",
    "        data_eda.loc[var, 'null_count'] = data[var].isnull().sum()\n",
    "        data_eda.loc[var, 'null_percent'] = str(round((data[var].isnull().sum() / len(data)) * 100, 2)) + '%'\n",
    "        data_eda.loc[var, 'duplicates'] = data[var].duplicated().sum()\n",
    "        data_eda.loc[var, 'unique'] = data[var].nunique() # if data[var].dtype == 'object' else None\n",
    "        data_eda.loc[var, 'top'] = data[var].mode().iloc[0] if not data[var].mode().empty else None\n",
    "        data_eda.loc[var, 'freq'] = data[var].value_counts().max() if not data[var].mode().empty else None\n",
    "        data_eda.loc[var, 'mean'] = data[var].mean() if data[var].dtype in ['int64', 'float64'] else None\n",
    "        data_eda.loc[var, 'std'] = data[var].std() if data[var].dtype in ['int64', 'float64'] else None\n",
    "        data_eda.loc[var, 'min'] = data[var].min() if data[var].dtype in ['int64', 'float64'] else None\n",
    "        data_eda.loc[var, 'max'] = data[var].max() if data[var].dtype in ['int64', 'float64'] else None\n",
    "        data_eda.loc[var, '25%'] = data[var].quantile(0.25) if data[var].dtype in ['int64', 'float64'] else None\n",
    "        data_eda.loc[var, '50%'] = data[var].median() if data[var].dtype in ['int64', 'float64'] else None\n",
    "        data_eda.loc[var, '75%'] = data[var].quantile(0.75) if data[var].dtype in ['int64', 'float64'] else None\n",
    "        data_eda.loc[var, 'description'] = descriptions.get(var, 'No description available')\n",
    "\n",
    "    return data_eda"
   ]
  },
  {
   "cell_type": "code",
   "execution_count": null,
   "metadata": {},
   "outputs": [],
   "source": [
    "df_initial_eda = eda_summary(df)\n",
    "\n",
    "# Description column left alignment\n",
    "df_initial_eda['description'] = df_initial_eda['description'].apply(lambda x: f'{x:<}')\n",
    "\n",
    "df_initial_eda = df_initial_eda.style.set_table_styles({\n",
    "    'description': [{'selector': '', 'props': [('text-align', 'left')]}]\n",
    "})\n",
    "\n",
    "df_initial_eda = df_initial_eda.set_table_styles({\n",
    "    'description': [{'selector': 'th', 'props': [('text-align', 'left')]}]\n",
    "}, overwrite=False)\n",
    "\n",
    "df_initial_eda"
   ]
  },
  {
   "cell_type": "code",
   "execution_count": 12,
   "metadata": {},
   "outputs": [],
   "source": [
    "df.loc[df['employeenumber'].duplicated(keep=False), :].sort_values(by='employeenumber')"
   ]
  },
  {
   "cell_type": "code",
   "execution_count": 13,
   "metadata": {},
   "outputs": [
    {
     "data": {
      "text/html": [
       "<div>\n",
       "<style scoped>\n",
       "    .dataframe tbody tr th:only-of-type {\n",
       "        vertical-align: middle;\n",
       "    }\n",
       "\n",
       "    .dataframe tbody tr th {\n",
       "        vertical-align: top;\n",
       "    }\n",
       "\n",
       "    .dataframe thead th {\n",
       "        text-align: right;\n",
       "    }\n",
       "</style>\n",
       "<table border=\"1\" class=\"dataframe\">\n",
       "  <thead>\n",
       "    <tr style=\"text-align: right;\">\n",
       "      <th></th>\n",
       "      <th>null_total_qty</th>\n",
       "      <th>null_percent</th>\n",
       "    </tr>\n",
       "  </thead>\n",
       "  <tbody>\n",
       "    <tr>\n",
       "      <th>BusinessTravel</th>\n",
       "      <td>772</td>\n",
       "      <td>47.83%</td>\n",
       "    </tr>\n",
       "    <tr>\n",
       "      <th>Department</th>\n",
       "      <td>1312</td>\n",
       "      <td>81.29%</td>\n",
       "    </tr>\n",
       "    <tr>\n",
       "      <th>EducationField</th>\n",
       "      <td>745</td>\n",
       "      <td>46.16%</td>\n",
       "    </tr>\n",
       "    <tr>\n",
       "      <th>employeenumber</th>\n",
       "      <td>431</td>\n",
       "      <td>26.7%</td>\n",
       "    </tr>\n",
       "    <tr>\n",
       "      <th>MaritalStatus</th>\n",
       "      <td>651</td>\n",
       "      <td>40.33%</td>\n",
       "    </tr>\n",
       "    <tr>\n",
       "      <th>MonthlyIncome</th>\n",
       "      <td>843</td>\n",
       "      <td>52.23%</td>\n",
       "    </tr>\n",
       "    <tr>\n",
       "      <th>Over18</th>\n",
       "      <td>901</td>\n",
       "      <td>55.82%</td>\n",
       "    </tr>\n",
       "    <tr>\n",
       "      <th>OverTime</th>\n",
       "      <td>676</td>\n",
       "      <td>41.88%</td>\n",
       "    </tr>\n",
       "    <tr>\n",
       "      <th>PerformanceRating</th>\n",
       "      <td>195</td>\n",
       "      <td>12.08%</td>\n",
       "    </tr>\n",
       "    <tr>\n",
       "      <th>StandardHours</th>\n",
       "      <td>1195</td>\n",
       "      <td>74.04%</td>\n",
       "    </tr>\n",
       "    <tr>\n",
       "      <th>TOTALWORKINGYEARS</th>\n",
       "      <td>526</td>\n",
       "      <td>32.59%</td>\n",
       "    </tr>\n",
       "    <tr>\n",
       "      <th>WORKLIFEBALANCE</th>\n",
       "      <td>108</td>\n",
       "      <td>6.69%</td>\n",
       "    </tr>\n",
       "    <tr>\n",
       "      <th>YearsInCurrentRole</th>\n",
       "      <td>1580</td>\n",
       "      <td>97.89%</td>\n",
       "    </tr>\n",
       "    <tr>\n",
       "      <th>SameAsMonthlyIncome</th>\n",
       "      <td>843</td>\n",
       "      <td>52.23%</td>\n",
       "    </tr>\n",
       "    <tr>\n",
       "      <th>RoleDepartament</th>\n",
       "      <td>1312</td>\n",
       "      <td>81.29%</td>\n",
       "    </tr>\n",
       "    <tr>\n",
       "      <th>NUMBERCHILDREN</th>\n",
       "      <td>1614</td>\n",
       "      <td>100.0%</td>\n",
       "    </tr>\n",
       "  </tbody>\n",
       "</table>\n",
       "</div>"
      ],
      "text/plain": [
       "                     null_total_qty null_percent\n",
       "BusinessTravel                  772       47.83%\n",
       "Department                     1312       81.29%\n",
       "EducationField                  745       46.16%\n",
       "employeenumber                  431        26.7%\n",
       "MaritalStatus                   651       40.33%\n",
       "MonthlyIncome                   843       52.23%\n",
       "Over18                          901       55.82%\n",
       "OverTime                        676       41.88%\n",
       "PerformanceRating               195       12.08%\n",
       "StandardHours                  1195       74.04%\n",
       "TOTALWORKINGYEARS               526       32.59%\n",
       "WORKLIFEBALANCE                 108        6.69%\n",
       "YearsInCurrentRole             1580       97.89%\n",
       "SameAsMonthlyIncome             843       52.23%\n",
       "RoleDepartament                1312       81.29%\n",
       "NUMBERCHILDREN                 1614       100.0%"
      ]
     },
     "execution_count": 13,
     "metadata": {},
     "output_type": "execute_result"
    }
   ],
   "source": [
    "null_columns = df.isnull().sum()[df.isnull().sum() > 0]\n",
    "null_percent = pd.DataFrame(null_columns, columns=['null_total_qty'])\n",
    "null_percent['null_percent'] = (round((null_percent['null_total_qty'] / 1614) * 100, 2)).apply(lambda x: f\"{x}%\")\n",
    "null_percent"
   ]
  }
 ],
 "metadata": {
  "kernelspec": {
   "display_name": "base",
   "language": "python",
   "name": "python3"
  },
  "language_info": {
   "codemirror_mode": {
    "name": "ipython",
    "version": 3
   },
   "file_extension": ".py",
   "mimetype": "text/x-python",
   "name": "python",
   "nbconvert_exporter": "python",
   "pygments_lexer": "ipython3",
   "version": "3.9.6"
  }
 },
 "nbformat": 4,
 "nbformat_minor": 2
}
