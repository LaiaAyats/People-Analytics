{
 "cells": [
  {
   "cell_type": "markdown",
   "metadata": {},
   "source": [
    "# CONCLUSIONES GESTIÓN DE NULOS\n",
    "\n",
    "BussinesTravel: 47.83%\n",
    "- Segmentación análisis.\n",
    "- Reemplazar valores nulos por distribución aunque la moda sea sifnificativac (Travel_Rarely). El % de nulos es demasiado.\n",
    "\n",
    "Employeenumber: 26.70%\n",
    "- Convertir a INT. Se entiende como un ID de empleado, no tiene sentido que sea float.\n",
    "- Revisar registros duplicados para decidir eliminación: se ha comprobado que los duplicados corresponden al mismo empleado, eliminar el registro más bajo porque se entiende como el menos reciente. \n",
    "- En cuanto a los nulos se podría assignar núm. secuencial negativo para marcar que estos registros necesitan atención posterior? \n",
    "- Mantener? \n",
    "- Marcarlos como Unknown?\n",
    "\n",
    "EducationField: 46.16%\n",
    "- Imputar por moda (life sciences) --> la más sencilla si creemos que la info que nos puede aportar no es muy significativa.\n",
    "- Imputar por distribución --> refleja mejor la distribución real.\n",
    "* En un princio había pensado en correlacionarla con JobRole, pero creo que no es necesario para lo que podemos sacar. \n",
    "\n",
    "MaritalStatus: 40.33%\n",
    "- Corrección de Errores Tipográficos: ('Marreid' y 'divorced').\n",
    "- Imputación con la Moda (Married).\n",
    "ó\n",
    "- Imputación Basada en la Distribución de Frecuencia.\n",
    "\n",
    "MonthlyIncome: 52.23%\n",
    "- Convertir el Formato de Datos: Los valores están en formato de cadena con una coma como separador decimal.\n",
    "- Imputación con grupby? podríamos usar la mediana agrupando por JobRole.\n",
    "\n",
    "Over18: 55.82%\n",
    "- Eliminar columna? hay bastantes nulos, y el resto de valores siempres es Y (yes).  \n",
    "Entendemos que la lógica empresarial determina que todos los empleados deben ser mayores de 18 años.\n",
    "\n",
    "OverTime: 41.88%\n",
    "- Imputar por distribución: la manera más sencilla sería imputar por moda (no), ya que la diferencia es 700/300 aprox, pero dado que la cantidad de valores faltantes es casi la mitad creo que por distribución puede ser mejor. \n",
    "\n",
    "PerformanceRating: 12.08%\n",
    "- Imputar por la moda(3) ya que un 12% no dará un sesgo significativo.\n",
    "\n",
    "TOTALWORKINGYEARS: 32.59%\n",
    "- Cambiar a INT\n",
    "- Imputar calculando mediana.  \n",
    "- También se puede considerar una columna nueva en el caso que valor nulo signifique empleados nuevos. \n",
    "\n",
    "WORKLIFEBALANCE: 6.69 %\n",
    "- Impotar por moda dado el bajo % de nulos.\n",
    "\n",
    "\n",
    "# COLUMNAS A ELIMINAR SEGURO:\n",
    "\n",
    "- Department\n",
    "- YearsInCurrentRole\n",
    "- RoleDepartment\n",
    "- NUmberOfChildren\n",
    "- StandardHours\n",
    "- SameAsMonthlyIncome"
   ]
  }
 ],
 "metadata": {
  "kernelspec": {
   "display_name": "Python 3",
   "language": "python",
   "name": "python3"
  },
  "language_info": {
   "name": "python",
   "version": "3.9.6"
  }
 },
 "nbformat": 4,
 "nbformat_minor": 2
}
