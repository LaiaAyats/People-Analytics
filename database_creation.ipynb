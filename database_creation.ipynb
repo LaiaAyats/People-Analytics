{
 "cells": [
  {
   "cell_type": "code",
   "execution_count": 1,
   "metadata": {},
   "outputs": [],
   "source": [
    "# Imports 📥\n",
    "\n",
    "import mysql.connector\n",
    "from mysql.connector import Error"
   ]
  },
  {
   "cell_type": "code",
   "execution_count": null,
   "metadata": {},
   "outputs": [],
   "source": [
    "\n",
    "class Createdatabase:\n",
    "    def __init__(self, user, password, host, database=None):\n",
    "        self.host = host\n",
    "        self.user = user\n",
    "        self.password = password\n",
    "        self.database = database\n",
    "        self.connection = None\n",
    "        self.cursor = None\n",
    "\n",
    "    def connect(self):\n",
    "        try:\n",
    "            # Establish the connection to the database\n",
    "            self.connection = mysql.connector.connect(\n",
    "                user=self.user,\n",
    "                password=self.password,\n",
    "                host=self.host,\n",
    "                database=self.database\n",
    "            )\n",
    "            # Create the cursor after establishing the connection\n",
    "            self.cursor = self.connection.cursor()\n",
    "            print(\"Connection established successfully\")\n",
    "        except mysql.connector.Error as err:\n",
    "            print(f'Connection error: {err}')\n",
    "\n",
    "    def create_database(self):\n",
    "        try:\n",
    "            # Create the database using the name provided in the init\n",
    "            self.cursor.execute(f\"CREATE DATABASE IF NOT EXISTS {self.database}\")\n",
    "            print(f\"Database '{self.database}' created or already exists.\")\n",
    "            \n",
    "        except mysql.connector.Error as err:\n",
    "            print(f'Error creating database: {err}')\n",
    "         \n",
    "\n",
    "    def create_table(self, create_table_sql):\n",
    "        try:\n",
    "            self.connect()\n",
    "            self.cursor.execute(f\"USE {self.database}\")\n",
    "            self.cursor.execute(create_table_sql)\n",
    "            print(\"Table created successfully.\")\n",
    "        except mysql.connector.Error as err:\n",
    "            print(f\"Error: {err}\")\n",
    "        finally:\n",
    "            self.cursor.close()\n",
    "            self.connection.close()\n",
    "\n",
    "# falta meter ejecutar query\n",
    "\n"
   ]
  },
  {
   "cell_type": "code",
   "execution_count": null,
   "metadata": {},
   "outputs": [],
   "source": [
    "# ▶️ Instantiating a class object 🐣\n",
    "\n",
    "db_hr = Createdatabase(\"user, password, host, database\") # gives parameters to the database\n"
   ]
  },
  {
   "cell_type": "code",
   "execution_count": null,
   "metadata": {},
   "outputs": [],
   "source": [
    "# ▶️ Create the database#  \n",
    "db_hr.create_database()"
   ]
  },
  {
   "cell_type": "code",
   "execution_count": null,
   "metadata": {},
   "outputs": [],
   "source": [
    "# ▶️ Create Table\n",
    "\n",
    "# Define SQL statement for creating a table\n",
    "create_table_sql = \"\"\"\n",
    "CREATE TABLE IF NOT EXISTS employees (\n",
    "    \n",
    ")\n",
    "\"\"\"\n",
    "\n",
    "db_hr.create_table(create_table_sql)"
   ]
  }
 ],
 "metadata": {
  "kernelspec": {
   "display_name": "base",
   "language": "python",
   "name": "python3"
  },
  "language_info": {
   "codemirror_mode": {
    "name": "ipython",
    "version": 3
   },
   "file_extension": ".py",
   "mimetype": "text/x-python",
   "name": "python",
   "nbconvert_exporter": "python",
   "pygments_lexer": "ipython3",
   "version": "3.11.9"
  }
 },
 "nbformat": 4,
 "nbformat_minor": 2
}
