{
 "cells": [
  {
   "cell_type": "code",
   "execution_count": 1,
   "metadata": {},
   "outputs": [],
   "source": [
    "# Imports 📥\n",
    "\n",
    "# Importar librería para la conexión con MySQL\n",
    "# -----------------------------------------------------------------------\n",
    "import mysql.connector\n",
    "from mysql.connector import errorcode\n",
    "\n",
    "\n",
    "# Importar librerías para manipulación y análisis de datos\n",
    "# -----------------------------------------------------------------------\n",
    "import pandas as pd\n",
    "import numpy as np"
   ]
  },
  {
   "cell_type": "code",
   "execution_count": 5,
   "metadata": {},
   "outputs": [],
   "source": [
    "\n",
    "class CreateDatabase:\n",
    "    def __init__(self, user, password, host, database):\n",
    "        self.host = host\n",
    "        self.user = user\n",
    "        self.password = password\n",
    "        self.database = database\n",
    "        self.connection = None\n",
    "        self.cursor = None\n",
    "\n",
    "    def connect(self, database=None):\n",
    "        try:\n",
    "            # Establish the connection to the database\n",
    "            self.connection = mysql.connector.connect(\n",
    "                user=self.user,\n",
    "                password=self.password,\n",
    "                host=self.host,\n",
    "                database=database\n",
    "            )\n",
    "            # Create the cursor after establishing the connection\n",
    "            self.cursor = self.connection.cursor()\n",
    "            print(f\"Connection to database '{database or 'server'}' established successfully\")\n",
    "        except mysql.connector.Error as err:\n",
    "            print(f'Connection error: {err}')\n",
    "\n",
    "    def create_database(self):\n",
    "        try:\n",
    "            # Connect without specifying a database\n",
    "            self.connect(database=None)\n",
    "            # Check the connection status\n",
    "            if self.connection.is_connected():\n",
    "                print(\"Temporary connection to server established for database creation.\")\n",
    "            else:\n",
    "                print(\"Temporary connection to server failed.\")\n",
    "                return\n",
    "\n",
    "            # Create the database using the provided name\n",
    "            self.cursor.execute(f\"CREATE DATABASE IF NOT EXISTS {self.database}\")\n",
    "            print(f\"Database '{self.database}' created or already exists.\")\n",
    "        except mysql.connector.Error as err:\n",
    "            print(f'Error creating database: {err}')\n",
    "        finally:\n",
    "            # Close the temporary connection\n",
    "            if self.cursor:\n",
    "                self.cursor.close()\n",
    "            if self.connection:\n",
    "                self.connection.close()\n",
    "                print(\"Temporary connection closed.\")\n",
    "        \n",
    "        # Reconnect to the new database\n",
    "        self.connect(database=self.database)\n",
    "        # Check the connection status again\n",
    "        if self.connection.is_connected():\n",
    "            print(f\"Connection to database '{self.database}' re-established.\")\n",
    "        else:\n",
    "            print(f\"Connection to database '{self.database}' failed.\")\n",
    "\n",
    "    def create_table(self, table_name, schema):\n",
    "        try:\n",
    "            # Create a table using the provided name and schema\n",
    "            self.cursor.execute(f\"CREATE TABLE IF NOT EXISTS {table_name} ({schema})\")\n",
    "            print(f\"Table '{table_name}' created or already exists.\")\n",
    "        except mysql.connector.Error as err:\n",
    "            print(f'Error creating table: {err}')\n",
    "\n",
    "    def insert_data(self, query, values):\n",
    "        try:\n",
    "            # Execute the query with the proportioned values\n",
    "            self.cursor.execute(query, values)\n",
    "            self.connection.commit()  # confirm the values and commit\n",
    "            print(f\"{self.cursor.rowcount} record(s) inserted.\")\n",
    "\n",
    "        except mysql.connector.Error as err:\n",
    "            print(f'Error inserting data: {err}')\n",
    "            print(\"Error Code:\", err.errno)\n",
    "            print(\"SQLSTATE:\", err.sqlstate)\n",
    "            print(\"Message:\", err.msg)\n",
    "\n",
    "    def close(self):\n",
    "        # Close cursor and connection\n",
    "        if self.cursor:\n",
    "            self.cursor.close()\n",
    "        if self.connection:\n",
    "            self.connection.close()\n",
    "        print(\"Database connection closed.\")\n"
   ]
  },
  {
   "cell_type": "code",
   "execution_count": 6,
   "metadata": {},
   "outputs": [],
   "source": [
    "# ▶️ Instantiating a class object 🐣\n",
    "\n",
    "db_hr = CreateDatabase(user =\"root\", password=\"AlumnaAdalab\", host= \"127.0.0.1\", database=\"HR_optimization\") # gives parameters to the database\n"
   ]
  },
  {
   "cell_type": "code",
   "execution_count": 7,
   "metadata": {},
   "outputs": [
    {
     "name": "stdout",
     "output_type": "stream",
     "text": [
      "Connection to database 'server' established successfully\n",
      "Temporary connection to server established for database creation.\n",
      "Database 'HR_optimization' created or already exists.\n",
      "Temporary connection closed.\n",
      "Connection to database 'HR_optimization' established successfully\n",
      "Connection to database 'HR_optimization' re-established.\n"
     ]
    }
   ],
   "source": [
    "# ▶️ Create the database#  \n",
    "db_hr.create_database()"
   ]
  },
  {
   "cell_type": "code",
   "execution_count": null,
   "metadata": {},
   "outputs": [],
   "source": [
    "# ▶️ Create Table\n",
    "\n",
    "# Define SQL statement for creating a table\n",
    "table_name = 'people'\n",
    "schema =\"id INT AUTO_INCREMENT PRIMARY KEY, name VARCHAR(100),age INT\"\n",
    "\n",
    "db_hr.create_table(table_name= , schema=)\n",
    "\n",
    "db_hr.close()"
   ]
  },
  {
   "cell_type": "code",
   "execution_count": null,
   "metadata": {},
   "outputs": [],
   "source": [
    "# ▶️ Insert Data\n",
    "\n",
    "\n",
    "# Define the insert query and values\n",
    "insert_query = \"INSERT INTO Table_name (name, address) VALUES (%s, %s)\"\n",
    "insert_values = (\"Ana\", \"123 Main Street\")\n",
    "\n",
    "# Call the insert_data method to perform the insertion\n",
    "db_hr.insert_data(insert_query, insert_values)\n",
    "\n",
    "# Close the database connection\n",
    "db_hr.close()"
   ]
  }
 ],
 "metadata": {
  "kernelspec": {
   "display_name": "base",
   "language": "python",
   "name": "python3"
  },
  "language_info": {
   "codemirror_mode": {
    "name": "ipython",
    "version": 3
   },
   "file_extension": ".py",
   "mimetype": "text/x-python",
   "name": "python",
   "nbconvert_exporter": "python",
   "pygments_lexer": "ipython3",
   "version": "3.11.9"
  }
 },
 "nbformat": 4,
 "nbformat_minor": 2
}
