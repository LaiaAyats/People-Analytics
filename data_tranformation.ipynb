{
 "cells": [
  {
   "cell_type": "code",
   "execution_count": null,
   "metadata": {},
   "outputs": [],
   "source": [
    "# Psssss READ ME! 👋👓\n",
    "# Highlevel code structure: \n",
    "    # 1) Import of packages, data and DataTransformer class\n",
    "    # 2) Execution of the transformation:\n",
    "        # 3.1) Creation of an object from DataTransformer class\n",
    "        # 3.2) Rename all columns\n",
    "        # 3.3) Transform data per column\n",
    "        # 3.4) Drop unnecessary columns\n",
    "        # 3.5) Save transformed data into a .csv file named \"hr_data_transformed.csv\" ⚠️ To change the name go to the end of the conde and assign the new name to \"file_name\"\n",
    "# Testing code:\n",
    "    # For each step of the process the program prints the results of a 'quick_check' so that it can be reviewed to confirm that is working correctly"
   ]
  },
  {
   "cell_type": "code",
   "execution_count": null,
   "metadata": {},
   "outputs": [],
   "source": [
    "# Imports 📥\n",
    "\n",
    "# Packages\n",
    "#-----------------------------------------------------------------------\n",
    "import pandas as pd\n",
    "import numpy as np\n",
    "\n",
    "# DataTransformer class\n",
    "import sys                  # allows manipulation of the module search path\n",
    "import os                   # to handle file paths more flexibly\n",
    "\n",
    "sys.path.append(os.path.abspath('People-Analytics'))    # Adds the People-Analytics folder to the sys.path, which allows Python to find the data_transformer module.\n",
    "\n",
    "from data_transformer.data_transformer import DataTransformer     # Import the DataTransformer class from the data_transformer.py file.\n",
    "\n",
    "\n",
    "# Settings\n",
    "# -----------------------------------------------------------------------\n",
    "pd.set_option('display.max_columns', None) # to see all columns in DataFrames\n",
    "\n",
    "\n",
    "# Data \n",
    "# -----------------------------------------------------------------------\n",
    "df = pd.read_csv(\"Exploratory_Data_Analysis/HR RAW DATA.csv\", index_col=0)"
   ]
  },
  {
   "cell_type": "code",
   "execution_count": null,
   "metadata": {},
   "outputs": [],
   "source": [
    "# print for testing\n",
    "\n",
    "df.head()"
   ]
  },
  {
   "cell_type": "code",
   "execution_count": null,
   "metadata": {},
   "outputs": [],
   "source": [
    "# ▶️ Instantiating a class object 🐣\n",
    "\n",
    "abc_data = DataTransformer(df)\n",
    "\n",
    "# print for testing\n",
    "abc_data.df.head(2)"
   ]
  },
  {
   "cell_type": "code",
   "execution_count": null,
   "metadata": {},
   "outputs": [],
   "source": [
    "# ▶️ Rename columns\n",
    "\n",
    "abc_data.rename_columns()\n",
    "\n",
    "# print for checking\n",
    "\n",
    "abc_data.df.head(1)"
   ]
  },
  {
   "cell_type": "code",
   "execution_count": null,
   "metadata": {},
   "outputs": [],
   "source": [
    "# ▶️ Transform \"age\" column data\n",
    "\n",
    "column_name = \"age\"\n",
    "# convert number written in letters into into numbers written in numbers\n",
    "\n",
    "abc_data.convert_age_to_numbers()\n",
    "\n",
    "# convert column to \"int\"\n",
    "\n",
    "abc_data.convert_to_numeric (column_name,\"integer\")\n",
    "\n",
    "# print for testing\n",
    "\n",
    "abc_data.quick_check(column_name)"
   ]
  },
  {
   "cell_type": "code",
   "execution_count": null,
   "metadata": {},
   "outputs": [],
   "source": [
    "# ▶️ Transform \"distance_from_home\" column data\n",
    "\n",
    "# Corrects negative values in the distance_from_home column\n",
    "\n",
    "abc_data.fix_negative_distances()\n",
    "\n",
    "# print for testing\n",
    "print(\"Printing 'distance_from_home' colum unique values for testing:\")\n",
    "print(abc_data.df[\"distance_from_home\"].unique())\n"
   ]
  },
  {
   "cell_type": "code",
   "execution_count": null,
   "metadata": {},
   "outputs": [],
   "source": [
    "# ▶️ Transform \"environment_satisfaction\" column data\n",
    "\n",
    "abc_data.correct_env_satisfaction_values()\n",
    "\n",
    "# print for testing\n",
    "\n",
    "abc_data.quick_check(\"environment_satisfaction\")\n",
    "\n",
    "acceptance_criteria = \"Data type is float and there isn't any value different than 1,2,3 or 4\"\n",
    "print (f\"\\nAcceptance criteria: {acceptance_criteria}\")"
   ]
  },
  {
   "cell_type": "code",
   "execution_count": null,
   "metadata": {},
   "outputs": [],
   "source": [
    "# ▶️ Transform \"gender\" column data\n",
    "\n",
    "# Replace the values in the Gender column with 'Male' and 'Female'\n",
    "\n",
    "abc_data.replace_gender_values()\n",
    "\n",
    "# print for checking\n",
    "\n",
    "abc_data.quick_check(\"gender\")\n",
    "\n",
    "acceptance_criteria = \"Unique values are male or female\"\n",
    "print (f\"\\nAcceptance criteria: {acceptance_criteria}\")"
   ]
  },
  {
   "cell_type": "code",
   "execution_count": null,
   "metadata": {},
   "outputs": [],
   "source": [
    "# ▶️ Transform \"hourly_rate\" column data\n",
    "\n",
    "abc_data.correct_hourly_rate()\n",
    "\n",
    "\n",
    "# print for testing\n",
    "abc_data.quick_check(\"hourly_rate\")\n",
    "\n",
    "acceptance_criteria = \"\"\n",
    "print (f\"\\nAcceptance criteria: {acceptance_criteria}\")\n"
   ]
  },
  {
   "cell_type": "code",
   "execution_count": null,
   "metadata": {},
   "outputs": [],
   "source": [
    "# ▶️ Transform \"monthly_income\" column data\n",
    "\n",
    "abc_data.transform_to_float(\"monthly_income\")\n",
    "\n",
    "# print for testing\n",
    "\n",
    "abc_data.quick_check(\"monthly_income\")\n",
    "\n",
    "acceptance_criteria = \"\\n- Datatye is numeric.\"\n",
    "print (f\"\\nAcceptance criteria: {acceptance_criteria}\")"
   ]
  },
  {
   "cell_type": "code",
   "execution_count": null,
   "metadata": {},
   "outputs": [],
   "source": [
    "# ▶️ Transform \"performance_rating\" column data\n",
    "\n",
    "abc_data.transform_to_float(\"performance_rating\")\n",
    "\n",
    "\n",
    "# print for testing\n",
    "\n",
    "abc_data.quick_check(\"performance_rating\")\n",
    "\n",
    "acceptance_criteria = \"\\n- Datatye is numeric.\"\n",
    "print (f\"\\nAcceptance criteria: {acceptance_criteria}\")"
   ]
  },
  {
   "cell_type": "code",
   "execution_count": null,
   "metadata": {},
   "outputs": [],
   "source": [
    "# ▶️ Transform \"total_working_years\" column data\n",
    "\n",
    "abc_data.transform_to_float(\"total_working_years\")\n",
    "\n",
    "abc_data.quick_check(\"total_working_years\")\n",
    "\n",
    "acceptance_criteria = \"\\n- Datatye is numeric.\"\n",
    "print (f\"\\nAcceptance criteria: {acceptance_criteria}\")"
   ]
  },
  {
   "cell_type": "code",
   "execution_count": null,
   "metadata": {},
   "outputs": [],
   "source": [
    "# ▶️ Transform \"work_life_balance\" column data\n",
    "\n",
    "abc_data.transform_to_float(\"work_life_balance\")\n",
    "\n",
    "# print for testing\n",
    "abc_data.quick_check(\"work_life_balance\")\n",
    "\n",
    "acceptance_criteria = \"\\n- Datatye is numeric.\"\n",
    "print (f\"\\nAcceptance criteria: {acceptance_criteria}\")"
   ]
  },
  {
   "cell_type": "code",
   "execution_count": null,
   "metadata": {},
   "outputs": [],
   "source": [
    "# ▶️ Transform \"marital_status\" data\n",
    "\n",
    "abc_data.correct_typos_marital_status()\n",
    "\n",
    "# print for testing\n",
    "\n",
    "abc_data.quick_check(\"marital_status\")\n",
    "acceptance_criteria = \"\\n- Unique values are either NaN, 'Married', 'Divorced' or 'Single' and there is no missspelling\"\n",
    "print (f\"\\nAcceptance criteria: {acceptance_criteria}\")"
   ]
  },
  {
   "cell_type": "code",
   "execution_count": null,
   "metadata": {},
   "outputs": [],
   "source": [
    "# ▶️ convert_object_to_float_eliminate_dolar\n",
    "\n",
    "abc_data.convert_object_to_float_eliminate_dolar(\"daily_rate\")\n",
    "\n",
    "abc_data.quick_check(\"daily_rate\")"
   ]
  },
  {
   "cell_type": "code",
   "execution_count": null,
   "metadata": {},
   "outputs": [],
   "source": [
    "# ▶️ Transform \"remote work\"\n",
    "abc_data.map_column_remote_work()\n",
    "\n",
    "abc_data.quick_check(\"remote_work\")"
   ]
  },
  {
   "cell_type": "code",
   "execution_count": null,
   "metadata": {},
   "outputs": [],
   "source": [
    "# ▶️ Convert_role_to_department and normalize job_role letters\n",
    "\n",
    "abc_data.convert_role_to_department_normalize_job_role()\n",
    "\n",
    "# prints for testing\n",
    "\n",
    "print(\"\\n\")\n",
    "abc_data.quick_check(\"job_role\")\n",
    "\n",
    "print(\"\\n\")\n",
    "abc_data.quick_check(\"department\")\n",
    "\n",
    "abc_data.df[[\"job_role\",\"department\"]].sample(50)\n"
   ]
  },
  {
   "cell_type": "code",
   "execution_count": null,
   "metadata": {},
   "outputs": [],
   "source": [
    "# ▶️ Drop un-needed coulumns\n",
    "\n",
    "columns_to_delete = [\"employee_count\", \"same_as_monthly_income\", \"salary\", \"number_children\", \"standard_hours\", \"years_in_current_role\", \"over_18\", \"role_departament\"]\n",
    "\n",
    "abc_data.drop_redundant_columns(columns_to_delete)\n",
    "\n",
    "# print for testing\n",
    "\n",
    "for i in range(len(columns_to_delete)):\n",
    "    try:\n",
    "        print(abc_data.df[i])\n",
    "    except: \n",
    "        print(f\"Column '{columns_to_delete[i]}' deleted\")"
   ]
  },
  {
   "cell_type": "code",
   "execution_count": null,
   "metadata": {},
   "outputs": [],
   "source": [
    "# ▶️ Transform \"employee_number\" data: remove duplicates and change format to float\n",
    "\n",
    "abc_data.remove_duplicates()\n",
    "\n",
    "abc_data.transform_to_float(\"employee_number\")\n",
    "\n",
    "# print for testing\n",
    "\n",
    "abc_data.quick_check(\"employee_number\")\n",
    "acceptance_criteria = \"\\n- There are no duplicates other than NaN\\n- Datatype is numeric\"\n",
    "print (f\"\\nAcceptance criteria: {acceptance_criteria}\")"
   ]
  },
  {
   "cell_type": "code",
   "execution_count": null,
   "metadata": {},
   "outputs": [],
   "source": [
    "# ▶️ Change nulls for unknown category in categorial variable\n",
    "\n",
    "# if we want to change more than one column , put a list\n",
    "columns_modify = []\n",
    "abc_data.change_null_for_unknown(columns_modify)\n",
    "\n",
    "\n",
    "# print for tasting\n",
    "\n",
    "for column in columns_modify:\n",
    "    abc_data.quick_check(column)\n",
    "    print(\"--------------------------------\")\n"
   ]
  },
  {
   "cell_type": "code",
   "execution_count": null,
   "metadata": {},
   "outputs": [],
   "source": [
    "# ▶️ Change nulls for mode in categorical variable\n",
    "\n",
    "# if we want to change more than one column, put a list\n",
    "columns_modify = []\n",
    "abc_data.change_null_for_mode(columns_modify)\n",
    "\n",
    "\n",
    "# print for tasting\n",
    "for column in columns_modify:\n",
    "    abc_data.quick_check(column)\n",
    "    print(\"--------------------------------\")\n"
   ]
  },
  {
   "cell_type": "code",
   "execution_count": null,
   "metadata": {},
   "outputs": [],
   "source": [
    "# ▶️ Change nulls for mean in numerical variable when we have a 0-10% of nulls in numerical category and distribution is normal\n",
    "\n",
    "# if we want to change more than one column , put a list\n",
    "columns_modify = []\n",
    "abc_data.change_null_for_mean(columns_modify)\n",
    "\n",
    "# print for tasting\n",
    "for column in columns_modify:\n",
    "    abc_data.quick_check(column)\n",
    "    print(\"--------------------------------\")"
   ]
  },
  {
   "cell_type": "code",
   "execution_count": null,
   "metadata": {},
   "outputs": [],
   "source": [
    "# ▶️ Change nulls for median in numerical variable when we have a 0-10% of nulls in numerical category and distribution is atypical\n",
    "\n",
    "# if we want to change more than one column , put a list\n",
    "columns_modify = []\n",
    "abc_data.change_null_for_median(columns_modify)\n",
    "\n",
    "# print for tasting\n",
    "for column in columns_modify:\n",
    "    abc_data.quick_check(column)\n",
    "    print(\"--------------------------------\")"
   ]
  },
  {
   "cell_type": "code",
   "execution_count": null,
   "metadata": {},
   "outputs": [],
   "source": [
    "# ▶️ Change nulls for distribution KNN in numerical variable when we have more 10% of nulls in numerical category \n",
    "\n",
    "# if we want to change more than one column , put a list\n",
    "columns_modify = []\n",
    "abc_data.change_null_for_mean(columns_modify)\n",
    "\n",
    "\n",
    "# print for tasting\n",
    "for column in columns_modify:\n",
    "    abc_data.quick_check(column)\n",
    "    print(\"--------------------------------\")"
   ]
  },
  {
   "cell_type": "code",
   "execution_count": null,
   "metadata": {},
   "outputs": [],
   "source": [
    "# ▶️ create .csv\n",
    "\n",
    "file_name =             # add a name with '.csv at the end\n",
    "\n",
    "try:\n",
    "    abc_data.create_csv(file_name)\n",
    "    print (f\"{file_name} created ✅ {abc_data.df.shape[0]} rows, {abc_data.df.shape[1]} columns.\")\n",
    "except:\n",
    "    print(\"Error❌ 'file_name' is needed. Please assign a name for the final output with the transformed data to continue\")"
   ]
  }
 ],
 "metadata": {
  "kernelspec": {
   "display_name": "base",
   "language": "python",
   "name": "python3"
  },
  "language_info": {
   "codemirror_mode": {
    "name": "ipython",
    "version": 3
   },
   "file_extension": ".py",
   "mimetype": "text/x-python",
   "name": "python",
   "nbconvert_exporter": "python",
   "pygments_lexer": "ipython3",
   "version": "3.9.12"
  }
 },
 "nbformat": 4,
 "nbformat_minor": 2
}
