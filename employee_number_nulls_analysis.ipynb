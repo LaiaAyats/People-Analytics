{
 "cells": [
  {
   "cell_type": "code",
   "execution_count": null,
   "metadata": {},
   "outputs": [],
   "source": [
    "# Imports 📥\n",
    "\n",
    "# Packages\n",
    "#-----------------------------------------------------------------------\n",
    "import pandas as pd\n",
    "import numpy as np\n",
    "\n",
    "# DataTransformer class\n",
    "import sys                  # allows manipulation of the module search path\n",
    "import os                   # to handle file paths more flexibly\n",
    "\n",
    "sys.path.append(os.path.abspath('People-Analytics'))    # Adds the People-Analytics folder to the sys.path, which allows Python to find the data_transformer module.\n",
    "\n",
    "from data_transformer.data_transformer import DataTransformer     # Import the DataTransformer class from the data_transformer.py file.\n",
    "\n",
    "# Settings\n",
    "# -----------------------------------------------------------------------\n",
    "pd.set_option('display.max_columns', None) # to see all columns in DataFrames"
   ]
  },
  {
   "cell_type": "code",
   "execution_count": null,
   "metadata": {},
   "outputs": [],
   "source": [
    "# Import data \n",
    "# -----------------------------------------------------------------------\n",
    "df1 = pd.read_csv(\"hr_data_transformed.csv\", index_col=0)"
   ]
  },
  {
   "cell_type": "code",
   "execution_count": null,
   "metadata": {},
   "outputs": [],
   "source": [
    "# Import data \n",
    "# -----------------------------------------------------------------------\n",
    "df2 = pd.read_csv(\"hr_data_transformed.csv\", index_col=0)"
   ]
  },
  {
   "cell_type": "code",
   "execution_count": null,
   "metadata": {},
   "outputs": [],
   "source": [
    "# create an object called \"analysis1\"\n",
    "\n",
    "analysis1 = DataTransformer(df1)"
   ]
  },
  {
   "cell_type": "code",
   "execution_count": null,
   "metadata": {},
   "outputs": [],
   "source": [
    "# create an object called \"analysis2\"\n",
    "\n",
    "analysis2 = DataTransformer(df2)"
   ]
  },
  {
   "cell_type": "code",
   "execution_count": null,
   "metadata": {},
   "outputs": [],
   "source": [
    "# Explore the dataframe\n",
    "\n",
    "df1.head(2)"
   ]
  },
  {
   "cell_type": "code",
   "execution_count": null,
   "metadata": {},
   "outputs": [],
   "source": [
    "# Explore \"employee_number\" column\n",
    "\n",
    "analysis1.quick_check(\"employee_number\")"
   ]
  },
  {
   "cell_type": "code",
   "execution_count": null,
   "metadata": {},
   "outputs": [],
   "source": [
    "# remove \"employee_number\" column\n",
    "\n",
    "analysis1.drop_redundant_columns(\"employee_number\")"
   ]
  },
  {
   "cell_type": "code",
   "execution_count": null,
   "metadata": {},
   "outputs": [],
   "source": [
    "# check if there are any duplicates\n",
    "\n",
    "analysis1.df.duplicated(keep=False).sum()"
   ]
  },
  {
   "cell_type": "code",
   "execution_count": null,
   "metadata": {},
   "outputs": [],
   "source": [
    "# explore duplicated rows\n",
    "\n",
    "duplicates = analysis1.df[analysis1.df.duplicated(keep=False)]\n",
    "duplicates.sort_values(by=\"age\")"
   ]
  },
  {
   "cell_type": "code",
   "execution_count": null,
   "metadata": {},
   "outputs": [],
   "source": [
    "# remove \"remote_work\" column\n",
    "\n",
    "analysis2.drop_redundant_columns(\"remote_work\")"
   ]
  },
  {
   "cell_type": "code",
   "execution_count": null,
   "metadata": {},
   "outputs": [],
   "source": [
    "# check if there are any duplicates\n",
    "\n",
    "analysis2.df.duplicated(keep=False).sum()"
   ]
  },
  {
   "cell_type": "code",
   "execution_count": null,
   "metadata": {},
   "outputs": [],
   "source": [
    "# explore duplicated rows\n",
    "\n",
    "duplicates = analysis2.df[analysis2.df.duplicated(keep=False)]\n",
    "duplicates.sort_values(by=\"age\")"
   ]
  },
  {
   "cell_type": "markdown",
   "metadata": {},
   "source": [
    "# Conclusiones\n",
    "\n",
    "1. Al eliminar la columna \"employee_number\" del .csv de datos transformados se detectan 13 registros duplicados.\n",
    "\n",
    "2. Al profundizar el análisis y eliminar la columna \"remote_work\" (esto se hizo porque se trata de una columna conflictiva), se identifican 30 registros duplicados."
   ]
  }
 ],
 "metadata": {
  "kernelspec": {
   "display_name": "base",
   "language": "python",
   "name": "python3"
  },
  "language_info": {
   "codemirror_mode": {
    "name": "ipython",
    "version": 3
   },
   "file_extension": ".py",
   "mimetype": "text/x-python",
   "name": "python",
   "nbconvert_exporter": "python",
   "pygments_lexer": "ipython3",
   "version": "3.9.12"
  }
 },
 "nbformat": 4,
 "nbformat_minor": 2
}
